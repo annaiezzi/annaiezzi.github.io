{
 "cells": [
  {
   "cell_type": "markdown",
   "id": "fcaeb96a",
   "metadata": {},
   "source": [
    "## 1. Calculer l'inverse dans $\\mathbb Z/n\\mathbb Z$"
   ]
  },
  {
   "cell_type": "markdown",
   "id": "a05161a2",
   "metadata": {},
   "source": [
    "Dans ce TP vous avez droit à utiliser toutes les fonctions Sagemath que vous avez contruites auparavant par vous mêmes. Par exemple `gcd`, `xgcd`, `is_prime`, `next_prime`, `factor`, etc. Utilisez la documentation si besoin."
   ]
  },
  {
   "cell_type": "markdown",
   "id": "643056ef",
   "metadata": {},
   "source": [
    "**Exercice 1.** \n",
    "1. Écrire une fonction `ElementsInversibles(n)` qui, étant donné $n\\in\\mathbb Z_{>0}$, calcule $\\left(\\mathbb Z/n\\mathbb Z\\right)^{\\times}$, c'est-à-dire l'ensemble des éléments inversibles sous forme de liste.\n",
    "2. Contruire la liste les éléments inversibles de $\\mathbb Z/323\\mathbb Z$. Est-il possible d'établir si 323 est premier, juste en regardant la longueur de cette liste?"
   ]
  },
  {
   "cell_type": "code",
   "execution_count": null,
   "id": "3ca657be",
   "metadata": {},
   "outputs": [],
   "source": []
  },
  {
   "cell_type": "markdown",
   "id": "ee5b1f67",
   "metadata": {},
   "source": [
    "**Exercice 2.** La fonction phi d'Euler, noté $\\varphi(n)$, est définie comme le nombre d'entiers $a$, avec $1\\leq a\\leq n$, qui sont premiers avec n. Voici comment calculer $\\varphi(n)$\n",
    "- Si $n$ est un nombre premier, alors tous les entiers de 1 à $n-1$ sont premiers avec $n$, donc $\\varphi(n)=n-1$.\n",
    "- Si $n$ a la décomposition en facteurs premiers\n",
    "$$n=p_1^{e_1}p_2^{e_2}\\cdots p_r^{e_r},$$\n",
    "alors $\\varphi(n)=\\left(p_1^{e_1}-p_1^{e_1-1}\\right)\\left(p_2^{e_2}-p_2^{e_2-1}\\right)\\cdots \\left(p_r^{e_r}-p_r^{e_r-1}\\right)$.\n",
    "\n",
    "Écrire une fonction `PhiEuler(n)` qui prend un entier $n>0$ en entrée et qui calcule $\\varphi(n)$.\n"
   ]
  },
  {
   "cell_type": "code",
   "execution_count": null,
   "id": "e10beb56",
   "metadata": {},
   "outputs": [],
   "source": []
  },
  {
   "cell_type": "markdown",
   "id": "7ab49de9",
   "metadata": {},
   "source": [
    "**Exercice 3.** Vérifier, pour des entiers aléatoires $n>0$, que la longueur de la liste `ElementsInversibles(n)` est égale `PhiEuler(n)`."
   ]
  },
  {
   "cell_type": "code",
   "execution_count": null,
   "id": "a139dd0f",
   "metadata": {},
   "outputs": [],
   "source": []
  },
  {
   "cell_type": "markdown",
   "id": "f9f27c6b",
   "metadata": {},
   "source": [
    "**Exercice 4.** Soit $a\\in \\mathbb Z/n\\mathbb Z$. Écrire une fonction `InverseMod(a,n)` qui calcule l'inverse de $a$ modulo $n$, s'il existe, et qui envoie une erreur sinon. "
   ]
  },
  {
   "cell_type": "code",
   "execution_count": null,
   "id": "3835f326",
   "metadata": {},
   "outputs": [],
   "source": []
  },
  {
   "cell_type": "markdown",
   "id": "07d71e57",
   "metadata": {},
   "source": [
    "## 2. Congruences linéaires"
   ]
  },
  {
   "cell_type": "markdown",
   "id": "598e72bb",
   "metadata": {},
   "source": [
    "**Exercice 5.** \n",
    "1. Soit $a,b\\in \\mathbb Z$ et $n\\in\\mathbb Z_{>0}$. Écrire une fonction `ResolutionCongruence(a,b,n)` qui calcule une solution $z$ de l'équation $az\\equiv b\\pmod{n}$, si elle existe, et qui renvoie une erreure sinon. \n",
    "2. Tester votre fonction avec les congruences linéaires de l'éxercice 5(a) du TD3."
   ]
  },
  {
   "cell_type": "code",
   "execution_count": null,
   "id": "1e34605d",
   "metadata": {},
   "outputs": [],
   "source": []
  },
  {
   "cell_type": "markdown",
   "id": "db249194",
   "metadata": {},
   "source": [
    "## 3. Théorème chinois des restes"
   ]
  },
  {
   "cell_type": "markdown",
   "id": "fa618eaa",
   "metadata": {},
   "source": [
    "**Exercice 6.** Écrire une fonction `RestesChinois` qui prend en entrée deux listes ($a_1$, …, $a_k$) et ($n_1$, …, $n_k$) et renvoie l'unique entier $z < \\prod_i n_i$ qui vérifie $z\\equiv a_i \\pmod{n_i}$ pour tout $i=1,\\ldots,k$.\n",
    "\n",
    "*Votre fonction doit vérifier que les entrées sont correctes, c'est-à-dire que les deux listes ont la même longueur, et que les $n_i$ sont premiers deux à deux.* "
   ]
  },
  {
   "cell_type": "code",
   "execution_count": null,
   "id": "932e4679",
   "metadata": {},
   "outputs": [],
   "source": []
  },
  {
   "cell_type": "markdown",
   "id": "dd8aa708",
   "metadata": {},
   "source": [
    "**Exercice 7.** Lire la documentation de la fonction `prod` et écrire une nouvelle version de `ResteChinois` qui l'utilise. On peut aussi utiliser la fonction `sum` de la même façon."
   ]
  },
  {
   "cell_type": "code",
   "execution_count": null,
   "id": "a67ced78",
   "metadata": {},
   "outputs": [],
   "source": []
  },
  {
   "cell_type": "markdown",
   "id": "4c5e7ab9",
   "metadata": {},
   "source": [
    "**Exercice 8.** Le théorème chinois permet de définir une bijection entre $\\{0,…,n_1-1\\}×\\dotsb×\\{0,…,n_k-1\\}$ et $\\{0,…,N-1\\}$ où $N = \\prod_{i=1}^k n_i$. Quel sens de la bijection est fourni par `RestesChinois` ? Écrire la fonction réciproque, et tester que les deux fonctions sont bien réciproques l'une de l'autre."
   ]
  },
  {
   "cell_type": "code",
   "execution_count": null,
   "id": "15a504b0",
   "metadata": {},
   "outputs": [],
   "source": []
  },
  {
   "cell_type": "markdown",
   "id": "e240351a",
   "metadata": {},
   "source": [
    "## 4. RSA simplifié\n",
    "\n",
    "RSA (Rivest-Shamir-Adleman) est un algorithme de chiffrement à clé publique largement utilisé dans la cryptographie moderne. Sa sécurité repose sur la difficulté de factoriser de grands nombres entiers, en particulier lorsqu'ils sont le produit de deux grands nombres premiers.\n",
    "\n",
    "Le but de cet exercice est d'implanter les algorithmes nécessaires pour une version simplifiée du cryptosystème RSA. "
   ]
  },
  {
   "cell_type": "markdown",
   "id": "6f0247ed",
   "metadata": {},
   "source": [
    "**Exercice 9.** Écrire une fonction `RSA_KeyGen(b)` qui prend en entrée un entier $b$ et génère un couple de clefs *publique* et *privée* $(pk,sk)$ selon l'algorithme suivant :\n",
    "\n",
    "1. tirer aléatoirement deux nombres premiers $p$ et $q$ de $b$ bits ;\n",
    "2. calculer $N = p\\times q$ et $\\varphi(N) = (p-1)\\times(q-1)$ ;\n",
    "3. tirer aléatoirement un entier $1<e<\\varphi(N)$ premier avec $\\varphi(N)$ ;\n",
    "4. calculer l'inverse $d$ de $e$ modulo $φ(N)$ ;\n",
    "5. renvoyer $pk = (N, e)$ et $sk = d$.\n",
    "    \n",
    "Utiliser la fonction pour générer un couple de clefs de $100$ bits."
   ]
  },
  {
   "cell_type": "code",
   "execution_count": null,
   "id": "26408521",
   "metadata": {},
   "outputs": [],
   "source": []
  },
  {
   "cell_type": "markdown",
   "id": "4f1e3031",
   "metadata": {},
   "source": [
    "**Exercice 10.** Écrire une fonction `RSA_Encrypt(m, pk)` qui prend en entrée un entier $m<N$ et une clef publique $pk = (N,e)$, et renvoie le *chiffré* $c\\in \\mathbb Z/N\\mathbb Z\\times \\in \\mathbb Z/N\\mathbb Z$ de $m∈\\mathbb Z$ avec la clef $pk$, selon l'algorithme suivant :\n",
    "\n",
    "1. tirer aléatoirement un élément $r$ *inversible* dans $\\mathbb Z/N\\mathbb Z$ ;\n",
    "2. calculer l'élément $s = (m\\times r)^e\\in \\mathbb Z/N\\mathbb Z$ ;\n",
    "3. renvoyer $c = (s,r)$.\n",
    "   \n",
    "Utiliser la fonction pour chiffrer un message $m$ de votre choix avec la clef publique de la question précédente."
   ]
  },
  {
   "cell_type": "code",
   "execution_count": null,
   "id": "188a9a3c",
   "metadata": {},
   "outputs": [],
   "source": []
  },
  {
   "cell_type": "markdown",
   "id": "1206f713",
   "metadata": {},
   "source": [
    "**Exercice 11.** Écrire une fonction `RSA_Decrypt(c, sk)` qui prend en entrée $c = (s,r)\\in \\mathbb Z/N\\mathbb Z \\times \\mathbb Z/N\\mathbb Z$ et la clef privée $sk = d$, et renvoie le message $m$ avec l'algorithme suivant :\n",
    "\n",
    "1. calculer $m= s^d×r^{-1}\\in \\mathbb Z/N\\mathbb Z$ ;\n",
    "2. renvoyer $m$.\n",
    "    \n",
    "Utiliser la fonction pour déchiffrer le chiffré de la question précédente (et vérifier qu'on retrouve bien le message d'origine)."
   ]
  },
  {
   "cell_type": "code",
   "execution_count": null,
   "id": "d4362138",
   "metadata": {},
   "outputs": [],
   "source": []
  },
  {
   "cell_type": "markdown",
   "id": "ab036ece",
   "metadata": {},
   "source": [
    "**Exercice 12.** Écrire une fonction de test `RSA_test(b)` qui génére un couple de clefs de $b$ bits, tire aléatoirement un message $m∈ℤ$, calcule son chiffré, puis déchiffre le chiffré et vérifie si on retrouve bien le message de départ. Utiliser la fonction dans une boucle pour vérifier vos algorithmes, avec valeurs de $b$ jusqu'à 1000 bits."
   ]
  },
  {
   "cell_type": "code",
   "execution_count": null,
   "id": "d47d8b00",
   "metadata": {},
   "outputs": [],
   "source": []
  }
 ],
 "metadata": {
  "kernelspec": {
   "display_name": "SageMath 9.6",
   "language": "sage",
   "name": "sagemath-9.6"
  },
  "language_info": {
   "codemirror_mode": {
    "name": "ipython",
    "version": 3
   },
   "file_extension": ".py",
   "mimetype": "text/x-python",
   "name": "python",
   "nbconvert_exporter": "python",
   "pygments_lexer": "ipython3",
   "version": "3.10.3"
  }
 },
 "nbformat": 4,
 "nbformat_minor": 5
}
