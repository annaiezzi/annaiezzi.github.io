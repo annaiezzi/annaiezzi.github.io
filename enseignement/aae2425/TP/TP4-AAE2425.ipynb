{
 "cells": [
  {
   "cell_type": "markdown",
   "id": "82993029",
   "metadata": {},
   "source": [
    "# $ℤ/nℤ$, groupes, etc. dans SageMath"
   ]
  },
  {
   "cell_type": "markdown",
   "id": "dea05808",
   "metadata": {},
   "source": [
    "<font color=\"red\">**Consigne :** lire le sujet dans l'ordre et **exécuter chaque cellule de code pré-remplie** pour observer le résultat avant de continuer.</font>"
   ]
  },
  {
   "cell_type": "markdown",
   "id": "cde4d8aa",
   "metadata": {},
   "source": [
    "## 1. Construire $ℤ/nℤ$"
   ]
  },
  {
   "cell_type": "markdown",
   "id": "aba262a1",
   "metadata": {},
   "source": [
    "Dans SageMath, on peut construire l'*anneau* $ℤ/nℤ$ avec la commande `IntegerModRing(n)`. Les calculs se font alors selon les règles de l'anneau. Attention: pour travailler avec des entiers modulo $n$ et effectuer des opérations arithmétiques modulaires, il faut passer les entiers en arguments à l'anneau.\n",
    "\n",
    "*Remarque.* Le constructeur `IntegerModRing` possède deux alias (c'est-à-dire deux raccourcis), `Integers` et `Zmod`."
   ]
  },
  {
   "cell_type": "code",
   "execution_count": 1,
   "id": "429243ab",
   "metadata": {},
   "outputs": [
    {
     "name": "stdout",
     "output_type": "stream",
     "text": [
      "Ring of integers modulo 6\n"
     ]
    },
    {
     "data": {
      "text/plain": [
       "(1, 0, 2)"
      ]
     },
     "execution_count": 1,
     "metadata": {},
     "output_type": "execute_result"
    }
   ],
   "source": [
    "A = IntegerModRing(6) # ℤ/6ℤ\n",
    "print(A)\n",
    "a, b, c, d = A(0), A(1), A(3), A(5)\n",
    "a+b, b+d, c+d"
   ]
  },
  {
   "cell_type": "code",
   "execution_count": 2,
   "id": "aca542d8",
   "metadata": {},
   "outputs": [
    {
     "data": {
      "text/plain": [
       "True"
      ]
     },
     "execution_count": 2,
     "metadata": {},
     "output_type": "execute_result"
    }
   ],
   "source": [
    "IntegerModRing(17) is Integers(17) is Zmod(17) # alias"
   ]
  },
  {
   "cell_type": "markdown",
   "id": "8aecb13b",
   "metadata": {},
   "source": [
    "On peut également explorer certaines propriétés des éléments. Pour cela, chaque élément a des méthodes qui lui sont associées. Par exemple, on peut calculer l'ordre d'un élément $g$ dans le groupe additif $(ℤ/nℤ,+)$ avec `g.additive_order()`, on peut tester s'il est inversible (on dit que c'est une *unité*) avec `g.is_unit()`, et dans ce cas calculer son ordre dans le groupe multiplicatif $(ℤ/nℤ^×,×)$ avec `g.multiplicative_order()`."
   ]
  },
  {
   "cell_type": "code",
   "execution_count": 6,
   "id": "30805be2",
   "metadata": {},
   "outputs": [
    {
     "data": {
      "text/plain": [
       "(2, False)"
      ]
     },
     "execution_count": 6,
     "metadata": {},
     "output_type": "execute_result"
    }
   ],
   "source": [
    "c.additive_order(), c.is_unit()"
   ]
  },
  {
   "cell_type": "code",
   "execution_count": 7,
   "id": "a1f0078f",
   "metadata": {},
   "outputs": [
    {
     "data": {
      "text/plain": [
       "(6, True, 2)"
      ]
     },
     "execution_count": 7,
     "metadata": {},
     "output_type": "execute_result"
    }
   ],
   "source": [
    "d.additive_order(), d.is_unit(), d.multiplicative_order()"
   ]
  },
  {
   "cell_type": "markdown",
   "id": "9d5b8e07",
   "metadata": {},
   "source": [
    "Pour calculer l'inverse d'un élément $g$ inversible, plusieurs solutions sont possibles : soit écrire directement  `1/g` ou `g^-1`, soit utiliser le symbole « ~ » qui dans SageMath signifie « inverse » en écrivant `~g`, soit appeler la méthode `g.inverse_of_unit()` (on remarque qu'il est dit explicitement dans le nom de la méthode que l'on ne peut inverser que des *unités*). "
   ]
  },
  {
   "cell_type": "code",
   "execution_count": 8,
   "id": "b335e6b5",
   "metadata": {},
   "outputs": [
    {
     "data": {
      "text/plain": [
       "(5, 5, 5, 5)"
      ]
     },
     "execution_count": 8,
     "metadata": {},
     "output_type": "execute_result"
    }
   ],
   "source": [
    "1/d, d^-1, ~d, d.inverse_of_unit()"
   ]
  },
  {
   "cell_type": "code",
   "execution_count": 9,
   "id": "5d90e8d8",
   "metadata": {},
   "outputs": [
    {
     "data": {
      "text/plain": [
       "True"
      ]
     },
     "execution_count": 9,
     "metadata": {},
     "output_type": "execute_result"
    }
   ],
   "source": [
    "d * ~d == ~d * d == A.one() # one() permet de renvoyer le \"1\" de l'anneau"
   ]
  },
  {
   "cell_type": "markdown",
   "id": "dc5bfb53",
   "metadata": {},
   "source": [
    "SageMath permet également de travailler directement sur l'anneau. Par exemple, on peut obtenir quelques propriétés."
   ]
  },
  {
   "cell_type": "code",
   "execution_count": 10,
   "id": "c7087c07",
   "metadata": {},
   "outputs": [
    {
     "name": "stdout",
     "output_type": "stream",
     "text": [
      "A est un anneau : True\n",
      "Son ordre est : 6\n",
      "A est intègre : False\n",
      "A est un corps : False\n"
     ]
    }
   ],
   "source": [
    "print(\"A est un anneau :\",A.is_ring())\n",
    "print(\"Son ordre est :\", A.order())\n",
    "print(\"A est intègre :\", A.is_integral_domain())\n",
    "print(\"A est un corps :\", A.is_field())"
   ]
  },
  {
   "cell_type": "markdown",
   "id": "0c41e40a",
   "metadata": {},
   "source": [
    "**Exercice 1.**\n",
    "\n",
    "1. Construire l'anneau $ℤ/16ℤ$ et répondre aux questions suivantes :\n",
    "    1. Parmi les éléments $2$, $4$, $5$, $6$, $13$ et $15$, lesquels sont inversibles ?\n",
    "    1. Calculer l'ordre multiplicatif des inversibles.\n",
    "2. Répondre aux mêmes questions pour l'anneau $ℤ/17ℤ$."
   ]
  },
  {
   "cell_type": "code",
   "execution_count": null,
   "id": "e097fdf6",
   "metadata": {},
   "outputs": [],
   "source": []
  },
  {
   "cell_type": "markdown",
   "id": "692f594a",
   "metadata": {},
   "source": [
    "## 2. Le groupe des inversibles $ℤ/nℤ^×$"
   ]
  },
  {
   "cell_type": "markdown",
   "id": "ecb0ae75",
   "metadata": {},
   "source": [
    "SageMath sait calculer le groupe des inversibles de $ℤ/nℤ$, de plusieurs manières. La première consiste à lister les éléments qui en font partie, ou à tester si ce groupe est cyclique, ou encore à calculer son ordre. *On remarque que selon les cas, SageMath utilise soit « multiplicative group » soit « unit group » : les deux sont synonymes et désignent le groupe des inversibles.*"
   ]
  },
  {
   "cell_type": "code",
   "execution_count": 11,
   "id": "ec3bbdfb",
   "metadata": {},
   "outputs": [
    {
     "data": {
      "text/plain": [
       "([1, 5, 7, 11, 13, 17, 19, 23, 25, 29, 31, 35], False, 12)"
      ]
     },
     "execution_count": 11,
     "metadata": {},
     "output_type": "execute_result"
    }
   ],
   "source": [
    "A = Zmod(36)\n",
    "A.list_of_elements_of_multiplicative_group(), A.multiplicative_group_is_cyclic(), A.unit_group_order()"
   ]
  },
  {
   "cell_type": "markdown",
   "id": "955d549b",
   "metadata": {},
   "source": [
    "L'autre façon est de calculer *vraiment* le groupe des inversibles, avec `A.unit_group()`. On obtient une description un peu cryptique, qui signifie (dans ce cas) : « le groupe des inversibles de `A` est un groupe multiplicatif abélien, isomorphe au groupe $C_2×C_6$ » où $C_k$ désigne le groupe (multiplicatif) cyclique d'ordre $k$, qui est isomorphe à $(ℤ/kℤ,+)$. On peut décrire $C_k$ de la manière suivante : il possède un générateur $g$ qui vérifie $g^k = 1$ et $g^ℓ ≠ 1$ pour $0<ℓ<k$ ; autrement dit, $C_k = \\{g^0, g^1, …, g^{k-1}\\}$."
   ]
  },
  {
   "cell_type": "code",
   "execution_count": 12,
   "id": "266494a0",
   "metadata": {},
   "outputs": [
    {
     "data": {
      "text/plain": [
       "Multiplicative Abelian group isomorphic to C2 x C6"
      ]
     },
     "execution_count": 12,
     "metadata": {},
     "output_type": "execute_result"
    }
   ],
   "source": [
    "G = A.unit_group()\n",
    "G"
   ]
  },
  {
   "cell_type": "markdown",
   "id": "40fcf3c1",
   "metadata": {},
   "source": [
    "Si on liste les éléments de $G$, on s'aperçoit qu'ils n'ont rien à voir avec notre $ℤ/36ℤ$ de départ ! SageMath décrit $G$ grâce à deux *générateurs* (qu'il a appelé `f0` et `f1`, arbitrairement). Le *produit cartésien* $C_2×C_6$ s'obtient en prenant tous les produits possibles entre les éléments de $C_2 = \\{1,f_0\\}$ et ceux de $C_6 = \\{1, f_1, …, f_1^5\\}$."
   ]
  },
  {
   "cell_type": "code",
   "execution_count": 13,
   "id": "002a2e3e",
   "metadata": {},
   "outputs": [
    {
     "name": "stdout",
     "output_type": "stream",
     "text": [
      "(1, f1, f1^2, f1^3, f1^4, f1^5, f0, f0*f1, f0*f1^2, f0*f1^3, f0*f1^4, f0*f1^5)\n"
     ]
    },
    {
     "data": {
      "text/plain": [
       "(1, 1)"
      ]
     },
     "execution_count": 13,
     "metadata": {},
     "output_type": "execute_result"
    }
   ],
   "source": [
    "print(G.list())   # on vérifie qu'il y a bien 12 éléments, comme indiqué par A.unit_group_order() au dessus\n",
    "f0, f1 = G.gens() # on récupère les générateurs de G\n",
    "f0^2, f1^6        # pourquoi ce résultat ?"
   ]
  },
  {
   "cell_type": "markdown",
   "id": "24f3d131",
   "metadata": {},
   "source": [
    "Il est malgré tout possible de revenir à notre $ℤ/36ℤ$ de départ (heureusement !). Chaque élément du groupe $G$ possède une *valeur* dans $ℤ/36ℤ$, c'est-à-dire simplement que chaque élément de $G$ représente un élément de $ℤ/36ℤ$. "
   ]
  },
  {
   "cell_type": "code",
   "execution_count": 14,
   "id": "9e14387f",
   "metadata": {},
   "outputs": [
    {
     "name": "stdout",
     "output_type": "stream",
     "text": [
      "1 → 1\n",
      "f1 → 29\n",
      "f1^2 → 13\n",
      "f1^3 → 17\n",
      "f1^4 → 25\n",
      "f1^5 → 5\n",
      "f0 → 19\n",
      "f0*f1 → 11\n",
      "f0*f1^2 → 31\n",
      "f0*f1^3 → 35\n",
      "f0*f1^4 → 7\n",
      "f0*f1^5 → 23\n"
     ]
    }
   ],
   "source": [
    "for g in G:\n",
    "    print(g, \"→\", g.value())"
   ]
  },
  {
   "cell_type": "markdown",
   "id": "74955149",
   "metadata": {},
   "source": [
    "On vérifie que c'est cohérent : par exemple, puisque $f_0$ correspond à $19$, $f_1^3$ à $17$, le produit $f_0f_1^3$ doit être $(19×17)\\bmod 36 = 35$ ; de même, si on élève $f_0f_1^3$ au carré, on obtient $f_0^2f_1^6$ qui doit valoir $1$ (puisque $f_0^2 = 1$ et $f_1^6 = 1$)."
   ]
  },
  {
   "cell_type": "code",
   "execution_count": 15,
   "id": "c405c2e3",
   "metadata": {},
   "outputs": [
    {
     "data": {
      "text/plain": [
       "(True, True)"
      ]
     },
     "execution_count": 15,
     "metadata": {},
     "output_type": "execute_result"
    }
   ],
   "source": [
    "f0.value() * (f1^3).value() == A(35), (f0*f1^3).value()^2 == A.one()"
   ]
  },
  {
   "cell_type": "markdown",
   "id": "e86814a0",
   "metadata": {},
   "source": [
    "**Exercice 2.**\n",
    "\n",
    "1. Calculer le groupe des inversibles de $ℤ/105ℤ$. Combien a-t-il de générateurs ? À quel élément de $ℤ/105ℤ$ correspond chacun des générateurs ?\n",
    "1. Calculer le groupe des inversibles de $ℤ/nℤ$ pour $n = 2,3,...,30$. Lesquels sont cycliques ?\n",
    "1. Vérifier expérimentalement que si $p>2$ est premier, $(ℤ/p^eℤ)^\\times$ est cyclique. *Utiliser plusieurs valeurs de $p$ et de $e$, même en dépassant $30$.*\n",
    "1. Le résultat précédent n'est pas vrai pour $p = 2$. Essayer diverses valeurs de $e$ pour conjecturer la forme de $(ℤ/2^eℤ)^×$, en fonction de $e$."
   ]
  },
  {
   "cell_type": "code",
   "execution_count": null,
   "id": "712822aa",
   "metadata": {},
   "outputs": [],
   "source": []
  },
  {
   "cell_type": "markdown",
   "id": "bb34741e",
   "metadata": {},
   "source": [
    "## 3. Logarithme discret"
   ]
  },
  {
   "cell_type": "markdown",
   "id": "af825dc2",
   "metadata": {},
   "source": [
    "Soit $p$ un nombre premier. Étant donné un générateur $g$ de $(ℤ/pℤ)^\\times$ et un élément $h\\in (ℤ/pℤ)^\\times$, le *logarithme discret de $h$ en base $g$* est l'unique entier $n\\in\\{0,…,p-2\\}$ tel que $g^n = h$."
   ]
  },
  {
   "cell_type": "markdown",
   "id": "969c2c98",
   "metadata": {},
   "source": [
    "**Exercice 3.1.** Écrire une fonction `randgen(b)` qui prend en entrée un entier $b$ et renvoie un couple $(p,g)$ où $p$ est un nombre premier de $b$ bits et $g$ est un générateur de $(ℤ/pℤ)^\\times$."
   ]
  },
  {
   "cell_type": "code",
   "execution_count": null,
   "id": "371ed7a7",
   "metadata": {},
   "outputs": [],
   "source": []
  },
  {
   "cell_type": "markdown",
   "id": "7f43c3c9",
   "metadata": {},
   "source": [
    "**Exercice 3.2.**\n",
    "1.  Écrire une fonction `log_naif(h,g,p)` qui prend en entrée un élément $h\\in ℤ/pℤ^×$ et un générateur $g\\in ℤ/pℤ^×$, et calcule l'unique entier $n\\in\\{0,…,p-2\\}$ tel que $g^n = h$. \n",
    "    \n",
    "1. Jusqu'à quelle taille (environ) la fonction s'exécute en moins de 10 secondes ?"
   ]
  },
  {
   "cell_type": "code",
   "execution_count": null,
   "id": "96807c78",
   "metadata": {},
   "outputs": [],
   "source": []
  },
  {
   "cell_type": "markdown",
   "id": "d71f967f",
   "metadata": {},
   "source": [
    "**Exercice 3.3.**  On s'intéresse à la stratégie « pas de bébés – pas de géants ». On définit $m = ⌊\\sqrt{p-1}⌋$. Si $h = g^n$, on écrit la division euclidienne $n = qm + r$. On a donc $h =g^{qm}g^r$, autrement dit $g^{qm} = h⋅g^{-r}$. L'idée est de précalculer tous les $g^{qm}$ pour $0 ≤ q ≤ n/m$ (*pas de géants*). Ensuite, on calcule les $h⋅g^{-r}$ pour $r = 0$, $1$, … jusqu'à trouver une égalité $h⋅g^{-r}=g^{qm}$ (*pas de bébés*). On en déduit que $n = qm+r$.\n",
    "\n",
    "1.  Écrire une fonction `pas_de_geants(g, p)` qui renvoie un dictionnaire $G$ tel que $G[g^{qm}] = q$ pour $0 ≤ q ≤ (p-1)/m$. *On peut utiliser la fonction `isqrt` (lire la doc !).*\n",
    "    \n",
    "1.  Écrire une fonction `log_discret(h, g, p)` qui calcule le logarithme discret de $h\\in (ℤ/pℤ)^×$ en base $g$, avec l'algorithme décrit.\n",
    "\n",
    "1.  Jusqu'à quelle taille de $p$ peut-on calculer le logarithme discret en moins de 10 secondes ? *Comparer avec la version naïve, et avec l'algorithme fourni par Sagemath : `h.log(g)`. Expliquer, par une analyse de coût, la différence observée `log_naif` et `log_discret`.*"
   ]
  },
  {
   "cell_type": "code",
   "execution_count": null,
   "id": "2d9c180a",
   "metadata": {},
   "outputs": [],
   "source": []
  },
  {
   "cell_type": "code",
   "execution_count": null,
   "id": "5281a3cf",
   "metadata": {},
   "outputs": [],
   "source": []
  },
  {
   "cell_type": "code",
   "execution_count": null,
   "id": "ec394de1",
   "metadata": {},
   "outputs": [],
   "source": []
  },
  {
   "cell_type": "markdown",
   "id": "4003d81d",
   "metadata": {},
   "source": [
    "**Exercice 3.4.** L'algorithme précédent peut se généraliser. Supposons qu'on sache à l'avance que $h = g^n$ avec $a≤n≤b$. Alors on peut écrire $n = a + qm+r$ où $m = ⌊\\sqrt{b-a}⌋$, et trouver $q$ et $r$ comme précédemment. Les *pas de géants* sont les éléments de la forme $g^{a+qm}$ et les *pas de bébés* commencent à $g^a$.\n",
    "\n",
    "1.  Écrire une fonction `log_discret_intervalle(h,g,p,a,b)` qui implante l'algorithme décrit.\n",
    "1.  Vérifier que le temps de calcul ne dépend que très peu de $p$, mais essentiellement de la longueur $b-a$ de l'intervalle, et que votre algorithme, pour des intervalles de taille raisonnable, est plus efficace qu'un appel générique à `h.log(g)`."
   ]
  },
  {
   "cell_type": "code",
   "execution_count": null,
   "id": "a3bf6d7b",
   "metadata": {},
   "outputs": [],
   "source": []
  },
  {
   "cell_type": "code",
   "execution_count": 16,
   "id": "0de5acd4",
   "metadata": {},
   "outputs": [],
   "source": []
  },
  {
   "cell_type": "code",
   "execution_count": null,
   "id": "79dca722",
   "metadata": {},
   "outputs": [],
   "source": []
  }
 ],
 "metadata": {
  "kernelspec": {
   "display_name": "SageMath 9.6",
   "language": "sage",
   "name": "sagemath-9.6"
  },
  "language_info": {
   "codemirror_mode": {
    "name": "ipython",
    "version": 3
   },
   "file_extension": ".py",
   "mimetype": "text/x-python",
   "name": "python",
   "nbconvert_exporter": "python",
   "pygments_lexer": "ipython3",
   "version": "3.10.3"
  }
 },
 "nbformat": 4,
 "nbformat_minor": 5
}
