{
 "cells": [
  {
   "cell_type": "markdown",
   "id": "77ded39a",
   "metadata": {},
   "source": [
    "# TP Noté - 5/12/24\n",
    "## L3 Info - Parcours Maths/Info"
   ]
  },
  {
   "cell_type": "markdown",
   "id": "64269b45",
   "metadata": {},
   "source": [
    "Ce TP est constitué de deux exercices indépendants. Une case de réponse est prévue pour chaque question. Pour les questions « Vérifier que … », le code qui permet la vérification fait partie de la réponse et sera évalué. Cette vérification peut consister en un simple affichage de valeurs.\n",
    "\n",
    "Par sécurité, merci d'indiquer vos prénom et nom dans la case ci-dessous :"
   ]
  },
  {
   "cell_type": "code",
   "execution_count": null,
   "id": "2f77132d",
   "metadata": {},
   "outputs": [],
   "source": [
    "# Prénom Nom : "
   ]
  },
  {
   "cell_type": "markdown",
   "id": "9d110754-2194-4af4-95b5-edc833b94d96",
   "metadata": {},
   "source": [
    "Voici une suggestion de fonctions et méthodes que peuvent vous être utiles pour ce TP noté.\n",
    "\n",
    "`n.is_prime()`\n",
    "`n.factor()`\n",
    "`next_prime(n)`\n",
    "`gcd(a,b)`\n",
    "`ZZ.random_element(a,b)`\n",
    "`Zmod(n)`\n",
    "`Zmod(n).unit_group()`\n",
    "`G.cardinality()`\n",
    "`G.subgroups()`\n",
    "`G.gens()`\n",
    "`g.value()`\n",
    "`g.order()`"
   ]
  },
  {
   "cell_type": "markdown",
   "id": "3350029e-2e78-4a5b-be7e-07b8abf8bf1a",
   "metadata": {},
   "source": []
  },
  {
   "cell_type": "markdown",
   "id": "9881634b-08ad-4748-8a02-32ecf746649f",
   "metadata": {},
   "source": [
    "## Exercice 1. Test de primalité de Fermat"
   ]
  },
  {
   "cell_type": "markdown",
   "id": "ab103270-345d-4c81-a94a-85b397215e51",
   "metadata": {},
   "source": [
    "Le test de primalité de Fermat est un algorithme probabiliste utilisé pour vérifier si un nombre $p$ est premier. Ce test repose sur le *Petit Théorème de Fermat*, qui affirme que si $p$ est un nombre premier et si $a$ est un entier premier avec $p$, alors $a^{p–1} \\equiv 1 \\pmod p$."
   ]
  },
  {
   "cell_type": "markdown",
   "id": "8e6b989e-0d9e-4711-a1b9-6d1e14394304",
   "metadata": {},
   "source": [
    "### Exercice 1.a\n",
    "Montrer expérimentalement que le petit théorème de Fermat est vérifié pour les 100 premiers nombres premiers. (Suggestion: travailler dans $\\mathbb Z/p\\mathbb Z$)."
   ]
  },
  {
   "cell_type": "code",
   "execution_count": null,
   "id": "19643326-e3f5-4527-9f30-a9bec82e2d9d",
   "metadata": {},
   "outputs": [],
   "source": []
  },
  {
   "cell_type": "markdown",
   "id": "41eda7f2-38c4-4e69-bae9-081008991c54",
   "metadata": {},
   "source": [
    "### Exercice 1.b\n",
    "Montrer que la réciproque du petit théorème de Fermat est fausse, c'est-à-dire montrer l'existence d'entiers $n$ non premiers tels que pour tout $a$ premier avec $n$, $a^{n–1} \\equiv 1 \\pmod n$. De tels entiers $n$ sont appelés *nombres de Carmichael*. \n",
    "Calculer donc les nombres de Carmichael < 10000. (Attention: 1 n'est pas considéré un nombres de Carmichael, car il n'est pas composé)."
   ]
  },
  {
   "cell_type": "code",
   "execution_count": null,
   "id": "7b5663de-bdbd-44e6-955c-0fd0e75ecb6e",
   "metadata": {},
   "outputs": [],
   "source": []
  },
  {
   "cell_type": "markdown",
   "id": "40e23048-9c65-4c31-9f41-59800b9aede0",
   "metadata": {},
   "source": [
    "### Exercice 1.c\n",
    "Le test de primalité de Fermat repose sur l'idée suivante  : si p est composé, alors il est peu probable que $a^{p–1}\\equiv 1\\pmod{p}$ pour une valeur arbitraire de $a$ (si $a^{p–1}\\equiv 1\\pmod{p}$, le nombre $p$ est dit *pseudo-premier de Fermat de base $a$*). Voici le pseudo-code correspondant:\n",
    "\n",
    "**Entrées :** \n",
    "  - p (un entier à tester)\n",
    "  - k (le nombre de bases aléatoires $a$ à tester)\n",
    "\n",
    "**Sortie :**\n",
    " - \"composé\" si p est composé\n",
    " - \"probablement premier\" si le test réussit pour toutes les bases\n",
    "\n",
    "Pour $i$ de $1$ à $k$ :\n",
    "1. Choisir une base aléatoire a dans $[2, p-2]$\n",
    "2. Calculer $a^{p-1} \\pmod p$\n",
    "3. Si $a^{p-1}\\not \\equiv 1 \\pmod p$, retourner \"composé\"\n",
    "\n",
    "Retourner \"probablement premier\".\n",
    "\n",
    "Écrire, dans la cellule suivante, une fonction `fermat_primality_test` qui implémente le code ci-dessus.\n"
   ]
  },
  {
   "cell_type": "code",
   "execution_count": null,
   "id": "97573c7d-dd81-4ee0-a8ae-7117a719dab4",
   "metadata": {},
   "outputs": [],
   "source": []
  },
  {
   "cell_type": "markdown",
   "id": "5382e53b-d5d4-4893-9dc4-72b93e6687c6",
   "metadata": {},
   "source": [
    "Dans la cellule ci-dessous, expliquer pourquoi le test donne toujours une réponse correcte lorsque $p$ est un nombre premier."
   ]
  },
  {
   "cell_type": "markdown",
   "id": "fa001f92-f3ac-4a8e-81a5-3e75ab300433",
   "metadata": {},
   "source": []
  },
  {
   "cell_type": "markdown",
   "id": "b2a4afa5-2f84-4eac-b4f4-bc0f7e73ef56",
   "metadata": {},
   "source": [
    "Dans la cellule ci-dessous, expliquer pourquoi le test de primalité donne toujours une réponse incorrecte lorsque $p$ est un nombre de Carmichael."
   ]
  },
  {
   "cell_type": "code",
   "execution_count": null,
   "id": "399d7bcc-4040-4091-be2b-f765ca92f7e3",
   "metadata": {},
   "outputs": [],
   "source": []
  },
  {
   "cell_type": "markdown",
   "id": "3d1d5d3f-75ab-400a-9d86-9f9d8eb57bd2",
   "metadata": {},
   "source": [
    "Pour $k=4$, exécuter la fonction `fermat_primality_test` 10000 fois avec des entiers positifs aléatoires inférieures à 100000 et compter le nombre de fois où le test de primalité donne une réponse incorrecte (faux positif ou faux négatif)."
   ]
  },
  {
   "cell_type": "code",
   "execution_count": null,
   "id": "37dabbea-6fc7-4556-919f-93a22ea13250",
   "metadata": {},
   "outputs": [],
   "source": []
  },
  {
   "cell_type": "markdown",
   "id": "c5afdc27",
   "metadata": {},
   "source": [
    "## Exercice 2. Théorèmes de Cauchy et de Sylow\n",
    "Si $G$ est un groupe fini et $H$ un sous-groupe de $G$, le théorème de Lagrange garantit que l'ordre de $H$ divise celui de $G$. À l'inverse, on peut se poser la question suivante : dans un groupe d'ordre $n$, existe-t-il toujours un sous-groupe d'ordre $d$, où $d$ est un diviseur de $n$ ? La réponse est négative en général. Cependant, Cauchy a démontré que cela est toujours vrai lorsque $d$ est un nombre premier $p$. Les théorèmes de Sylow prolongent cette affirmation pour des ordres qui sont des puissances de $p$.\n"
   ]
  },
  {
   "cell_type": "markdown",
   "id": "f9594abf-3026-4734-95a3-f66eb8380aa9",
   "metadata": {},
   "source": [
    " ### Exercice 2.a\n",
    "Lé théorème de Cauchy affirme que si $G$ est un groupe fini dont l'ordre est divisé par un nombre premier $p$, alors \n",
    "$G$ contient un élément d'ordre $p$ (et, par conséquent, un sous-groupe de $G$ d'ordre $p$).\n",
    "\n",
    "Soit $G=\\left(\\frac{\\mathbb Z}{2024\\mathbb Z}\\right)^\\times$ le groupe des inversible de $\\mathbb Z/2024\\mathbb Z$. Pour chaque nombre premier $p$ qui divise $\\mid G\\mid$, déterminer un sous-groupe de $G$ de cardinalité $p$, en précisant son générateur dans $\\mathbb Z/2024\\mathbb Z$."
   ]
  },
  {
   "cell_type": "code",
   "execution_count": null,
   "id": "de1ea826-75b7-459e-a1b2-b05d67c86a94",
   "metadata": {},
   "outputs": [],
   "source": [
    " "
   ]
  },
  {
   "cell_type": "markdown",
   "id": "bd4b9417-c07e-4559-9a81-280b115f7c40",
   "metadata": {},
   "source": [
    "Construire un contrexample  dans $G=\\left(\\frac{\\mathbb Z}{2024\\mathbb Z}\\right)^\\times$,  montrant que le théorème de Cauchy n'est pas  vrai si on enlève l'hypothèse que $p$ est un nombre premier."
   ]
  },
  {
   "cell_type": "code",
   "execution_count": null,
   "id": "1e135dd2-8a48-418e-a5cf-6cea7a93a1de",
   "metadata": {},
   "outputs": [],
   "source": []
  },
  {
   "cell_type": "markdown",
   "id": "c2af7409-45dc-4e73-b155-4cf7de83fedb",
   "metadata": {},
   "source": [
    " ### Exercice 2.b\n",
    "Les théorèmes de Sylow étendent le théorème de Cauchy. En particulier, ils permettent d'affirmer que si $G$ un groupe d'ordre $p^ns$, où $p$ est un nombre premier, $n$ est un entier naturel et $p$ ne divise pas $s$, alors $G$ contient des sous-groupes d’ordre $p^i$, pour tout $i\\leq n$.\n",
    "\n",
    "Revenons à l'example précédant avec $G=\\left(\\frac{\\mathbb Z}{2024\\mathbb Z}\\right)^\\times$. Déterminer tous les sous-groupes de $G$ d'ordre des puissances des 2, en précisant pour chacun ses générateurs dans $\\mathbb Z/2024\\mathbb Z$."
   ]
  },
  {
   "cell_type": "code",
   "execution_count": null,
   "id": "4fafd3a5",
   "metadata": {},
   "outputs": [],
   "source": []
  },
  {
   "cell_type": "markdown",
   "id": "3dd43cf8-3503-40e1-8269-42c4b15a4c1d",
   "metadata": {},
   "source": [
    "On remarque que $$\\lvert\\frac{\\mathbb Z}{2024\\mathbb Z}|=2^3 \\cdot 11 \\cdot 23$$ et $$|\\left(\\frac{\\mathbb Z}{2024\\mathbb Z}\\right)^\\times|=2^4 \\cdot 5 \\cdot 11.$$\n",
    "Donc les deux groupes possèdent des éléments d'ordre 11. Est-ce qu'il existe un élement de $\\frac{\\mathbb Z}{2024\\mathbb Z}$ qui a ordre 11 à la fois dans $\\left(\\frac{\\mathbb Z}{2024\\mathbb Z},+\\right)$ et dans $\\left(\\left(\\frac{\\mathbb Z}{2024\\mathbb Z}\\right)^\\times,\\cdot\\right)$? Si oui, déterminez-le, sinon expliquez pourquoi il ne peut pas exister."
   ]
  },
  {
   "cell_type": "code",
   "execution_count": null,
   "id": "715e30a8-3f19-47cf-99fe-fd7315ab2ca6",
   "metadata": {},
   "outputs": [],
   "source": []
  }
 ],
 "metadata": {
  "kernelspec": {
   "display_name": "SageMath 10.3",
   "language": "sage",
   "name": "sagemath-10.3"
  },
  "language_info": {
   "codemirror_mode": {
    "name": "ipython",
    "version": 3
   },
   "file_extension": ".py",
   "mimetype": "text/x-python",
   "name": "python",
   "nbconvert_exporter": "python",
   "pygments_lexer": "ipython3",
   "version": "3.11.8"
  }
 },
 "nbformat": 4,
 "nbformat_minor": 5
}
