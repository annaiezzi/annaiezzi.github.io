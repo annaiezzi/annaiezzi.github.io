{
 "cells": [
  {
   "cell_type": "markdown",
   "id": "2ed1b8af-8c8f-49fc-8556-1a9ca7162cd9",
   "metadata": {},
   "source": [
    "# TP1 – Euclide et consorts"
   ]
  },
  {
   "cell_type": "markdown",
   "id": "67077a95-a3ca-4af1-bc2e-3641da21d07c",
   "metadata": {},
   "source": [
    "<font color=\"#AA2222\">**Consigne :** lire le sujet dans l'ordre et **exécuter chaque cellule de code pré-remplie** pour observer le résultat avant de continuer. De manière générale, les TP ne sont pas à rendre, et l'objectif est d'aller aussi loin que possible pendant les séances. Finir les TPs par vous même est encouragé, sans vérification de notre part. </font>\n",
    "\n",
    "### Remarque générale.\n",
    "**_Toutes_** les fonctions écrites doivent être testées. Par exemple, vous pouvez écrire, pour chaque fonction `fct`,\n",
    "une fonction de test `test_fct()` qui ne prend pas de paramètre et effectue des tests. Ces tests peuvent\n",
    "utiliser des valeurs (pseudo-)aléatoires. Pour cela, la plupart des types de SageMath implantent une méthode\n",
    "`random_element`. Lire la documentation (par exemple `ZZ.random_element?`) pour l’utiliser.\n",
    "\n"
   ]
  },
  {
   "cell_type": "markdown",
   "id": "481f8b11-421f-476c-806e-9072aedda96a",
   "metadata": {},
   "source": [
    "## 0. Qu'est-ce qu'un Jupyter Notebook ?\n",
    "\n",
    "Un **Jupyter Notebook** est un environnement interactif qui vous permet de combiner du **code**, du **texte explicatif**, des **équations mathématiques**, des **visualisations** et d'autres éléments en un seul document. \n",
    "Il se compose de plusieurs **cellules**, qui peuvent contenir du **code** ou du **texte**.\n",
    "\n",
    "\n",
    "### Comment exécuter une cellule ?\n",
    "\n",
    "1. Sélectionnez une cellule de **code** (elle aura un cadre autour et affichera `[ ]:` à côté).\n",
    "2. Appuyez sur **`Shift + Entrée`** pour exécuter le contenu de la cellule.\n",
    "3. Les résultats de la cellule s'afficheront juste en dessous. \n",
    "\n",
    "Pour exécuter une cellule vous pouvez aussi cliquer sur le bouton \"Run\" dans la barre d'outils."
   ]
  },
  {
   "cell_type": "markdown",
   "id": "c7a7483e-110f-4a7e-bec7-066a7b88cab9",
   "metadata": {},
   "source": [
    "**Exercice 1.** \n",
    "1. Créez une nouvelle cellule de code ci-dessous.\n",
    "2. Tapez du code Python, puis exécutez-le ! "
   ]
  },
  {
   "cell_type": "markdown",
   "id": "a513af11-d9be-4077-834a-b40fea429c3d",
   "metadata": {},
   "source": [
    "**Exercice 2.** (Pour qui connait un peu de Latex)\n",
    "1. Créez une nouvelle cellule de texte.\n",
    "2. Tapez votre formule de maths préférée en Latex et éxécutez !"
   ]
  },
  {
   "cell_type": "markdown",
   "id": "f24f2fa4-782e-42de-8c08-4b7fc3879299",
   "metadata": {},
   "source": [
    "## 1. Découverte de SageMath"
   ]
  },
  {
   "cell_type": "markdown",
   "id": "daa2cc72-7687-4660-9832-7fc7918b1c3e",
   "metadata": {},
   "source": [
    "SageMath est un logiciel libre et open source de calcul mathématique basé principalement sur sur Python, qui vise à intégrer et combiner différents outils mathématiques dans une seule plateforme."
   ]
  },
  {
   "cell_type": "markdown",
   "id": "fc4b6128-d711-4b08-8075-80de1a94a95a",
   "metadata": {},
   "source": [
    "SageMath propose la fonctionnalité de complétion par tabulation : tapez les premières lettres d'une fonction, puis appuyez sur la touche Tab. Par exemple, si vous tapez \"bi\" suivi de Tab, SageMath affichera \"bin\", \"binomial\", \"binomial_coefficients\". Cela constitue un bon moyen de trouver les noms des fonctions et autres structures dans SageMath. Testez cela par vous mêmes !"
   ]
  },
  {
   "cell_type": "code",
   "execution_count": null,
   "id": "31b3f9c6-6209-404d-b26a-b371abacb952",
   "metadata": {},
   "outputs": [],
   "source": []
  },
  {
   "cell_type": "markdown",
   "id": "2b3ea62f-bff0-4c74-9a9f-425656f6854d",
   "metadata": {},
   "source": [
    "Pour accéder à l’aide d’une méthode dans SageMath, vous pouvez utiliser la fonction intégrée `?`. Voici comment l'utiliser:\n",
    "\n",
    "1. Tapez le nom de la fonction ou de la méthode suivi d'un point d'interrogation `?`. Par exemple `parent?` affichera la documentation de la fonction parent.\n",
    "\n",
    "2. Pour obtenir plus de détails (source, exemples), utilisez deux points d'interrogation `??`. Cela affichera également le code source de la fonction si disponible, en plus de la documentation.\n",
    "\n",
    "3. Vous pouvez aussi utiliser la fonction help(). Par exemple vous pouvez taper `help(parent)` pour obtenir de l'aide sur la fonction parent.\n",
    "\n",
    "Testez cela sur deux, trois fonctions de votre choix."
   ]
  },
  {
   "cell_type": "code",
   "execution_count": null,
   "id": "d3489825-f151-4a2b-ae16-df9f62bd114c",
   "metadata": {},
   "outputs": [],
   "source": []
  },
  {
   "cell_type": "markdown",
   "id": "d74e814f-3850-42c8-a17a-5657681633a3",
   "metadata": {},
   "source": [
    "Par rapport à Python, SageMath introduit quelques différences de type ou de syntaxe. Par exemple, les entiers que vous entrez sont de type ZZ (Integer Ring) et non int. \n",
    "ZZ s'intègre avec d'autres outils mathématiques dans SageMath pour offrir des fonctionnalités comme le calcul du PGCD, la factorisation, la manipulation d'expressions algébriques, etc.\n"
   ]
  },
  {
   "cell_type": "markdown",
   "id": "b6f90013-96c4-4abe-a002-f2908bc82fda",
   "metadata": {},
   "source": [
    "**Exercice 3.** Définir une variable $n$ avec une valeur entière dans la première cellule, puis écrire `n.` dans la seconde cellule et appuyer sur Tab pour voir toutes les méthodes rattachées à un entier. Chercher celle qui vous semble calculer un PGCD, et vérifier avec quelques exemples. (Utilisez la fonction ? ou help() si besoin)."
   ]
  },
  {
   "cell_type": "code",
   "execution_count": null,
   "id": "5aa27662-5fcd-46a5-b08a-002af63967bb",
   "metadata": {},
   "outputs": [],
   "source": []
  },
  {
   "cell_type": "code",
   "execution_count": null,
   "id": "892b5c6a-9440-4c07-965e-2bdc82cc4c66",
   "metadata": {},
   "outputs": [],
   "source": []
  },
  {
   "cell_type": "markdown",
   "id": "de95fcb4-b2f0-4d37-9dc1-0c51550f986d",
   "metadata": {},
   "source": [
    "Déterminer le type des entiers renvoyés par la fonction `range` (qui vient de Python). Comparer avec la fonction\n",
    "`srange` (fournie par SageMath). Quelles fonctionnalités offre en plus la fonction `srange` ? (Utilisez la fonction ? ou help() si besoin.)"
   ]
  },
  {
   "cell_type": "code",
   "execution_count": null,
   "id": "097fcb86-3981-4c87-8943-3b9d6a4d8c99",
   "metadata": {},
   "outputs": [],
   "source": []
  },
  {
   "cell_type": "markdown",
   "id": "bc140930-3232-4f1f-b8db-ccf3f6a4a152",
   "metadata": {},
   "source": [
    "## 2. Algorithmes d'Euclide"
   ]
  },
  {
   "cell_type": "markdown",
   "id": "9b093485-34c6-4ee8-8893-c44de72ccdce",
   "metadata": {},
   "source": [
    "### 2.1 Algorithme d'Euclide par soustraction"
   ]
  },
  {
   "cell_type": "markdown",
   "id": "2ee73acb-9194-4f1f-ace4-02d9f5ce4f5e",
   "metadata": {},
   "source": [
    "**Exercice 4.** \n",
    "1. Écrire une fonction **itérative** `EuclideSoustractifIt(a,b)` qui calcule le pgcd de deux entiers positifs (>0) en utilisant l’algorithme d’Euclide par soustraction.\n",
    "2. Testez cela pour les couples de valeurs (49,14), (462,1260), (2024,2024), (1,100). \n",
    "3. Déterminer les temps de calcul pour des entiers positifs aléatoires. (Lire la documentation, par exemple `ZZ.random_element?`, pour générer des entiers aléatoires.)\n",
    "\n",
    "*Dans la console Ipython ou le notebook Jupyter, les « commandes magiques » `%time` et `%timeit` permettent de mesurer des temps de calculs de manières très simple. Par exemple, il suffit d’écrire `%time EuclideSoustractifIt(a,b)` pour mesurer le temps d’exécution de l’appel. La commande `%timeit` exécute plusieurs fois l’appel et renvoie une moyenne des temps de calcul (qui est donc moins sujette aux aléas).*"
   ]
  },
  {
   "cell_type": "code",
   "execution_count": null,
   "id": "c966589a-0e25-4433-9ae8-d6bf96bd1479",
   "metadata": {},
   "outputs": [],
   "source": []
  },
  {
   "cell_type": "code",
   "execution_count": null,
   "id": "4a8516b2-8482-4dfe-b1a6-99f4f71b1445",
   "metadata": {},
   "outputs": [],
   "source": []
  },
  {
   "cell_type": "markdown",
   "id": "9e5b31a0-dfff-4908-8717-de12e6133d30",
   "metadata": {},
   "source": [
    "**Exercice 5.** \n",
    "1. Écrire une fonction **récursive** `EuclideSoustractifRec(a,b)` qui calcule le pgcd de deux entiers positifs (>0) en utilisant l’algorithme d’Euclide par soustraction.\n",
    "2. Testez cela pour les couples de valeurs (49,14), (462,1260), (2024,2024), (1,100). \n",
    "3. Déterminer les temps de calcul pour des entiers positifs aléatoires et comparer-les avec ceux de la version itérative."
   ]
  },
  {
   "cell_type": "code",
   "execution_count": null,
   "id": "75ff90a0-2f2a-4bb9-8634-7c3181259cdb",
   "metadata": {},
   "outputs": [],
   "source": []
  },
  {
   "cell_type": "code",
   "execution_count": null,
   "id": "12636264-59e4-469f-84e5-a5512a36f96e",
   "metadata": {},
   "outputs": [],
   "source": []
  },
  {
   "cell_type": "markdown",
   "id": "a0e2a528-b89b-4c96-a1e7-a22770a2a654",
   "metadata": {},
   "source": [
    "### 2.2 La division euclidienne"
   ]
  },
  {
   "cell_type": "markdown",
   "id": "6d0199c0-1911-4c9e-aead-949181ea5cdd",
   "metadata": {},
   "source": [
    "**Exercice 6.** \n",
    "1. Écrire une fonction `DivisionEuclidienneNat(a,b)` qui calcule le quotient et le reste de la division euclidienne de deux entiers naturels $a\\geq 0$ par $b>0$ en utilisant seulement des soustractions.\n",
    "2. Testez cela pour les couples de valeurs (24,3), (10,2024), (0,14), (100,5). "
   ]
  },
  {
   "cell_type": "code",
   "execution_count": null,
   "id": "a6b5bfbf-60e7-48d1-bb41-ab558430deaa",
   "metadata": {},
   "outputs": [],
   "source": []
  },
  {
   "cell_type": "code",
   "execution_count": null,
   "id": "00308840-1b0c-4e09-b8b0-0382cc120f64",
   "metadata": {},
   "outputs": [],
   "source": []
  },
  {
   "cell_type": "markdown",
   "id": "32ed7829-52ae-4669-ae96-e82cbd40cc06",
   "metadata": {},
   "source": [
    "**Exercice 7.**  Le théorème de la division euclidienne peut être généralisé aux entiers relatifs de la manière suivante.\n",
    "Pour deux entiers relatifs $a$ et $b$, $b \\neq 0$, il existe un unique entier relatif $q$ (le quotient) et un entier naturel $r$ (le reste) qui satisfont les conditions suivantes:\n",
    "\n",
    "a) $a = bq + r$;\n",
    "\n",
    "b) $0 \\leq r < |b|$.\n",
    "\n",
    "1. Écrire une fonction `DivisionEuclidienneRel(a,b)` qui calcule le quotient et le reste de la division euclidienne de deux entiers  $a$ et $b$, $b\\neq 0$ en utilisant seulement des soustractions.\n",
    "2. Testez la fonction avec des entiers aléatoires.\n",
    "3. Déterminer les temps de calcul pour des entiers naturels aléatoires."
   ]
  },
  {
   "cell_type": "markdown",
   "id": "7fc13725-0ae2-4f83-912f-4d5e431c1c33",
   "metadata": {},
   "source": [
    "### 2.3 Des opérateurs arithmétiques de SageMath"
   ]
  },
  {
   "cell_type": "markdown",
   "id": "2cf80216-3ba4-4627-8330-29ff3a467d88",
   "metadata": {},
   "source": [
    "**Exercice 8.** \n",
    "1. En testant toutes les possibilités, déterminer le comportement de l’opérateur `%` sur des entrées positives et\n",
    "négatives. Définir mathématiquement le résultat renvoyé par `%`.\n",
    "2. Effectuer le même travail avec l’opérateur `//` de calcul de quotient.\n",
    "3. Écrire une fonction `DivisionEuclidienne(a,b)` qui calcule la division euclidienne de deux entiers $a$ par $b$, $b\\neq 0$ en faisant appel aux opérateurs `%` et `//` !\n",
    "4. Comparez les temps de calcul avec la fonction `DivisionEuclidienneRel(a,b)`."
   ]
  },
  {
   "cell_type": "code",
   "execution_count": null,
   "id": "042a1192-a145-44e1-9d13-b55ad379a9cc",
   "metadata": {},
   "outputs": [],
   "source": []
  },
  {
   "cell_type": "code",
   "execution_count": null,
   "id": "701b72a6-cfcc-400d-8f89-ac82e1cbf7ca",
   "metadata": {},
   "outputs": [],
   "source": []
  },
  {
   "cell_type": "code",
   "execution_count": null,
   "id": "8304a757-d036-4897-9d1c-0702c2f23e78",
   "metadata": {},
   "outputs": [],
   "source": []
  },
  {
   "cell_type": "markdown",
   "id": "3d41a8b5-8fea-42f2-aa99-82e26435d409",
   "metadata": {},
   "source": [
    "### 2.4 Algorithme d'Euclide classique\n",
    "\n",
    "**Exercice 9.** \n",
    "1. Écrire une fonction **itérative** `EuclideIt(a,b)` et une fonction **récursive** `EuclideRec(a,b)` qui calcule le pgcd$(a,b)$ pour tout couple d'entier $(a,b)\\neq(0,0)$.\n",
    "2. Testez vos fonctions avec les couples de valeurs $(49,14)$, $(49,-14)$,$(-49,14)$,$(-49,-14)$,$(0,2024)$,$(2024,0)$,$(2024,2024)$.\n",
    "3. Comparez les temps de calcul avec les algorithmes d'Euclide par soustraction."
   ]
  },
  {
   "cell_type": "code",
   "execution_count": null,
   "id": "eb577e70-934e-41b4-8a77-2a1ca61a0faa",
   "metadata": {},
   "outputs": [],
   "source": []
  },
  {
   "cell_type": "code",
   "execution_count": null,
   "id": "0b89f0f2-ec6d-47c1-b6ca-be00824d5fc4",
   "metadata": {},
   "outputs": [],
   "source": []
  },
  {
   "cell_type": "code",
   "execution_count": null,
   "id": "4fcfed7a-fb82-445f-9315-3ccd913546d8",
   "metadata": {},
   "outputs": [],
   "source": []
  },
  {
   "cell_type": "markdown",
   "id": "e1f3f932-bb34-43fe-9c22-f31c7a85f074",
   "metadata": {},
   "source": [
    "## 3. Entiers de Fibonacci\n",
    "**Exercice 10.** La célèbrissime suite de Fibonacci $(F_n)_{n≥0}$ est définie par $F_0 = 0$, $F_1 = 1$ et $F_{n+2} = F_n + F_{n+1}$ pour $n ≥ 0$. Elle a la propriété que les pires entrées pour l’algorithme d’Euclide sont lorsque les deux entiers sont deux éléments consécutifs de la suite de Fibonacci.\n",
    "1. Écrire une fonction `FiboNaive(n)` qui calcule naïvement l’entier $F_n$. Vérifier que cette fonction est bien\n",
    "naïve : quelle est la plus grande valeur de $n$ pour laquelle `FiboNaive` s’exécute en moins d’une seconde ?\n",
    "2. Écrire une version itérative efficace `Fibo(n)` qui calcule le couple $(F_n , F_{n+1})$. L’idée est de partir avec le couple $(F_0,F_1)$, et à chaque itération de remplacer le couple $(F_i, F_{i+1})$ par $(F_{i+1}, F_{i+2})$.\n",
    "3. Tester les algorithmes d’Euclide de l’exercice précédent sur des éléments consécutifs de la suite de\n",
    "Fibonacci. À partir de quelle valeur (approximative) de $n$ les algorithmes récursifs plantent-ils quand ils\n",
    "sont appelés avec $F_n$ et $F_{n+1}$ ?"
   ]
  },
  {
   "cell_type": "code",
   "execution_count": null,
   "id": "930c7bbc-c567-4ef7-9603-730ee7c16e96",
   "metadata": {},
   "outputs": [],
   "source": []
  }
 ],
 "metadata": {
  "kernelspec": {
   "display_name": "SageMath 10.3",
   "language": "sage",
   "name": "sagemath-10.3"
  },
  "language_info": {
   "codemirror_mode": {
    "name": "ipython",
    "version": 3
   },
   "file_extension": ".py",
   "mimetype": "text/x-python",
   "name": "python",
   "nbconvert_exporter": "python",
   "pygments_lexer": "ipython3",
   "version": "3.11.8"
  }
 },
 "nbformat": 4,
 "nbformat_minor": 5
}
