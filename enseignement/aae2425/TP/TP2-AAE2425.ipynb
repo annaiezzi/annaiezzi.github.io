{
 "cells": [
  {
   "cell_type": "markdown",
   "id": "b2a74b75-345c-48cd-adf7-4ec128622710",
   "metadata": {},
   "source": [
    "# TP2 – Nombres premiers et factorisation"
   ]
  },
  {
   "cell_type": "markdown",
   "id": "ea253311-0a0b-41fd-9f53-8e45db22c51a",
   "metadata": {},
   "source": [
    "<font color=\"#AA2222\">**Consigne :** lire le sujet dans l'ordre et **exécuter chaque cellule de code pré-remplie** pour observer le résultat avant de continuer. De manière générale, les TP ne sont pas à rendre, et l'objectif est d'aller aussi loin que possible pendant les séances. Finir les TPs par vous même est encouragé, sans vérification de notre part. </font>\n",
    "\n",
    "### Remarque générale.\n",
    "**_Toutes_** les fonctions écrites doivent être testées. Par exemple, vous pouvez écrire, pour chaque fonction `fct`,\n",
    "une fonction de test `test_fct()` qui ne prend pas de paramètre et effectue des tests. Ces tests peuvent\n",
    "utiliser des valeurs (pseudo-)aléatoires. Pour cela, la plupart des types de SageMath implantent une méthode\n",
    "`random_element`. Lire la documentation (par exemple `ZZ.random_element?`) pour l’utiliser."
   ]
  },
  {
   "cell_type": "markdown",
   "id": "277cbc91-5b53-4862-ba66-afce44cadece",
   "metadata": {},
   "source": [
    "## 1. Le crible d’Ératosthène\n",
    "Le *crible d'Ératosthène* est un algorithme ancien et efficace pour trouver tous les nombres premiers inférieurs ou égaux à un certain nombre $n$. Il a été inventé par le mathématicien grec Ératosthène au 3e siècle avant J.-C.\n",
    "\n",
    "Il se base sur le résultat suivant que nous avons démontré en TD:\n",
    "\n",
    "<p style=\"text-align:center;\"><em>Un entier $n\\geq 2$ est premier si et seulement si $n$ n'admet pas de diviseurs premiers inférieurs ou égaux à $\\sqrt{n}$.</em></p>\n",
    "\n",
    "Donc voici comment ça marche: on écrit une liste des nombres de $2$ à $n$, puis on barre les multiples des nombres premiers inférieurs ou égaux à $\\sqrt{n}$. Les entiers restants sont premiers.\n",
    "\n",
    "**Exercice 1.** Écrire une fonction `Crible(n)`qui, étant donné un entier $n$, renvoie la liste des nombres premiers inférieurs ou égaux à $n$. *[Indication : la fonction correspondante à $\\sqrt{n}$ s’écrit sqrt(n).]*"
   ]
  },
  {
   "cell_type": "code",
   "execution_count": null,
   "id": "b94fa432-d729-426d-9a77-904f0bcbbe6e",
   "metadata": {},
   "outputs": [],
   "source": []
  },
  {
   "cell_type": "markdown",
   "id": "0b131552-ab90-4013-8746-24d9aca24576",
   "metadata": {},
   "source": [
    "## 2. Test de primalité\n",
    "\n",
    "**Exercice 2.** Utiliser la fonction `Crible` pour écrire une fonction `EstPremier(n)`, qui, étant donné un entier $n\\geq 2$, renvoie `True` si $n$ est premier et `False` sinon. "
   ]
  },
  {
   "cell_type": "code",
   "execution_count": null,
   "id": "d4edec57-35a3-4089-818c-ebd3af289c9c",
   "metadata": {},
   "outputs": [],
   "source": []
  },
  {
   "cell_type": "markdown",
   "id": "d0cb0544-5a8c-46c1-bd01-cd48ad16fe26",
   "metadata": {},
   "source": [
    "## 3. Le nombre premier suivant ?\n",
    "\n",
    "**Exercice 3.** Écrire une fonction `PremierSuivant(n)`, qui, étant donné un entier $n\\geq 0$, renvoie le plus petit nombre premier $p$ tel que $p>n$."
   ]
  },
  {
   "cell_type": "code",
   "execution_count": null,
   "id": "5c18dcb5-8342-4c57-8130-3e6922151c9c",
   "metadata": {},
   "outputs": [],
   "source": []
  },
  {
   "cell_type": "markdown",
   "id": "c037f33b-c9f6-4076-b309-984b00a383f4",
   "metadata": {},
   "source": [
    "## 4. Factorisation d'entiers\n",
    "\n",
    "Comme on l'a vu en cours, par le Théorème Fondamental de l'Arithmétique, tout entier $n\\neq 0$ peut se décomposer de manière unique en produit de facteurs premiers. Pour cela, voici une stratégie : on commence par diviser $n$ par $2$ tant qu'il est pair, et on obtient ainsi la puissance de $2$ dans la décomposition de $n$. On continue ensuite avec les autres nombres premiers par ordre croissant, jusqu'à avoir $n = 1$. \n",
    "\n",
    "**Exercice 4.** Écrire une fonction `Factorisation(n)` qui prend en entrée $n$ (positif ou négatif) et calcule une décomposition de $n$ en produit de facteurs premiers."
   ]
  },
  {
   "cell_type": "code",
   "execution_count": null,
   "id": "b3549bba-b0b6-4853-a3f2-d52b26808eb0",
   "metadata": {},
   "outputs": [],
   "source": []
  },
  {
   "cell_type": "markdown",
   "id": "35c81223-9139-42d1-91e6-8b406676689d",
   "metadata": {},
   "source": [
    "## 5. Les fonctions correspondantes dans Sagemath\n",
    "Maintenant que vous êtes arrivé.e.s à la fin de ce TP, il est bien de savoir que toutes les fonctions que vous venez d'implémenter sont déjà disponibles (et peut être plus performantes) sur Sagemath:\n",
    "\n",
    "`prime_range(n)`\n",
    "\n",
    "`is_prime(n)` or `n.is_prime()`\n",
    "\n",
    "`next_prime(n)` or `n.next_prime()`\n",
    "\n",
    "`factor(n)` or `n.factor()`\n",
    "\n",
    "**Exercice 5.** Comparez les temps d'exécution de votre fonction avec celle équivalente de SageMath sur des entiers de \"grande\" taille. *[La grandeur de la taille peut dépendre de la fonction]*"
   ]
  },
  {
   "cell_type": "code",
   "execution_count": null,
   "id": "72da2a30-9463-4a34-acdc-3c5250fcdf66",
   "metadata": {},
   "outputs": [],
   "source": []
  }
 ],
 "metadata": {
  "kernelspec": {
   "display_name": "SageMath 10.3",
   "language": "sage",
   "name": "sagemath-10.3"
  },
  "language_info": {
   "codemirror_mode": {
    "name": "ipython",
    "version": 3
   },
   "file_extension": ".py",
   "mimetype": "text/x-python",
   "name": "python",
   "nbconvert_exporter": "python",
   "pygments_lexer": "ipython3",
   "version": "3.11.8"
  }
 },
 "nbformat": 4,
 "nbformat_minor": 5
}
