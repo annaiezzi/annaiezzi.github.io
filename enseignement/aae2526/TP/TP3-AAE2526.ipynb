{
 "cells": [
  {
   "cell_type": "markdown",
   "id": "77ded39a",
   "metadata": {},
   "source": [
    "# TP3 – Test de primalité"
   ]
  },
  {
   "cell_type": "markdown",
   "id": "9881634b-08ad-4748-8a02-32ecf746649f",
   "metadata": {},
   "source": [
    "## Exercice 1. Test de primalité de Fermat (Exercice du TP noté 2024) "
   ]
  },
  {
   "cell_type": "markdown",
   "id": "ab103270-345d-4c81-a94a-85b397215e51",
   "metadata": {},
   "source": [
    "Le test de primalité de Fermat est un algorithme probabiliste utilisé pour vérifier si un nombre $p$ est premier. Ce test repose sur le *Petit Théorème de Fermat*, qui affirme que si $p$ est un nombre premier et si $a$ est un entier premier avec $p$, alors $a^{p–1} \\equiv 1 \\pmod p$."
   ]
  },
  {
   "cell_type": "markdown",
   "id": "8e6b989e-0d9e-4711-a1b9-6d1e14394304",
   "metadata": {},
   "source": [
    "### Exercice 1.a\n",
    "Montrer expérimentalement que le petit théorème de Fermat est vérifié pour les 100 premiers nombres premiers. "
   ]
  },
  {
   "cell_type": "code",
   "execution_count": null,
   "id": "19643326-e3f5-4527-9f30-a9bec82e2d9d",
   "metadata": {},
   "outputs": [],
   "source": []
  },
  {
   "cell_type": "markdown",
   "id": "41eda7f2-38c4-4e69-bae9-081008991c54",
   "metadata": {},
   "source": [
    "### Exercice 1.b\n",
    "Montrer que la réciproque du petit théorème de Fermat est fausse, c'est-à-dire montrer l'existence d'entiers $n$ composés tels que pour tout $a$ premier avec $n$, $a^{n–1} \\equiv 1 \\pmod n$. De tels entiers $n$ sont appelés *nombres de Carmichael*. \n",
    "Calculer donc les nombres de Carmichael < 10000. (Attention: 1 n'est pas considéré un nombres de Carmichael, car il n'est pas composé)."
   ]
  },
  {
   "cell_type": "code",
   "execution_count": null,
   "id": "7b5663de-bdbd-44e6-955c-0fd0e75ecb6e",
   "metadata": {},
   "outputs": [],
   "source": []
  },
  {
   "cell_type": "markdown",
   "id": "40e23048-9c65-4c31-9f41-59800b9aede0",
   "metadata": {},
   "source": [
    "### Exercice 1.c\n",
    "Le test de primalité de Fermat repose sur l'idée suivante  : si p est composé, alors il est peu probable que $a^{p–1}\\equiv 1\\pmod{p}$ pour une valeur arbitraire de $a$ (si $a^{p–1}\\equiv 1\\pmod{p}$, le nombre $p$ est dit *pseudo-premier de Fermat de base $a$*). Voici le pseudo-code correspondant:\n",
    "\n",
    "**Entrées :** \n",
    "  - p (un entier à tester)\n",
    "  - k (le nombre de bases aléatoires $a$ à tester)\n",
    "\n",
    "**Sortie :**\n",
    " - \"composé\" si p est composé\n",
    " - \"probablement premier\" si le test réussit pour toutes les bases\n",
    "\n",
    "Pour $i$ de $1$ à $k$ :\n",
    "1. Choisir une base aléatoire a dans $[2, p-2]$\n",
    "2. Calculer $a^{p-1} \\pmod p$\n",
    "3. Si $a^{p-1}\\not \\equiv 1 \\pmod p$, retourner \"composé\"\n",
    "\n",
    "Retourner \"probablement premier\".\n",
    "\n",
    "Écrire, dans la cellule suivante, une fonction `fermat_primality_test` qui implémente le code ci-dessus.\n"
   ]
  },
  {
   "cell_type": "code",
   "execution_count": null,
   "id": "97573c7d-dd81-4ee0-a8ae-7117a719dab4",
   "metadata": {},
   "outputs": [],
   "source": []
  },
  {
   "cell_type": "markdown",
   "id": "5382e53b-d5d4-4893-9dc4-72b93e6687c6",
   "metadata": {},
   "source": [
    "Dans la cellule ci-dessous, expliquer pourquoi le test donne toujours une réponse correcte lorsque $p$ est un nombre premier."
   ]
  },
  {
   "cell_type": "markdown",
   "id": "fa001f92-f3ac-4a8e-81a5-3e75ab300433",
   "metadata": {},
   "source": []
  },
  {
   "cell_type": "markdown",
   "id": "b2a4afa5-2f84-4eac-b4f4-bc0f7e73ef56",
   "metadata": {},
   "source": [
    "Dans la cellule ci-dessous, expliquer pourquoi le test de primalité donne toujours une réponse incorrecte lorsque $p$ est un nombre de Carmichael."
   ]
  },
  {
   "cell_type": "code",
   "execution_count": null,
   "id": "399d7bcc-4040-4091-be2b-f765ca92f7e3",
   "metadata": {},
   "outputs": [],
   "source": []
  },
  {
   "cell_type": "markdown",
   "id": "3d1d5d3f-75ab-400a-9d86-9f9d8eb57bd2",
   "metadata": {},
   "source": [
    "Pour $k=4$, exécuter la fonction `fermat_primality_test` 10000 fois avec des entiers positifs aléatoires inférieures à 100000 et compter le nombre de fois où le test de primalité donne une réponse incorrecte (faux positif ou faux négatif)."
   ]
  },
  {
   "cell_type": "code",
   "execution_count": null,
   "id": "37dabbea-6fc7-4556-919f-93a22ea13250",
   "metadata": {},
   "outputs": [],
   "source": []
  },
  {
   "cell_type": "markdown",
   "id": "ba9b1b59-ce9a-4afb-98c0-325078359566",
   "metadata": {},
   "source": [
    "## Exercice 2 - L'algorithme de Miller-Rabin\n",
    "Le test de Fermat échoue sur les nombres de Carmichael. L'algorithme de Miller-Rabin est un raffinement du test de Fermat.\n",
    "\n",
    "On considère $N$ impair. On écrit $N-1 = 2^v⋅m$ avec $m$ impair. L'idée est de calculer la suite $(b_i)_{0\\le i\\le v}$ où $b_i = a^{2^i⋅m}\\bmod N$. \n",
    "* Si $N$ est premier, $b_v = 1$ d'après le petit théorème de Fermat. Et comme $N$ est premier, les seules *racines carrées* de $1$ sont $1$ et $N-1$ (on montrera ça en TD). Donc soit $b_0 = \\dotsb = b_v = 1$, soit il existe $i < v$ tel que $b_i = N-1$.\n",
    "* Ce qu'on souhaite vérifier, c'est que si $N$ n'est pas premier, alors avec bonne probabilité, la suite $(b_i)$ n'a pas la forme décrite pour les nombres premiers. En particulier, cela signifie que soit $b_v ≠ 1$, soit on *passe directement* d'un $b_i ≠1,N-1$ à $b_{i+1} = 1$."
   ]
  },
  {
   "cell_type": "markdown",
   "id": "16484b06-ece6-4672-b4a9-51baad9230e9",
   "metadata": {},
   "source": [
    "### Exercice 2.a\n",
    "Écrire une fonction `decompose(N)` qui renvoie deux entiers $v$ et $m$, avec $m$ impair, tels que $N-1 = 2^v⋅m$."
   ]
  },
  {
   "cell_type": "code",
   "execution_count": null,
   "id": "0f65596e-ac44-4db1-a2aa-ce594f818175",
   "metadata": {},
   "outputs": [],
   "source": []
  },
  {
   "cell_type": "markdown",
   "id": "ce2a4187-84f3-4951-b654-0f0e8506441f",
   "metadata": {},
   "source": [
    "Écrire une fonction `SuiteB(N)` qui tire aléatoirement un entier $a$ entre $2$ et $N-1$, et renvoie la liste $[b_0, …, b_v]$ comme définie ci-dessus."
   ]
  },
  {
   "cell_type": "code",
   "execution_count": null,
   "id": "55578a0a-0a5d-4885-9905-af927c13c93d",
   "metadata": {},
   "outputs": [],
   "source": []
  },
  {
   "cell_type": "markdown",
   "id": "759b4912-1f5e-43d4-916a-7a6c7cc27a18",
   "metadata": {},
   "source": [
    "Écrire une fonction `testSuiteB(N)` qui calcule une suite de $b_i$ en appelant `suiteB(N)`, et qui renvoie `True` si elle vérifie les conditions énoncées dans le cas de $N$ premier, et `False` sinon."
   ]
  },
  {
   "cell_type": "code",
   "execution_count": null,
   "id": "b5a2a11b-2b1d-4e38-9ac1-31b6c2a3c5ad",
   "metadata": {},
   "outputs": [],
   "source": []
  },
  {
   "cell_type": "markdown",
   "id": "52f506d6-e1a6-4f80-98fe-a6493282865e",
   "metadata": {},
   "source": [
    "Vérifier que pour un nombre premier, la suite calculée vérifie toujours les conditions énoncées. Vérifier que pour des nombres composés, dont les nombres de Carmichael, la suite calculée ne vérifie les conditions des nombres premiers que très rarement."
   ]
  },
  {
   "cell_type": "code",
   "execution_count": null,
   "id": "f3452151-3e54-4724-845c-abbf47005fb9",
   "metadata": {},
   "outputs": [],
   "source": []
  },
  {
   "cell_type": "markdown",
   "id": "23052dc0-b376-4aee-a318-4ac6ca70f6d9",
   "metadata": {},
   "source": [
    "### Exercice 2.b\n",
    "L'algorithme de Miller-Rabin est quasiment écrit : il s'agit de tirer aléatoirement plusieurs valeurs $a$ aléatoirement, de calculer à chaque fois la suite $(b_i)$ et de vérifier si elle vérifie les conditions des nombres premiers. Si toutes les suites $(b_i)$ vérifient les conditions, l'algorithme répond `True` (le nombre est premier) sinon il répond `False`.\n",
    "\n",
    "Écrire une fonction `MillerRabin(N,k)` qui implante cet algorithme, où le paramètre $k$ désigne le nombre de valeurs $a$ choisies aléatoirement. Par rapport à la question précédente, on fait attention aux points suivants pour l'efficacité :\n",
    "- quand on tire $a$ aléatoirement, il peut arriver que le PGCD de $a$ et $N$ soit $≠1$ : on sait alors que $N$ n'est pas premier, et on répond directement `False` ;\n",
    "- dès qu'on a trouvé un $a$ pour lequel la suite $(b_i)$ ne vérifie pas les conditions, on peut directement répondre `False`, inutile de tirer de nouveaux $a$ ;\n",
    "- de la même façon, il n'est pas forcément nécessaire de calculer toute la suite $(b_i)$, on peut se rendre compte parfois assez vite si elle respecte, ou non, les conditions."
   ]
  },
  {
   "cell_type": "code",
   "execution_count": null,
   "id": "16b74a1f-ba37-499f-be76-002dd8c58c86",
   "metadata": {},
   "outputs": [],
   "source": []
  },
  {
   "cell_type": "markdown",
   "id": "56757484-040c-47ba-b814-cf775d8c2446",
   "metadata": {},
   "source": [
    "Tester la fonction sur différents nombres (premiers, composés, Carmichael), avec différentes valeurs de $k$ (entre $1$ et $10$ par exemple). Essayer de répondre aux questions suivantes :\n",
    "* Arrive-t-il à la fonction de se tromper quand $N$ est premier ? et quand $N$ est composé ? et quand il est de type Carmichaël ?\n",
    "* Dans les cas où il arrive que la fonction se trompe, avec quelle probabilité (empirique) cela arrive-t-il ?"
   ]
  },
  {
   "cell_type": "code",
   "execution_count": null,
   "id": "2c0bd565-629c-43b5-a301-97d56c35b8f9",
   "metadata": {},
   "outputs": [],
   "source": []
  }
 ],
 "metadata": {
  "kernelspec": {
   "display_name": "Python 3 (ipykernel)",
   "language": "python",
   "name": "python3"
  },
  "language_info": {
   "codemirror_mode": {
    "name": "ipython",
    "version": 3
   },
   "file_extension": ".py",
   "mimetype": "text/x-python",
   "name": "python",
   "nbconvert_exporter": "python",
   "pygments_lexer": "ipython3",
   "version": "3.12.5"
  }
 },
 "nbformat": 4,
 "nbformat_minor": 5
}
