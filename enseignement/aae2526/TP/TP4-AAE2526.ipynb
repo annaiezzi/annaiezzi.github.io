{
 "cells": [
  {
   "cell_type": "markdown",
   "id": "d56f7615",
   "metadata": {},
   "source": [
    "## 1. Calculer l'inverse dans $\\mathbb Z/n\\mathbb Z$"
   ]
  },
  {
   "cell_type": "markdown",
   "id": "ddd21db1",
   "metadata": {},
   "source": [
    "Dans ce TP vous avez droit à utiliser toutes les fonctions Sagemath que vous avez construites auparavant par vous mêmes. Par exemple `gcd`, `xgcd`, `is_prime`, `next_prime`, `factor`, etc. Utilisez la documentation si besoin."
   ]
  },
  {
   "cell_type": "markdown",
   "id": "7dc1f988",
   "metadata": {},
   "source": [
    "**Exercice 1.** \n",
    "1. Écrire une fonction `ElementsInversibles(n)` qui, étant donné $n\\in\\mathbb Z_{>0}$, calcule $\\left(\\mathbb Z/n\\mathbb Z\\right)^{\\times}$, c'est-à-dire l'ensemble des éléments inversibles sous forme de liste.\n",
    "2. Construire la liste les éléments inversibles de $\\mathbb Z/323\\mathbb Z$. Est-il possible d'établir si 323 est premier, juste en regardant la longueur de cette liste?"
   ]
  },
  {
   "cell_type": "code",
   "execution_count": null,
   "id": "ed18887a",
   "metadata": {},
   "outputs": [],
   "source": []
  },
  {
   "cell_type": "markdown",
   "id": "9d24e22c",
   "metadata": {},
   "source": [
    "**Exercice 2.** La fonction phi d'Euler, noté $\\varphi(n)$, est définie comme le nombre d'entiers $a$, avec $1\\leq a\\leq n$, qui sont premiers avec n. Voici comment calculer $\\varphi(n)$\n",
    "- Si $n$ est un nombre premier, alors tous les entiers de 1 à $n-1$ sont premiers avec $n$, donc $\\varphi(n)=n-1$.\n",
    "- Si $n$ a la décomposition en facteurs premiers\n",
    "$$n=p_1^{e_1}p_2^{e_2}\\cdots p_r^{e_r},$$\n",
    "alors $\\varphi(n)=\\left(p_1^{e_1}-p_1^{e_1-1}\\right)\\left(p_2^{e_2}-p_2^{e_2-1}\\right)\\cdots \\left(p_r^{e_r}-p_r^{e_r-1}\\right)$.\n",
    "\n",
    "Écrire une fonction `PhiEuler(n)` qui prend un entier $n>0$ en entrée et qui calcule $\\varphi(n)$.\n"
   ]
  },
  {
   "cell_type": "code",
   "execution_count": null,
   "id": "08944b9c",
   "metadata": {},
   "outputs": [],
   "source": []
  },
  {
   "cell_type": "markdown",
   "id": "d3104a30",
   "metadata": {},
   "source": [
    "**Exercice 3.** Vérifier, pour des entiers aléatoires $n>0$, que la longueur de la liste `ElementsInversibles(n)` est égale `PhiEuler(n)`."
   ]
  },
  {
   "cell_type": "code",
   "execution_count": null,
   "id": "92e6813d",
   "metadata": {},
   "outputs": [],
   "source": []
  },
  {
   "cell_type": "markdown",
   "id": "47d6fccb",
   "metadata": {},
   "source": [
    "**Exercice 4.** Soit $a\\in \\mathbb Z/n\\mathbb Z$. Écrire une fonction `InverseMod(a,n)` qui calcule l'inverse de $a$ modulo $n$, s'il existe, et qui envoie une erreur sinon. Comparer ensuite les temps d'exécution de votre fonction avec la méthode déjà implémentéé en Sage  `inverse_mod(a,n)`."
   ]
  },
  {
   "cell_type": "code",
   "execution_count": null,
   "id": "61ede609-32cb-4586-bc18-724dedc690a6",
   "metadata": {},
   "outputs": [],
   "source": []
  },
  {
   "cell_type": "markdown",
   "id": "dfef923c",
   "metadata": {},
   "source": [
    "## 2. Congruences linéaires"
   ]
  },
  {
   "cell_type": "markdown",
   "id": "dbed3f06",
   "metadata": {},
   "source": [
    "**Exercice 5.** \n",
    "1. Soit $a,b\\in \\mathbb Z$ et $n\\in\\mathbb Z_{>0}$. Écrire une fonction `ResolutionCongruence(a,b,n)` qui calcule une solution $z$ de l'équation $az\\equiv b\\pmod{n}$, si elle existe, et qui renvoie une erreure sinon. \n",
    "2. Tester votre fonction avec les congruences linéaires de l'éxercice 7(a) du TD3."
   ]
  },
  {
   "cell_type": "code",
   "execution_count": null,
   "id": "e02ab4a3",
   "metadata": {},
   "outputs": [],
   "source": []
  },
  {
   "cell_type": "markdown",
   "id": "67f5afb5",
   "metadata": {},
   "source": [
    "## 3. Théorème chinois des restes"
   ]
  },
  {
   "cell_type": "markdown",
   "id": "c0cd362c",
   "metadata": {},
   "source": [
    "**Exercice 6.** Écrire une fonction `RestesChinois` qui prend en entrée deux listes ($a_1$, …, $a_k$) et ($n_1$, …, $n_k$) et renvoie l'unique entier $z < \\prod_i n_i$ qui vérifie $z\\equiv a_i \\pmod{n_i}$ pour tout $i=1,\\ldots,k$.\n",
    "\n",
    "*Votre fonction doit vérifier que les entrées sont correctes, c'est-à-dire que les deux listes ont la même longueur, et que les $n_i$ sont premiers deux à deux.* "
   ]
  },
  {
   "cell_type": "code",
   "execution_count": null,
   "id": "7131058b",
   "metadata": {},
   "outputs": [],
   "source": []
  },
  {
   "cell_type": "markdown",
   "id": "a5416593",
   "metadata": {},
   "source": [
    "**Exercice 7.** Lire la documentation de la fonction `prod` et écrire une nouvelle version de `ResteChinois` qui l'utilise. On peut aussi utiliser la fonction `sum` de la même façon."
   ]
  },
  {
   "cell_type": "code",
   "execution_count": null,
   "id": "21c3cc22",
   "metadata": {},
   "outputs": [],
   "source": []
  },
  {
   "cell_type": "markdown",
   "id": "bdf28001",
   "metadata": {},
   "source": [
    "**Exercice 8.** Le théorème chinois permet de définir une bijection entre $\\{0,…,n_1-1\\}×\\dotsb×\\{0,…,n_k-1\\}$ et $\\{0,…,N-1\\}$ où $N = \\prod_{i=1}^k n_i$. Quel sens de la bijection est fourni par `RestesChinois` ? Écrire la fonction réciproque, et tester que les deux fonctions sont bien réciproques l'une de l'autre."
   ]
  },
  {
   "cell_type": "code",
   "execution_count": null,
   "id": "791edb4a",
   "metadata": {},
   "outputs": [],
   "source": []
  },
  {
   "cell_type": "code",
   "execution_count": null,
   "id": "a3d31b71-15ce-4efa-8038-34c3393ee500",
   "metadata": {},
   "outputs": [],
   "source": []
  },
  {
   "cell_type": "markdown",
   "id": "4cd68d88",
   "metadata": {},
   "source": [
    "## 4. RSA simplifié\n",
    "\n",
    "RSA (Rivest-Shamir-Adleman) est un algorithme de chiffrement à clé publique largement utilisé dans la cryptographie moderne. Sa sécurité repose sur la difficulté de factoriser de grands nombres entiers, en particulier lorsqu'ils sont le produit de deux grands nombres premiers.\n",
    "\n",
    "Dans sa version basique, RSA consiste en 3 étapes :\n",
    "\n",
    "$\\bullet$ **Génération des clés**\n",
    "1. Choisir deux grands nombres premiers $p$ et $q$.\n",
    "2. Calculer leur produit $n=pq$, appelé *modulus*.\n",
    "3. Calculer la fonction d’Euler $\\varphi(n) = (p-1)(q-1)$.\n",
    "4. Choisir un exposant $e$ premier avec $\\varphi(n)$.\n",
    "5. Calculer l’inverse de $e$ modulo $\\varphi(n)$, noté $d$.\n",
    "\n",
    "La clé **publique** est $(n, e)$.  \n",
    "La clé **privée** est $(n, d)$.\n",
    "\n",
    "\n",
    "$\\bullet$  **Chiffrement :** Pour un message $M < n$ (représenté comme un entier), le correspondant message chiffré est $C \\equiv M^e \\pmod{n}$.\n",
    "\n",
    "$\\bullet$ **Déchiffrement :** On retrouve le message avec la clé privée : $M \\equiv C^d \\pmod{n}$.\n",
    "\n",
    "La **correction** du déchiffrement RSA repose sur le théorème d’Euler : Soient $n \\ge 1$ un entier et $a$ un entier premier avec $n$. Alors :\n",
    "\n",
    "$$\n",
    "a^{\\varphi(n)} \\equiv 1 \\pmod{n},\n",
    "$$\n",
    "\n",
    "où $\\varphi(n)$ est la fonction indicatrice d’Euler. Pourquoi ? (*Remarque :* même si pour appliquer le théorème  d'Euler il faut que pgdc$(M,n)=1$, le déchiffrement RSA reste correct pour tout message $M$.)\n",
    "\n",
    "\n",
    "La **sécurité** de RSA repose sur le fait que, en connaissant seulement $n$ et $e$, il est très difficile de retrouver $d$ sans factoriser $n$ en $p \\times q$.\n",
    "\n",
    "\n",
    "Le but de cet exercice est d'implanter les algorithmes nécessaires pour une version simplifiée du cryptosystème RSA. "
   ]
  },
  {
   "cell_type": "markdown",
   "id": "6f08df4f",
   "metadata": {},
   "source": [
    "**Exercice 9.** Écrire une fonction `RSA_KeyGen(b)` qui prend en entrée un entier $b$ et génère un couple de clefs *publique* et *privée* $(pk,sk)$ selon l'algorithme suivant :\n",
    "\n",
    "1. tirer aléatoirement deux nombres premiers $p$ et $q$ de $b$ bits ;\n",
    "2. calculer $N = p\\times q$ et $\\varphi(N) = (p-1)\\times(q-1)$ ;\n",
    "3. tirer aléatoirement un entier $1<e<\\varphi(N)$ premier avec $\\varphi(N)$ ;\n",
    "4. calculer l'inverse $d$ de $e$ modulo $φ(N)$ ;\n",
    "5. renvoyer $pk = (N, e)$ et $sk = d$.\n",
    "    \n",
    "Utiliser la fonction pour générer un couple de clefs de $100$ bits."
   ]
  },
  {
   "cell_type": "code",
   "execution_count": null,
   "id": "1fedfd8f",
   "metadata": {},
   "outputs": [],
   "source": []
  },
  {
   "cell_type": "markdown",
   "id": "28eda806-d6e5-4782-841f-4cad7bf0c24a",
   "metadata": {},
   "source": [
    "_Remarque : pour avoir un RSA utilisable en pratique, on est obligé d'introduire un aléa $r$ pour éviter certaines attaques_"
   ]
  },
  {
   "cell_type": "markdown",
   "id": "fe8befbe",
   "metadata": {},
   "source": [
    "**Exercice 10.** Écrire une fonction `RSA_Encrypt(m, pk)` qui prend en entrée un entier $m<N$ et une clef publique $pk = (N,e)$, et renvoie le *chiffré* $c\\in \\mathbb Z/N\\mathbb Z\\times \\in \\mathbb Z/N\\mathbb Z$ de $m∈\\mathbb Z$ avec la clef $pk$, selon l'algorithme suivant :\n",
    "\n",
    "1. tirer aléatoirement un élément $r$ *inversible* dans $\\mathbb Z/N\\mathbb Z$ ;\n",
    "2. calculer l'élément $s = (m\\times r)^e\\in \\mathbb Z/N\\mathbb Z$ ;\n",
    "3. renvoyer $c = (s,r)$.\n",
    "   \n",
    "Utiliser la fonction pour chiffrer un message $m$ de votre choix avec la clef publique de la question précédente."
   ]
  },
  {
   "cell_type": "code",
   "execution_count": null,
   "id": "664b8335",
   "metadata": {},
   "outputs": [],
   "source": []
  },
  {
   "cell_type": "markdown",
   "id": "5f64428b",
   "metadata": {},
   "source": [
    "**Exercice 11.** Écrire une fonction `RSA_Decrypt(c, sk)` qui prend en entrée $c = (s,r)\\in \\mathbb Z/N\\mathbb Z \\times \\mathbb Z/N\\mathbb Z$ et la clef privée $sk = d$, et renvoie le message $m$ avec l'algorithme suivant :\n",
    "\n",
    "1. calculer $m= s^d×r^{-1}\\in \\mathbb Z/N\\mathbb Z$ ;\n",
    "2. renvoyer $m$.\n",
    "    \n",
    "Utiliser la fonction pour déchiffrer le chiffré de la question précédente (et vérifier qu'on retrouve bien le message d'origine)."
   ]
  },
  {
   "cell_type": "code",
   "execution_count": null,
   "id": "56092a98",
   "metadata": {},
   "outputs": [],
   "source": []
  },
  {
   "cell_type": "markdown",
   "id": "075ff8f7",
   "metadata": {},
   "source": [
    "**Exercice 12.** Écrire une fonction de test `RSA_test(b)` qui génére un couple de clefs de $b$ bits, tire aléatoirement un message $m∈ℤ$, calcule son chiffré, puis déchiffre le chiffré et vérifie si on retrouve bien le message de départ. Utiliser la fonction dans une boucle pour vérifier vos algorithmes, avec valeurs de $b$ jusqu'à 1000 bits."
   ]
  },
  {
   "cell_type": "code",
   "execution_count": null,
   "id": "81f6262b",
   "metadata": {},
   "outputs": [],
   "source": []
  }
 ],
 "metadata": {
  "kernelspec": {
   "display_name": "SageMath 10.6",
   "language": "sage",
   "name": "sagemath-10.6"
  },
  "language_info": {
   "codemirror_mode": {
    "name": "ipython",
    "version": 3
   },
   "file_extension": ".py",
   "mimetype": "text/x-python",
   "name": "python",
   "nbconvert_exporter": "python",
   "pygments_lexer": "ipython3",
   "version": "3.12.5"
  }
 },
 "nbformat": 4,
 "nbformat_minor": 5
}
