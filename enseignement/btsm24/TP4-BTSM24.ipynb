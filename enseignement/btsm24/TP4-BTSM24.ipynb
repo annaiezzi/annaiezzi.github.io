{
 "cells": [
  {
   "cell_type": "markdown",
   "id": "3c3ecf84",
   "metadata": {},
   "source": [
    "# TP4 - De l'algèbre à la géométrie"
   ]
  },
  {
   "cell_type": "markdown",
   "id": "7615ca86",
   "metadata": {},
   "source": [
    "## 1. Variables et fonctions"
   ]
  },
  {
   "cell_type": "markdown",
   "id": "6b253831",
   "metadata": {},
   "source": [
    "Pour définir une  variable, on utilise la fonction var() :"
   ]
  },
  {
   "cell_type": "code",
   "execution_count": null,
   "id": "66e8578e",
   "metadata": {},
   "outputs": [],
   "source": [
    "x = var('x') # Maintenant,x est une variable symbolique"
   ]
  },
  {
   "cell_type": "markdown",
   "id": "0d2f1a4a",
   "metadata": {},
   "source": [
    "On peut aussi définir plusieurs variables au même temps :"
   ]
  },
  {
   "cell_type": "code",
   "execution_count": null,
   "id": "4d813d06",
   "metadata": {},
   "outputs": [],
   "source": [
    "x, y, z = var('x y z')"
   ]
  },
  {
   "cell_type": "markdown",
   "id": "79c19cbf",
   "metadata": {},
   "source": [
    "Les variables permettent de définir des  fonctions (polynomiales, rationnelles, trigonometriques, etc.)"
   ]
  },
  {
   "cell_type": "code",
   "execution_count": null,
   "id": "91924db6",
   "metadata": {},
   "outputs": [],
   "source": [
    "x = var('x')\n",
    "f = x^5 + 3*x^2 - 5\n",
    "g= (x^2-1)/(x+3)\n",
    "h=cos(x)+sin(x)"
   ]
  },
  {
   "cell_type": "markdown",
   "id": "aaed44bd",
   "metadata": {},
   "source": [
    "On peut facilement évaluer une fonction $f$ en une valeur $a$ en écrivant `f(x=a)`. *Attention: Lorsque SageMath effectue des calculs symboliques il s'attend à travailler dans un environnement où la caractéristique est zéro. Donc, par exemple, l'évaluation d'une fonction polynomiale en un élément d'un corps fini n'est pas possible.*"
   ]
  },
  {
   "cell_type": "code",
   "execution_count": null,
   "id": "33131a90",
   "metadata": {},
   "outputs": [],
   "source": [
    "f(x=5) #attention, f(5) marche seulement si la fonction a été définie comme f(x) = x^5 + 3*x^2 - 5"
   ]
  },
  {
   "cell_type": "code",
   "execution_count": null,
   "id": "7f68eb69",
   "metadata": {},
   "outputs": [],
   "source": [
    "#Vérifier que cela engendre une erreur\n",
    "b=IntegerModRing(17)(11)\n",
    "print(f(x=b))"
   ]
  },
  {
   "cell_type": "markdown",
   "id": "c86213fa",
   "metadata": {},
   "source": [
    "On peut  utiliser la fonction `plot` pour tracer un ou plusieurs graphes dans le plan réel, en spécifiant l'intervalle de la variable."
   ]
  },
  {
   "cell_type": "code",
   "execution_count": null,
   "id": "80a8eeb9",
   "metadata": {},
   "outputs": [],
   "source": [
    "plot(f,(x,-2,2)) #trace le graphe de f sur l'intervalle [-2,2]"
   ]
  },
  {
   "cell_type": "code",
   "execution_count": null,
   "id": "cead50f0",
   "metadata": {},
   "outputs": [],
   "source": [
    "plot([f,g,h],(x,-2,2))"
   ]
  },
  {
   "cell_type": "markdown",
   "id": "6e1ba535",
   "metadata": {},
   "source": [
    "On peut aussi \"additioner\" des graphes, pour les faire tous apparaître sur le même plan. Voici un example :"
   ]
  },
  {
   "cell_type": "code",
   "execution_count": null,
   "id": "e1bb91d9",
   "metadata": {},
   "outputs": [],
   "source": [
    "graph=plot(f,(x,-2,2))+plot(h,(x,-3,3))\n",
    "show(graph)"
   ]
  },
  {
   "cell_type": "markdown",
   "id": "71ea8836",
   "metadata": {},
   "source": [
    "Attention: la fonction `plot` ne marche pas avec des objets de type polynôme."
   ]
  },
  {
   "cell_type": "code",
   "execution_count": null,
   "id": "cedef2b2",
   "metadata": {},
   "outputs": [],
   "source": [
    "A.<x>=RR[]\n",
    "f=x^2-1\n",
    "plot(f,(x,-2,2)) #tester qu'on obtient une erreur"
   ]
  },
  {
   "cell_type": "markdown",
   "id": "4221ad91",
   "metadata": {},
   "source": [
    "**Exercice 1.** Définir la fonction rationnelle \n",
    "$$f(x)=\\frac{x-2}{x^2+4}$$\n",
    "et tracer son graphe sur l'intervalle (-10,10).\n",
    "Parmi les options de la fonction `plot`, chercher celles qui permettent d'afficher le graphe en rouge, de tracer la ligne en pointillés et d'augmenter son épaisseur."
   ]
  },
  {
   "cell_type": "code",
   "execution_count": null,
   "id": "5b5d575e",
   "metadata": {},
   "outputs": [],
   "source": []
  },
  {
   "cell_type": "markdown",
   "id": "6ad223a7",
   "metadata": {},
   "source": [
    "## 2. Équations implicites"
   ]
  },
  {
   "cell_type": "markdown",
   "id": "16e095cd",
   "metadata": {},
   "source": [
    "Une équation implicite est une équation de la forme :\n",
    "$$f(x,y)=0.$$\n",
    "La fonction `implicit_plot` dans SageMath est utilisée pour tracer des courbes ou des surfaces définies par des équations implicites."
   ]
  },
  {
   "cell_type": "code",
   "execution_count": null,
   "id": "f70695da",
   "metadata": {},
   "outputs": [],
   "source": [
    "x, y = var('x y')\n",
    "implicit_plot(x^2 + y^2 == 1, (x, -2, 2), (y, -2, 2))"
   ]
  },
  {
   "cell_type": "markdown",
   "id": "ef993d28",
   "metadata": {},
   "source": [
    "**Exercice 2** Tracer la courbe plane définie par l'équation implicite \n",
    "$$(x^2+y^2-1)^3=x^2y^3.$$\n",
    "Trouver les options de la fonction `implicit_plot` qui permettent de colorer à la fois la ligne de contour et l'intérieur de la courbe en rouge."
   ]
  },
  {
   "cell_type": "code",
   "execution_count": null,
   "id": "7c2021ff",
   "metadata": {},
   "outputs": [],
   "source": []
  },
  {
   "cell_type": "markdown",
   "id": "875d2894",
   "metadata": {},
   "source": [
    "## 3. Dérivées et dérivées partielles"
   ]
  },
  {
   "cell_type": "markdown",
   "id": "f7cb732e",
   "metadata": {},
   "source": [
    "Pour calculer la dérivée (partielle) d'une fonction on peut utiliser la méthode `diff` ou `derivative`, en précisant la variable par rapport à laquelle on veut dériver."
   ]
  },
  {
   "cell_type": "code",
   "execution_count": null,
   "id": "f799757a",
   "metadata": {},
   "outputs": [],
   "source": [
    "x, y = var('x y')\n",
    "g(x, y) = x^2 * y + y^3\n",
    "dg_dx = g.diff(x)\n",
    "dg_dy = g.diff(y)\n",
    "\n",
    "dg_dx, dg_dy"
   ]
  },
  {
   "cell_type": "markdown",
   "id": "9c68bb57",
   "metadata": {},
   "source": [
    "Pour évaluer une dérivée en un point, on utilise la syntaxe suivante :"
   ]
  },
  {
   "cell_type": "code",
   "execution_count": null,
   "id": "829fb723",
   "metadata": {},
   "outputs": [],
   "source": [
    "# Évaluer les dérivées partielles à (1, 2)\n",
    "dg_dx_at_1_2 = dg_dx.subs({x: 1, y: 2})\n",
    "dg_dy_at_1_2 = dg_dy.subs({x: 1, y: 2})\n",
    "\n",
    "dg_dx_at_1_2, dg_dy_at_1_2"
   ]
  },
  {
   "cell_type": "markdown",
   "id": "759a5665",
   "metadata": {},
   "source": [
    "## 4. Points critiques et points fortement $x$-critiques"
   ]
  },
  {
   "cell_type": "markdown",
   "id": "4d3780fc",
   "metadata": {},
   "source": [
    "Dans cette section nous allons mettre en pratique ce que nous avons appris dans le cours de Daouda."
   ]
  },
  {
   "cell_type": "markdown",
   "id": "fe9aeb1b",
   "metadata": {},
   "source": [
    "**Exercice 3.** \n",
    "1. Définir $\\mathbb Z[x,y]$, c'est-à-dire de l'anneau de polynômes en $x$ et $y$ à coefficients dans $\\mathbb Z$.\n",
    "1. Définir $\\mathbb Z[x][y]$, c'est-à-dire de l'anneau de polynômes en $y$ à coefficients dans $\\mathbb Z[x]$.\n",
    "1. Vérifier que les deux structures sont effectivement différentes pour SageMath."
   ]
  },
  {
   "cell_type": "code",
   "execution_count": null,
   "id": "2c777a6b",
   "metadata": {},
   "outputs": [],
   "source": []
  },
  {
   "cell_type": "code",
   "execution_count": null,
   "id": "d074b0bb",
   "metadata": {},
   "outputs": [],
   "source": []
  },
  {
   "cell_type": "code",
   "execution_count": null,
   "id": "826e9422",
   "metadata": {},
   "outputs": [],
   "source": []
  },
  {
   "cell_type": "markdown",
   "id": "d42621a2",
   "metadata": {},
   "source": [
    "Soit $f(x,y)\\in \\mathbb Z[x,y]$ un polynôme à coefficients entiers. Il est possible de changer la structure pour voir $f(x,y)$ comme un élément de $\\mathbb Z[x][y]$. Voici un exemple :"
   ]
  },
  {
   "cell_type": "code",
   "execution_count": null,
   "id": "a70ea2db",
   "metadata": {},
   "outputs": [],
   "source": [
    "R.<X, Y> = ZZ[]\n",
    "f = X^2*Y + 3*X*Y^2 + 2*Y\n",
    "\n",
    "S.<Y> = PolynomialRing(PolynomialRing(ZZ, 'X'))\n",
    "S(f)\n",
    "f"
   ]
  },
  {
   "cell_type": "code",
   "execution_count": null,
   "id": "7f49200a",
   "metadata": {},
   "outputs": [],
   "source": [
    "print(f.parent())\n",
    "print(S(f).parent())\n",
    "f==S(f) #Remarquer que f et S(f) sont le même polynôme pour Sagemath, même leurs \"parents\" sont à priori différents"
   ]
  },
  {
   "cell_type": "markdown",
   "id": "cdf07918",
   "metadata": {},
   "source": [
    "**Exercice 4.** Pour vous aider à écrire les fonctions ci-dessous, vous pouvez utiliser comme exemple sur lequel travailler le polynôme $f(x,y)=y^2 -x^3-x^2$.\n",
    "\n",
    "Soit $f(x,y)\\in \\mathbb Z[x][y]$.\n",
    "1. Écrire une fonction `Contenu(f)` qui calcule le contenu de $f$, c'est à dire le pgcd de tous ses coefficients.\n",
    "2. Écrire une fonction `PartiePrimitive(f)` qui calcule la partie primitive de $f$, c'est à dire le polynôme $\\tilde{f}$ tel que $\\tilde{f}\\cdot \\operatorname{cont}(f)=f$.\n",
    "2. Écrire une fonction `ComposantesVerticales(f)` qui calcule les composantes verticales $x=\\alpha$ de $V(f)$. *Revoir les notes de Daouda, si besoin.*\n",
    "2. Écrire une fonction `PointsCritiques(f)` qui calcule les points critiques réels de $V(f)$. *Revoir les notes de Daouda et utiliser la fonction `solve`, si besoin.*\n",
    "2. Écrire une fonction `PointsSinguliers(f)` qui calcule les points singuliers réels de $V(f)$. *Revoir les notes de Daouda et utiliser la fonction `solve`, si besoin.*\n",
    "2. Écrire une fonction `PointsFortementxCritiques(f)` qui calcule les points fortement $x$-critiques de $V(f)$. *Revoir les notes de Daouda et utiliser la fonction `solve`, si besoin.*\n",
    "\n",
    "<span style=\"color:red\">Attention: parfois il faudra traiter $f$ comme un polynôme, parfois comme une expression symbolique, selon les fonctions et méthodes que l'on veut utiliser.</span>\n"
   ]
  },
  {
   "cell_type": "code",
   "execution_count": null,
   "id": "ade41c87",
   "metadata": {},
   "outputs": [],
   "source": []
  },
  {
   "cell_type": "code",
   "execution_count": null,
   "id": "fd30693f",
   "metadata": {},
   "outputs": [],
   "source": []
  },
  {
   "cell_type": "code",
   "execution_count": null,
   "id": "309b37a2",
   "metadata": {},
   "outputs": [],
   "source": []
  },
  {
   "cell_type": "code",
   "execution_count": null,
   "id": "43eaa892",
   "metadata": {},
   "outputs": [],
   "source": []
  },
  {
   "cell_type": "code",
   "execution_count": null,
   "id": "da838e38",
   "metadata": {},
   "outputs": [],
   "source": []
  },
  {
   "cell_type": "code",
   "execution_count": null,
   "id": "b39066d1",
   "metadata": {},
   "outputs": [],
   "source": []
  },
  {
   "cell_type": "markdown",
   "id": "d336efb8",
   "metadata": {},
   "source": [
    "**Exercice 5.** La *lemniscate de Bernoulli* peut être définie par l'équation implicite\n",
    "\n",
    "$$\\mathcal C_1:(x^2+y^2)^2-2(x^2-y^2)=0.$$ \n",
    "\n",
    "Soit $f(x,y)=(x^2+y^2)^2-2(x^2-y^2)$.\n",
    "1. Tracer la courbe $\\mathcal C_1$ dans le plan réel. À l'aide du graphe, déterminer, s'ils existent, les composantes verticales, les points critiques , les points singuliers et les points fortement $x$ critiques de $V(f)$.\n",
    "1. Utiliser les fonctions de l'exercice précédent pour calculer le contenu et la partie primitive de $f$. Calculer aussi les composantes verticales, les points critiques , les points singuliers et les points fortement $x$ critiques de $V(f)$.\n",
    "1. Calculer le resultant par rapport à $y$ de $f$ et $\\frac{d}{dy}$. Calculer ses racines et comparer avec les abscisses des points critiques. Est-ce que les deux ensembles coïncident ? Si non, pourquoi cela est quand même cohérent ?\n",
    "1. Dessiner sur la courbe, en une couleur différente, les points critiques de $V(f)$. *Pour cela utiliser éventuellement les fonctions point et show.*\n",
    "1. Repeter le même exercice avec les courbes $$\\mathcal C_2:(x^2-1)y^2+xy+1=0$$ et $$\\mathcal C_3:2x^4+y^4-x^3+xy^2=0.$$"
   ]
  },
  {
   "cell_type": "code",
   "execution_count": null,
   "id": "792c39c4",
   "metadata": {},
   "outputs": [],
   "source": []
  },
  {
   "cell_type": "code",
   "execution_count": null,
   "id": "356b50ea",
   "metadata": {},
   "outputs": [],
   "source": []
  },
  {
   "cell_type": "code",
   "execution_count": null,
   "id": "b55fc382",
   "metadata": {},
   "outputs": [],
   "source": []
  },
  {
   "cell_type": "markdown",
   "id": "4ff0812b",
   "metadata": {},
   "source": [
    "## 5. Plot3d"
   ]
  },
  {
   "cell_type": "markdown",
   "id": "dfdfa80f",
   "metadata": {},
   "source": [
    "Dans SageMath il est aussi possible de tracer des surfaces en 3D, mais, malheuresement, notre temps ensemble touche à sa fin. C'est à vous maintenant de continuer l'exploration de SageMath, d'expérimenter ses nombreuses fonctionnalités et de découvrir comment comment cet outil peut enrichir vos travaux de recherche et vos enseignements. Mais avant de nous quitter, un dernier exemple..."
   ]
  },
  {
   "cell_type": "code",
   "execution_count": null,
   "id": "8f122478",
   "metadata": {},
   "outputs": [],
   "source": [
    "x, y,z = var('x y z')\n",
    "surface_heart=implicit_plot3d((x^2+(9/4)*y^2+z^2-1)^3-x^2*z^3-(9/80)*y^2*z^3==0,(x, -1.5, 1.5), (y, -1.5, 1.5),(z, -1.5,1.5),color=\"red\",opacity=0.7)\n",
    "show(surface_heart+ text3d('Jërëjëf bu baax !', (0, 0, 0.4), fontsize=18, color='black'))"
   ]
  },
  {
   "cell_type": "code",
   "execution_count": null,
   "id": "4ec8d40c",
   "metadata": {},
   "outputs": [],
   "source": []
  }
 ],
 "metadata": {
  "kernelspec": {
   "display_name": "SageMath 9.6",
   "language": "sage",
   "name": "sagemath-9.6"
  },
  "language_info": {
   "codemirror_mode": {
    "name": "ipython",
    "version": 3
   },
   "file_extension": ".py",
   "mimetype": "text/x-python",
   "name": "python",
   "nbconvert_exporter": "python",
   "pygments_lexer": "ipython3",
   "version": "3.10.3"
  }
 },
 "nbformat": 4,
 "nbformat_minor": 5
}
