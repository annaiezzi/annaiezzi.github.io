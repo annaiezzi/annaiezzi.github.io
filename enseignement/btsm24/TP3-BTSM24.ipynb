{
 "cells": [
  {
   "cell_type": "markdown",
   "id": "45b54a5b",
   "metadata": {},
   "source": [
    "# TP3 - Anneaux de polynômes"
   ]
  },
  {
   "cell_type": "markdown",
   "id": "3ab67599",
   "metadata": {},
   "source": [
    "Pour définir un polynôme dans SageMath, il faut d'abord spécifier l'anneau ou le corps sur lequel le polynôme est défini, puis utiliser une variable pour exprimer le polynôme. Voici donc les étapes :\n",
    "1. Définir l'anneau ou le corps (par exemple l'anneau des entiers `ZZ`, le corps des rationnels `QQ`, le corps des complexes `CC`, un corps fini `GF(p^r)`, etc.);\n",
    "2. Définir la variable du polynôme.\n",
    "\n",
    "Si $A$ est un anneau est $x$ est une variable, on peut définir l'anneau de polynômes en $x$ à coefficients dans $A$ de plusieurs façons:\n",
    "\n",
    "`R.<x> = A[ ]`,\n",
    "\n",
    "`R = A['x']`,\n",
    "\n",
    "`R.<x> = PolynomialRing(A)`,\n",
    "\n",
    "`R = PolynomialRing(A, 'x')`."
   ]
  },
  {
   "cell_type": "markdown",
   "id": "4a4410b3",
   "metadata": {},
   "source": [
    "## 0. Quelques exemples"
   ]
  },
  {
   "cell_type": "code",
   "execution_count": null,
   "id": "74c9a8bf",
   "metadata": {},
   "outputs": [],
   "source": [
    "#Définir l'anneau des polynômes à coefficient rationnels\n",
    "R.<x> = QQ[]  # QQ représente les nombres rationnels\n",
    "P = x^4 - 3*x^2 + 8  # Définir le polynôme P(x) = x^4 - 3x^2 + 8\n",
    "print(P)\n",
    "P.parent() #la méthode parent permet de déterminer la structure algébrique à laquelle un objet appartient\n"
   ]
  },
  {
   "cell_type": "code",
   "execution_count": null,
   "id": "c5906a87",
   "metadata": {},
   "outputs": [],
   "source": [
    "#Définir l'anneau des polynômes à coefficient sur un corps fini\n",
    "F.<x> = GF(5^2)[]  # GL(5^2) représente le corps fini à 5^2 éléments\n",
    "P = x^4 - 3*x^2 + 8 \n",
    "P,P.parent()"
   ]
  },
  {
   "cell_type": "markdown",
   "id": "ccd740ce",
   "metadata": {},
   "source": [
    "On peut aussi définir des anneaux de polynômes multivariés"
   ]
  },
  {
   "cell_type": "code",
   "execution_count": null,
   "id": "b0e42c19",
   "metadata": {},
   "outputs": [],
   "source": [
    "R.<x, y,z> = QQ[]  # Anneau des polynômes à trois variables sur Q\n",
    "P = x^2 + y^2+z^2 + x*y + x*z + y*z  # Définir le polynôme P(x, y,z) = x^2 + y^2 + z^2+xy+xz+yz\n",
    "R,P"
   ]
  },
  {
   "cell_type": "markdown",
   "id": "1c789bb1",
   "metadata": {},
   "source": [
    "## 2. Évaluation de polynômes"
   ]
  },
  {
   "cell_type": "markdown",
   "id": "d5e285c3",
   "metadata": {},
   "source": [
    "Pour évaluer un polynôme $P$ dans une valeur $a$ il suffit de faire `P(a)`."
   ]
  },
  {
   "cell_type": "code",
   "execution_count": null,
   "id": "815bed8b",
   "metadata": {},
   "outputs": [],
   "source": [
    "R.<x> = QQ[] \n",
    "P = x^4 - 3*x^2 + 8\n",
    "P(3),P(-1)"
   ]
  },
  {
   "cell_type": "markdown",
   "id": "e9a7e09e",
   "metadata": {},
   "source": [
    "**Exercice 1.** Soit $F$ un corps fini et $P$ un polynôme à coefficients dans $F$. \n",
    "1. Écrire une fonction `Zeros(P,F)` qui renvoie la liste des racines de $P$ qui sont dans $F$. \n",
    "2. Vérifier que le polynôme $P(x)=6x^5 + 9x^4 + 11x^3 + 12x^2 + 4x + 14$ a trois racines dans $\\mathbb F_{17}$."
   ]
  },
  {
   "cell_type": "markdown",
   "id": "1ec09645",
   "metadata": {},
   "source": [
    "## 2. Quelques méthodes pour les polynômes "
   ]
  },
  {
   "cell_type": "markdown",
   "id": "637c86e9",
   "metadata": {},
   "source": [
    "Les polynômes sont des objets mathématiques qui possèdent plusieurs méthodes associées. Par exemple la méthode `degree` permet de calculer le degré d'un polynôme. "
   ]
  },
  {
   "cell_type": "code",
   "execution_count": null,
   "id": "d5fc2833",
   "metadata": {},
   "outputs": [],
   "source": [
    "R.<x> = QQ[]  \n",
    "P = x^7 + 2*x^6 - 23*x^5 + 14*x^4 + 43*x^3 - 34*x^2 - 21*x + 18 \n",
    "P.degree()"
   ]
  },
  {
   "cell_type": "markdown",
   "id": "5461bff6",
   "metadata": {},
   "source": [
    "**Exercice 2.** Étant donné un polynôme, chercher les méthodes associées qui permettent de calculer sa dérivée, ses racines, son discriminant, sa factorisation ou de savoir si le polynôme est irréductible. Tester chacune de ces méthodes sur le polynôme $P$ défini dans la cellule précédente. "
   ]
  },
  {
   "cell_type": "code",
   "execution_count": null,
   "id": "688c822a",
   "metadata": {},
   "outputs": [],
   "source": []
  },
  {
   "cell_type": "code",
   "execution_count": null,
   "id": "e310ed26",
   "metadata": {},
   "outputs": [],
   "source": []
  },
  {
   "cell_type": "code",
   "execution_count": null,
   "id": "7ee9cdab",
   "metadata": {},
   "outputs": [],
   "source": []
  },
  {
   "cell_type": "markdown",
   "id": "28c63608",
   "metadata": {},
   "source": [
    "## 3. Division euclidienne entre deux polynômes"
   ]
  },
  {
   "cell_type": "markdown",
   "id": "a174df08",
   "metadata": {},
   "source": [
    "Soient $A$ et $B$ deux polynômes de $K[X]$, avec $K$ un corps et $B$ non nul, alors  il existe un unique couple $(Q, R)$ de polynômes de $K[X]$ tel que\n",
    "\n",
    "$$A=BQ+R, \\operatorname{ avec } \\deg(R)<\\deg(B).$$\n",
    "\n",
    "On appelle le polynôme $Q$ le **quotient** et polynôme $R$ le **reste** de la **division eucidienne** de $A$ par $B$."
   ]
  },
  {
   "cell_type": "markdown",
   "id": "6778504d",
   "metadata": {},
   "source": [
    "**Exercice 3.** Pour calculer le quotient et le reste de la division euclidienne entre deux polynômes, on peut utiliser la méthode `quo_rem()`. En demandant éventuellement de l'aide à Sagemath, comprendre comment la méthode marche. Dans l'anneau des polynômes à coefficients dans le corps fini à 81 éléments, calculer alors le quotient et le reste de la division de $P(x)=x^6-9x^4+2x+37$ par $Q(x)=x^2+6x+18$."
   ]
  },
  {
   "cell_type": "code",
   "execution_count": null,
   "id": "15ce14a3",
   "metadata": {},
   "outputs": [],
   "source": []
  },
  {
   "cell_type": "markdown",
   "id": "53e0b4bf",
   "metadata": {},
   "source": [
    "**Exercice 4.** \n",
    "1. Écrire une version de l'algorithme d'Euclide pour les polynômes, c'est-à-dire un algorithme qui, étant donné deux polynômes $P$ et $Q$, calcule le pgcd$(P,Q)$.\n",
    "2. Vérifier, pour des polynômes aléatoires dans un anneau de polynômes fixé, que votre algorithme renvoie le même résultat que la fonction de Sage `gcd`. Pour cela utiliser la fonction `R.random_element(degree =n)` qui renvoie des polynômes aléatoires de degré $n$ dans l'anneau des polynômes $R$."
   ]
  },
  {
   "cell_type": "code",
   "execution_count": null,
   "id": "e0240730",
   "metadata": {},
   "outputs": [],
   "source": []
  },
  {
   "cell_type": "markdown",
   "id": "822668d3",
   "metadata": {},
   "source": [
    "**Exercice 5.** Étant donné un polynôme $P$, écrire une fonction `PartieSansCarre(P)` qui calcule la partie sans facteur carré de $P$."
   ]
  },
  {
   "cell_type": "code",
   "execution_count": null,
   "id": "9885cdf6",
   "metadata": {},
   "outputs": [],
   "source": []
  },
  {
   "cell_type": "markdown",
   "id": "705f60a7",
   "metadata": {},
   "source": [
    "## 4. Résultant de deux polynômes"
   ]
  },
  {
   "cell_type": "markdown",
   "id": "c18f8e29",
   "metadata": {},
   "source": [
    "**Exercice 6.** Étant donnés deux polynômes $P$ et $Q$, définir une fonction `Resultant()` qui calcule le résultant de $P$ et $Q$ comme déterminant de la matrice de Sylvester construite à partir des coefficients des deux polynômes.\n",
    "C'est peut être utile de savoir que dans Sage on peut définir une matrice avec la fonction `Matrix` et calculer son déterminant avec la méthode `.determinant()`. Exemple:\n",
    "\n",
    "`M = Matrix([[1, 2, 3], [0, 1, 4], [5, 6, 0]])`\n",
    "\n",
    "`det = M.determinant()`"
   ]
  },
  {
   "cell_type": "code",
   "execution_count": null,
   "id": "12ff2a66",
   "metadata": {},
   "outputs": [],
   "source": []
  },
  {
   "cell_type": "markdown",
   "id": "fc45507d",
   "metadata": {},
   "source": [
    "Vérifier, pour des polynômes aléatoires, que vous obtenez le même resulta(n)t qu'avec la méthode `.resultant()`"
   ]
  },
  {
   "cell_type": "code",
   "execution_count": null,
   "id": "cb8f8ceb",
   "metadata": {},
   "outputs": [],
   "source": []
  },
  {
   "cell_type": "markdown",
   "id": "f50a6c75",
   "metadata": {},
   "source": [
    "## 5. Polynômes irréductibles"
   ]
  },
  {
   "cell_type": "markdown",
   "id": "b6f49784",
   "metadata": {},
   "source": [
    "**Exercice 7.** \n",
    "1. Soit $p$ un nombre premier et $n\\geq2$ un entier. Écrire une fonction `Irreductible(n,p)` qui renvoie un polynôme irréductible de degré $n$ sur $\\mathbb F_p$.\n",
    "2. Écrire une fonction `TousIrreductibles(n,p)` qui renvoie une liste contenant tous les polynômes irréductibles de degré $n$ sur $\\mathbb F_p$.\n",
    "2. Déterminer l'ensemble des polynômes irréductibles de degré 2 sur $\\mathbb F_5$ et de degré 5 sur $\\mathbb F_3$\n",
    "3. Comme dans $\\mathbb Z$, il est possible de définir l'idéal engendré par un élément d'un anneau de polynômes et l'anneau quotient correspondant. Exemple:\n",
    "\n",
    "`R.<x> = PolynomialRing(QQ)`\n",
    "\n",
    "`I = R.ideal(x^2 + 1)`\n",
    "\n",
    "`Q = R.quotient(I)`\n",
    "\n",
    "Vérifier, pour plusieurs valeurs de $p$ et $n$, que, si  $P$ est un polynôme irreductible de degré $n$ sur $\\mathbb F_p$, alors $\\mathbb F_p[x]/(P(x))$ est un corps, et que ce corps est isomorphe à $\\mathbb F_{p^n}$."
   ]
  },
  {
   "cell_type": "code",
   "execution_count": null,
   "id": "cd828c69",
   "metadata": {},
   "outputs": [],
   "source": []
  }
 ],
 "metadata": {
  "kernelspec": {
   "display_name": "SageMath 9.6",
   "language": "sage",
   "name": "sagemath-9.6"
  },
  "language_info": {
   "codemirror_mode": {
    "name": "ipython",
    "version": 3
   },
   "file_extension": ".py",
   "mimetype": "text/x-python",
   "name": "python",
   "nbconvert_exporter": "python",
   "pygments_lexer": "ipython3",
   "version": "3.10.3"
  }
 },
 "nbformat": 4,
 "nbformat_minor": 5
}
