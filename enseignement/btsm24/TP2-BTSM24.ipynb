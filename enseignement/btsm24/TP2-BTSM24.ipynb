{
 "cells": [
  {
   "cell_type": "markdown",
   "id": "82993029",
   "metadata": {},
   "source": [
    "# TP2 - $ℤ/nℤ$, groupes, etc. dans SageMath"
   ]
  },
  {
   "cell_type": "markdown",
   "id": "3363318b",
   "metadata": {},
   "source": [
    "On rappelle que à tout moment vous pouvez demander de l'aide à Sagemath par rapport à l'uilisation d'une fonction ou d'une méthode. Voici comment accèder au **système intégré d'aide** de Sagemath:\n",
    "\n",
    "1. Tapez le nom de la fonction ou de la méthode suivi d'un point d'interrogation `?`. Par exemple `factor?` affichera la documentation de la fonction parent.\n",
    "\n",
    "2. Pour obtenir plus de détails (source, exemples), utilisez deux points d'interrogation `??`. Cela affichera également le code source de la fonction si disponible, en plus de la documentation.\n",
    "\n",
    "3. Vous pouvez aussi utiliser la fonction help(). Par exemple vous pouvez taper `help(factor)` pour obtenir de l'aide sur la fonction parent."
   ]
  },
  {
   "cell_type": "markdown",
   "id": "c3b772dd",
   "metadata": {},
   "source": [
    "## 1. Les unité de $\\mathbb Z/n\\mathbb Z$"
   ]
  },
  {
   "cell_type": "markdown",
   "id": "11b171e6",
   "metadata": {},
   "source": [
    "**Exercice 1.** \n",
    "Un élément $a\\in\\mathbb Z/n\\mathbb Z$ est une unité si et seulement si pgcd$(a,n)=1$.\n",
    "1. Écrire une fonction `Unités(n)` qui, étant donné $n\\in\\mathbb Z_{>0}$, calcule $\\left(\\mathbb Z/n\\mathbb Z\\right)^{\\times}$, c'est-à-dire l'ensemble des éléments inversibles sous forme de liste.\n",
    "2. Contruire la liste les éléments inversibles de $\\mathbb Z/323\\mathbb Z$. Est-il possible d'établir si 323 est premier, juste en regardant la longueur de cette liste?"
   ]
  },
  {
   "cell_type": "code",
   "execution_count": null,
   "id": "628bc36b",
   "metadata": {},
   "outputs": [],
   "source": []
  },
  {
   "cell_type": "code",
   "execution_count": null,
   "id": "7386fd8f",
   "metadata": {},
   "outputs": [],
   "source": []
  },
  {
   "cell_type": "markdown",
   "id": "fd856ee9",
   "metadata": {},
   "source": [
    "**Exercice 2.** La fonction phi d'Euler, noté $\\varphi(n)$, est définie comme le nombre d'entiers $a$, avec $1\\leq a\\leq n$, qui sont premiers avec n. Voici comment calculer $\\varphi(n)$\n",
    "- Si $n$ est un nombre premier, alors tous les entiers de 1 à $n-1$ sont premiers avec $n$, donc $\\varphi(n)=n-1$.\n",
    "- Si $n$ a la décomposition en facteurs premiers\n",
    "$$n=p_1^{e_1}p_2^{e_2}\\cdots p_r^{e_r},$$\n",
    "alors $\\varphi(n)=\\left(p_1^{e_1}-p_1^{e_1-1}\\right)\\left(p_2^{e_2}-p_2^{e_2-1}\\right)\\cdots \\left(p_r^{e_r}-p_r^{e_r-1}\\right)$.\n",
    "\n",
    "Utiliser la fonction `factor` de SageMath, pour écrire une fonction `PhiEuler(n)` qui prend un entier $n>0$ en entrée et qui calcule $\\varphi(n)$.\n"
   ]
  },
  {
   "cell_type": "code",
   "execution_count": null,
   "id": "9a3b1129",
   "metadata": {},
   "outputs": [],
   "source": []
  },
  {
   "cell_type": "code",
   "execution_count": null,
   "id": "ef8e7a02",
   "metadata": {},
   "outputs": [],
   "source": []
  },
  {
   "cell_type": "markdown",
   "id": "fda64d0b",
   "metadata": {},
   "source": [
    "**Exercice 3.** Vérifier, pour des entiers aléatoires $n>0$, que la longueur de la liste `Unités(n)` est égale `PhiEuler(n)`. (Voir comment utiliser la fonction `ZZ.random_element`, pour générer des entiers positifs aléatoires.) "
   ]
  },
  {
   "cell_type": "code",
   "execution_count": null,
   "id": "27c813bc",
   "metadata": {},
   "outputs": [],
   "source": []
  },
  {
   "cell_type": "code",
   "execution_count": null,
   "id": "b2c51293",
   "metadata": {},
   "outputs": [],
   "source": []
  },
  {
   "cell_type": "markdown",
   "id": "cde4d8aa",
   "metadata": {},
   "source": [
    "## 2. Construire $ℤ/nℤ$ dans SageMath"
   ]
  },
  {
   "cell_type": "markdown",
   "id": "aba262a1",
   "metadata": {},
   "source": [
    "Dans SageMath, on peut construire l'*anneau* $ℤ/nℤ$ avec la commande `IntegerModRing(n)`. Les calculs se font alors selon les règles de l'anneau. Attention: pour travailler avec des entiers modulo $n$ et effectuer des opérations arithmétiques modulaires, il faut passer les entiers en arguments à l'anneau.\n",
    "\n",
    "*Remarque.* Le constructeur `IntegerModRing` possède deux alias (c'est-à-dire deux raccourcis), `Integers` et `Zmod`."
   ]
  },
  {
   "cell_type": "code",
   "execution_count": null,
   "id": "429243ab",
   "metadata": {},
   "outputs": [],
   "source": [
    "A = IntegerModRing(6) # ℤ/6ℤ\n",
    "A"
   ]
  },
  {
   "cell_type": "code",
   "execution_count": null,
   "id": "61bafbb8",
   "metadata": {},
   "outputs": [],
   "source": [
    "a, b, c, d = A(0), A(1), A(3), A(5)\n",
    "a+b, b+d, c*d"
   ]
  },
  {
   "cell_type": "code",
   "execution_count": null,
   "id": "aca542d8",
   "metadata": {},
   "outputs": [],
   "source": [
    "IntegerModRing(17) is Integers(17) is Zmod(17) # alias"
   ]
  },
  {
   "cell_type": "markdown",
   "id": "8aecb13b",
   "metadata": {},
   "source": [
    "On peut également explorer certaines propriétés des éléments. Pour cela, chaque élément a des méthodes qui lui sont associées. Par exemple, on peut calculer l'ordre d'un élément $g$ dans le groupe additif $(ℤ/nℤ,+)$ avec `g.additive_order()`, on peut tester s'il est inversible (on dit que c'est une *unité*) avec `g.is_unit()`, et dans ce cas calculer son ordre dans le groupe multiplicatif $(ℤ/nℤ^×,×)$ avec `g.multiplicative_order()`."
   ]
  },
  {
   "cell_type": "code",
   "execution_count": null,
   "id": "30805be2",
   "metadata": {},
   "outputs": [],
   "source": [
    "c.additive_order(), c.is_unit()"
   ]
  },
  {
   "cell_type": "code",
   "execution_count": null,
   "id": "a1f0078f",
   "metadata": {},
   "outputs": [],
   "source": [
    "d.additive_order(), d.is_unit(), d.multiplicative_order()"
   ]
  },
  {
   "cell_type": "markdown",
   "id": "9d5b8e07",
   "metadata": {},
   "source": [
    "Pour calculer l'inverse d'un élément $g$ inversible, plusieurs solutions sont possibles : soit écrire directement  `1/g` ou `g^-1`, soit utiliser le symbole « ~ » qui dans SageMath signifie « inverse » en écrivant `~g`, soit appeler la méthode `g.inverse_of_unit()` (on remarque qu'il est dit explicitement dans le nom de la méthode que l'on ne peut inverser que des *unités*). "
   ]
  },
  {
   "cell_type": "code",
   "execution_count": null,
   "id": "b335e6b5",
   "metadata": {},
   "outputs": [],
   "source": [
    "1/d, d^-1, ~d, d.inverse_of_unit()"
   ]
  },
  {
   "cell_type": "code",
   "execution_count": null,
   "id": "5d90e8d8",
   "metadata": {},
   "outputs": [],
   "source": [
    "d * ~d == ~d * d == A.one() # one() permet de renvoyer le \"1\" de l'anneau"
   ]
  },
  {
   "cell_type": "markdown",
   "id": "dc5bfb53",
   "metadata": {},
   "source": [
    "SageMath permet également de travailler directement sur l'anneau. Par exemple, on peut obtenir quelques propriétés."
   ]
  },
  {
   "cell_type": "code",
   "execution_count": null,
   "id": "c7087c07",
   "metadata": {},
   "outputs": [],
   "source": [
    "print(\"A est un anneau :\",A.is_ring())\n",
    "print(\"Son ordre est :\", A.order())\n",
    "print(\"A est intègre :\", A.is_integral_domain())\n",
    "print(\"A est un corps :\", A.is_field())"
   ]
  },
  {
   "cell_type": "markdown",
   "id": "0c41e40a",
   "metadata": {},
   "source": [
    "**Exercice 4.**\n",
    "Construire l'anneau $ℤ/180ℤ$ et répondre aux questions suivantes :\n",
    "   1. imprimer une liste L1 des éléments inversibles de $ℤ/180ℤ$?\n",
    "   1. imprimer une deuxième liste L2, telle que L2[i] est l'inverse de L1[i].\n",
    "   1. combien d'éléments de $ℤ/180ℤ$ sont les inverses de eux mêmes?\n"
   ]
  },
  {
   "cell_type": "code",
   "execution_count": null,
   "id": "e097fdf6",
   "metadata": {},
   "outputs": [],
   "source": []
  },
  {
   "cell_type": "markdown",
   "id": "692f594a",
   "metadata": {},
   "source": [
    "## 3. Le groupe des inversibles $(ℤ/nℤ)^×$"
   ]
  },
  {
   "cell_type": "markdown",
   "id": "ecb0ae75",
   "metadata": {},
   "source": [
    "SageMath sait calculer le groupe des inversibles de $ℤ/nℤ$, de plusieurs manières. La première consiste à lister les éléments qui en font partie, ou à tester si ce groupe est cyclique, ou encore à calculer son ordre. *On remarque que selon les cas, SageMath utilise soit « multiplicative group » soit « unit group » : les deux sont synonymes et désignent le groupe des inversibles.*"
   ]
  },
  {
   "cell_type": "code",
   "execution_count": null,
   "id": "ec3bbdfb",
   "metadata": {},
   "outputs": [],
   "source": [
    "A = Zmod(36)\n",
    "A.list_of_elements_of_multiplicative_group(), A.multiplicative_group_is_cyclic(), A.unit_group_order()"
   ]
  },
  {
   "cell_type": "markdown",
   "id": "955d549b",
   "metadata": {},
   "source": [
    "L'autre façon est de calculer *vraiment* le groupe des inversibles, avec `A.unit_group()`. On obtient une description un peu cryptique, qui signifie (dans ce cas) : « le groupe des inversibles de `A` est un groupe multiplicatif abélien, isomorphe au groupe $C_2×C_6$ » où $C_k$ désigne le groupe (multiplicatif) cyclique d'ordre $k$, qui est isomorphe à $(ℤ/kℤ,+)$. On peut décrire $C_k$ de la manière suivante : il possède un générateur $g$ qui vérifie $g^k = 1$ et $g^ℓ ≠ 1$ pour $0<ℓ<k$ ; autrement dit, $C_k = \\{g^0, g^1, …, g^{k-1}\\}$."
   ]
  },
  {
   "cell_type": "code",
   "execution_count": null,
   "id": "266494a0",
   "metadata": {},
   "outputs": [],
   "source": [
    "G = A.unit_group()\n",
    "G"
   ]
  },
  {
   "cell_type": "markdown",
   "id": "40fcf3c1",
   "metadata": {},
   "source": [
    "Si on liste les éléments de $G$, on s'aperçoit qu'ils n'ont rien à voir avec notre $ℤ/36ℤ$ de départ ! SageMath décrit $G$ grâce à deux *générateurs* (qu'il a appelé `f0` et `f1`, arbitrairement). Le *produit cartésien* $C_2×C_6$ s'obtient en prenant tous les produits possibles entre les éléments de $C_2 = \\{1,f_0\\}$ et ceux de $C_6 = \\{1, f_1, …, f_1^5\\}$."
   ]
  },
  {
   "cell_type": "code",
   "execution_count": null,
   "id": "002a2e3e",
   "metadata": {},
   "outputs": [],
   "source": [
    "print(G.list())   # on vérifie qu'il y a bien 12 éléments, comme indiqué par A.unit_group_order() au dessus\n",
    "f0, f1 = G.gens() # on récupère les générateurs de G\n",
    "f0^2, f1^6        # pourquoi ce résultat ?"
   ]
  },
  {
   "cell_type": "markdown",
   "id": "24f3d131",
   "metadata": {},
   "source": [
    "Il est malgré tout possible de revenir à notre $ℤ/36ℤ$ de départ (heureusement !). Chaque élément du groupe $G$ possède une *valeur* dans $ℤ/36ℤ$, c'est-à-dire simplement que chaque élément de $G$ représente un élément de $ℤ/36ℤ$. "
   ]
  },
  {
   "cell_type": "code",
   "execution_count": null,
   "id": "9e14387f",
   "metadata": {},
   "outputs": [],
   "source": [
    "for g in G:\n",
    "    print(g, \"→\", g.value())"
   ]
  },
  {
   "cell_type": "markdown",
   "id": "74955149",
   "metadata": {},
   "source": [
    "On vérifie que c'est cohérent : par exemple, puisque $f_0$ correspond à $19$, $f_1^3$ à $17$, le produit $f_0f_1^3$ doit être $(19×17)\\bmod 36 = 35$ ; de même, si on élève $f_0f_1^3$ au carré, on obtient $f_0^2f_1^6$ qui doit valoir $1$ (puisque $f_0^2 = 1$ et $f_1^6 = 1$)."
   ]
  },
  {
   "cell_type": "code",
   "execution_count": null,
   "id": "c405c2e3",
   "metadata": {},
   "outputs": [],
   "source": [
    "f0.value() * (f1^3).value() == A(35), (f0*f1^3).value()^2 == A.one()"
   ]
  },
  {
   "cell_type": "markdown",
   "id": "e86814a0",
   "metadata": {},
   "source": [
    "**Exercice 5.**\n",
    "\n",
    "1. Calculer le groupe des inversibles de $ℤ/105ℤ$. Combien a-t-il de générateurs ? À quel élément de $ℤ/105ℤ$ correspond chacun des générateurs ?\n",
    "1. Calculer le groupe des inversibles de $ℤ/nℤ$ pour $n = 2,3,...,30$. Lesquels sont cycliques ?\n",
    "1. Vérifier expérimentalement que si $p>2$ est premier, $(ℤ/p^eℤ)^\\times$ est cyclique. *Utiliser plusieurs valeurs de $p$ et de $e$, même en dépassant $30$.*\n",
    "1. Le résultat précédent n'est pas vrai pour $p = 2$. Essayer diverses valeurs de $e$ pour conjecturer la forme de $(ℤ/2^eℤ)^×$, en fonction de $e$."
   ]
  },
  {
   "cell_type": "code",
   "execution_count": null,
   "id": "712822aa",
   "metadata": {},
   "outputs": [],
   "source": []
  },
  {
   "cell_type": "code",
   "execution_count": null,
   "id": "fc9d4dd1",
   "metadata": {},
   "outputs": [],
   "source": []
  },
  {
   "cell_type": "code",
   "execution_count": null,
   "id": "aa3fadde",
   "metadata": {},
   "outputs": [],
   "source": []
  },
  {
   "cell_type": "code",
   "execution_count": null,
   "id": "a708ade7",
   "metadata": {},
   "outputs": [],
   "source": []
  },
  {
   "cell_type": "markdown",
   "id": "9386b979",
   "metadata": {},
   "source": [
    "## 4. Sous-groupes"
   ]
  },
  {
   "cell_type": "markdown",
   "id": "adb62fd9",
   "metadata": {},
   "source": [
    "Si $G$ est un groupe (fini), `G.subgroups()` renvoie la liste de tous les sous-groupes de $G$. D'autre part, on peut directement construire le groupe abélien cyclique $C_k$ avec la commande `AbelianGroup([k])` (*attention aux crochets !*). Notez qu'on peut également avoir une version plus compacte de l'information : si $H$ est un groupe, `H.gens_order()` renvoie les ordres des générateurs, donc en particulier si $H$ est (isomorphe à) $C_{k_1}×\\dotsb×C_{k_ℓ}$, on obtient $(k_1,…,k_ℓ)$."
   ]
  },
  {
   "cell_type": "code",
   "execution_count": null,
   "id": "ae668afc",
   "metadata": {},
   "outputs": [],
   "source": [
    "G = AbelianGroup([18])\n",
    "for H in G.subgroups():\n",
    "    print(H.gens_orders(),':',H)"
   ]
  },
  {
   "cell_type": "markdown",
   "id": "59835d70",
   "metadata": {},
   "source": [
    "**Exercice 6.**\n",
    "\n",
    "1. Pour $k = 2$ à $30$, calculer tous les sous-groupes de $C_k$. Est-ce que cela vous rappelle un résultat d'algèbre?\n",
    "1. Calculer tous les sous-groupes de $C_k$, avec $k = 105 = 3×5×7$."
   ]
  },
  {
   "cell_type": "code",
   "execution_count": null,
   "id": "dfe9b53c",
   "metadata": {},
   "outputs": [],
   "source": []
  },
  {
   "cell_type": "code",
   "execution_count": null,
   "id": "af3783de",
   "metadata": {},
   "outputs": [],
   "source": []
  },
  {
   "cell_type": "markdown",
   "id": "27e86149",
   "metadata": {},
   "source": [
    "## 5. Isomorphismes de groupes"
   ]
  },
  {
   "cell_type": "markdown",
   "id": "ae6f8158",
   "metadata": {},
   "source": [
    "De même qu'on peut créer $C_k$ avec `AbelianGroup([k])`, on peut créer le produit $C_k×C_ℓ$ avec `AbelianGroup([k,l])`. D'autre part, étant donnés deux groupes $G$ et $H$, on peut tester s'ils sont isomorphes avec `G.is_isomorphic(H)`. Enfin, on peut tester si un groupe est cyclique avec la commande `G.is_cyclic()`."
   ]
  },
  {
   "cell_type": "code",
   "execution_count": null,
   "id": "2c023caf",
   "metadata": {},
   "outputs": [],
   "source": [
    "G = AbelianGroup([6])\n",
    "H = AbelianGroup([2,3])\n",
    "G.is_isomorphic(H), H.is_cyclic()"
   ]
  },
  {
   "cell_type": "markdown",
   "id": "0ff10570",
   "metadata": {},
   "source": [
    "**Exercice 7.**\n",
    "\n",
    "1. Pour $2 ≤ k ≤ ℓ ≤ 10$, tester quels groupes $C_k×C_ℓ$ sont cycliques. Quelle est la condition sur $k$ et $ℓ$ pour que $C_k×C_ℓ$ soit cyclique ?\n",
    "1. Si $C_k×C_ℓ$ est cyclique, il doit être isomorphe à un $C_m$. Conjecturer la valeur de $m$ et vérifier sur les exemples précédents."
   ]
  },
  {
   "cell_type": "code",
   "execution_count": null,
   "id": "b86babf0",
   "metadata": {},
   "outputs": [],
   "source": []
  },
  {
   "cell_type": "code",
   "execution_count": null,
   "id": "24ccd0ad",
   "metadata": {},
   "outputs": [],
   "source": []
  },
  {
   "cell_type": "markdown",
   "id": "c735b1ea",
   "metadata": {},
   "source": [
    "## 6. Idéaux et quotients"
   ]
  },
  {
   "cell_type": "markdown",
   "id": "aed7d7f7",
   "metadata": {},
   "source": [
    "Étant donné un anneau $A$, on peut définir un idéal $I$ de $A$ en fournissant un ou plusieurs *générateurs* de l'idéal. "
   ]
  },
  {
   "cell_type": "code",
   "execution_count": null,
   "id": "7a0808dd",
   "metadata": {},
   "outputs": [],
   "source": [
    "A = ZZ # anneaux des entiers\n",
    "I4 = A.ideal(4) # idéal 4ℤ\n",
    "I57 = A.ideal([5,7]) # idéal engendré par 5 et 7 → que remarque-t-on ?\n",
    "I4, I57"
   ]
  },
  {
   "cell_type": "code",
   "execution_count": null,
   "id": "eee0e7d7",
   "metadata": {},
   "outputs": [],
   "source": [
    "B = Zmod(6)\n",
    "J2 = B.ideal(A(2))\n",
    "J34 = B.ideal([A(3), A(4)])\n",
    "J2, J34"
   ]
  },
  {
   "cell_type": "code",
   "execution_count": null,
   "id": "68302ce4",
   "metadata": {},
   "outputs": [],
   "source": [
    "Étant donné des idéaux, on peut alors construire des anneaux quotients."
   ]
  },
  {
   "cell_type": "code",
   "execution_count": null,
   "id": "53e32115",
   "metadata": {},
   "outputs": [],
   "source": [
    "Q4 = A.quotient_ring(I4)\n",
    "Q57 = A.quotient_ring(I57)\n",
    "Q4, Q57"
   ]
  },
  {
   "cell_type": "code",
   "execution_count": null,
   "id": "5b5c3df9",
   "metadata": {},
   "outputs": [],
   "source": [
    "Q2 = B.quotient_ring(J2)\n",
    "Q34 = B.quotient_ring(J34)\n",
    "Q2, Q34"
   ]
  },
  {
   "cell_type": "markdown",
   "id": "1f9d419a",
   "metadata": {},
   "source": [
    "On remarque plusieurs choses : \n",
    "- quand on quotiente $ℤ$ par $4ℤ$, on obtient bien $ℤ/4ℤ$ (heureusement !) ;\n",
    "- si on le quotiente par $1ℤ$, on obtient $ℤ/1ℤ$, qui n'est pas très intéressant ;\n",
    "- si on quotiente $ℤ/nℤ$ par un $m⋅ℤ/nℤ$, on obtient un nouveau $ℤ/kℤ$ (éventuellement $k = 1$ si $m$ est mal choisi)."
   ]
  },
  {
   "cell_type": "code",
   "execution_count": null,
   "id": "f9ed7a98",
   "metadata": {},
   "outputs": [],
   "source": [
    "print(Q4 is IntegerModRing(4)) # c'est bien le même objet !\n",
    "print(Q57.list())              # anneau trivial\n",
    "print(Q2 is IntegerModRing(2)) # idem\n",
    "print(Q57 is Q34)"
   ]
  },
  {
   "cell_type": "markdown",
   "id": "6b474021",
   "metadata": {},
   "source": [
    "Puisque `Q4` construit à partir de `ZZ` et d'un idéal est le même objet que `IntegerModRing(4)`, on doit pouvoir retrouver depuis `IntegerModRing(4)` l'anneau et l'idéal dont il vient ! "
   ]
  },
  {
   "cell_type": "code",
   "execution_count": null,
   "id": "af2c6e24",
   "metadata": {},
   "outputs": [],
   "source": [
    "Z4 = IntegerModRing(4)\n",
    "print(Z4.cover_ring()) # \"Cover ring\" signifie \"anneau de base\" (dans ce contexte)\n",
    "print(Z4.defining_ideal())"
   ]
  },
  {
   "cell_type": "markdown",
   "id": "fadcfe4e",
   "metadata": {},
   "source": [
    "On peut également trouver le *morphisme naturel* qui va de l'anneau d'origine dans l'anneau quotient. C'est le morphisme qui effectue la *réduction modulo l'idéal*."
   ]
  },
  {
   "cell_type": "code",
   "execution_count": null,
   "id": "065aa96b",
   "metadata": {},
   "outputs": [],
   "source": [
    "f = Z4.cover()\n",
    "print(f)\n",
    "f(6), f(6).parent()"
   ]
  },
  {
   "cell_type": "markdown",
   "id": "e7a8bf30",
   "metadata": {},
   "source": [
    "**Exercice 7.**\n",
    "\n",
    "1. Calculer tous les idéaux $I$ de $ℤ/42ℤ$ engendrés par un élément, et tous les anneaux quotients $(ℤ/42ℤ)/I$. Que pouvez-vous conjecturer ?\n",
    "1. Vérifier votre conjecture avec $ℤ/33ℤ$."
   ]
  },
  {
   "cell_type": "code",
   "execution_count": null,
   "id": "ccb90cf0",
   "metadata": {},
   "outputs": [],
   "source": []
  },
  {
   "cell_type": "code",
   "execution_count": null,
   "id": "dab6fa6b",
   "metadata": {},
   "outputs": [],
   "source": []
  },
  {
   "cell_type": "markdown",
   "id": "073c1612",
   "metadata": {},
   "source": [
    "## 7. Arithmétique sur les idéaux"
   ]
  },
  {
   "cell_type": "markdown",
   "id": "50a4af29",
   "metadata": {},
   "source": [
    "On peut effectuer de l'arithmétique avec les idéaux. Pour deux idéaux $I$ et $J$, on définit la somme $I+J = \\{x+y:x\\in I, y\\in J\\}$ et le produit $I⋅J = \\{x×y:x\\in I, y\\in J\\}$. On peut vérifier que $I+J$ et $I⋅J$ sont bien des idéaux. En SageMath, les opérations sont définies. "
   ]
  },
  {
   "cell_type": "markdown",
   "id": "82d3c2ed",
   "metadata": {},
   "source": [
    "**Exercice 8.**\n",
    "\n",
    "1. En expérimentant plusieurs idéaux de $ℤ$ (qui sont tous de la forme $nℤ$ pour un certain entier $n$), décrire l'idéal $mℤ+nℤ$ en fonction de $m$ et $n$.\n",
    "1. Même question pour le produit d'idéaux."
   ]
  },
  {
   "cell_type": "markdown",
   "id": "bb34741e",
   "metadata": {},
   "source": []
  },
  {
   "cell_type": "markdown",
   "id": "af825dc2",
   "metadata": {},
   "source": []
  }
 ],
 "metadata": {
  "kernelspec": {
   "display_name": "SageMath 9.6",
   "language": "sage",
   "name": "sagemath-9.6"
  },
  "language_info": {
   "codemirror_mode": {
    "name": "ipython",
    "version": 3
   },
   "file_extension": ".py",
   "mimetype": "text/x-python",
   "name": "python",
   "nbconvert_exporter": "python",
   "pygments_lexer": "ipython3",
   "version": "3.10.3"
  }
 },
 "nbformat": 4,
 "nbformat_minor": 5
}
