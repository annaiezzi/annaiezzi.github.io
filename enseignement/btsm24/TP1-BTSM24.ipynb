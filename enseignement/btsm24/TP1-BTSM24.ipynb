{
 "cells": [
  {
   "cell_type": "markdown",
   "id": "2ed1b8af-8c8f-49fc-8556-1a9ca7162cd9",
   "metadata": {},
   "source": [
    "# TP1 – BTSM24"
   ]
  },
  {
   "cell_type": "markdown",
   "id": "481f8b11-421f-476c-806e-9072aedda96a",
   "metadata": {},
   "source": [
    "## 0. Qu'est-ce qu'un Jupyter Notebook ?\n",
    "\n",
    "Un **Jupyter Notebook** est un environnement interactif qui vous permet de combiner du **code**, du **texte explicatif**, des **équations mathématiques**, des **visualisations** et d'autres éléments en un seul document. \n",
    "Il se compose de plusieurs **cellules**, qui peuvent contenir du **code** ou du **texte**.\n",
    "\n",
    "\n",
    "### Comment exécuter une cellule ?\n",
    "Les cellules de code doivent être exécutées pour que le code soit pris en compte. Le résultat de l'exécution (ou bien l'erreur !) apparaît alors juste en dessous. Pour exécuter une cellule:\n",
    "\n",
    "1. Sélectionnez une cellule de **code** (elle aura un cadre autour et affichera `[ ]:` à côté).\n",
    "2. Appuyez sur **`Shift + Entrée`** pour exécuter le contenu de la cellule.\n",
    "3. Les résultats de la cellule s'afficheront juste en dessous. \n",
    "\n",
    "Pour exécuter une cellule vous pouvez aussi cliquer sur le bouton \"Run\" dans la barre d'outils. \n",
    "\n",
    "Exécutez les deux cellules de code suivantes :"
   ]
  },
  {
   "cell_type": "code",
   "execution_count": 18,
   "id": "31b5acd9",
   "metadata": {},
   "outputs": [
    {
     "name": "stdout",
     "output_type": "stream",
     "text": [
      "Bienvenue au cours de SageMath!\n"
     ]
    }
   ],
   "source": [
    "print(\"Bienvenue au cours de SageMath!\")"
   ]
  },
  {
   "cell_type": "code",
   "execution_count": 2,
   "id": "13b3d1c4",
   "metadata": {},
   "outputs": [
    {
     "data": {
      "text/plain": [
       "2"
      ]
     },
     "execution_count": 2,
     "metadata": {},
     "output_type": "execute_result"
    }
   ],
   "source": [
    "1+1"
   ]
  },
  {
   "cell_type": "markdown",
   "id": "3a0709fd",
   "metadata": {},
   "source": [
    "## 1. Sage comme une calculatrice"
   ]
  },
  {
   "cell_type": "markdown",
   "id": "af30b54d",
   "metadata": {},
   "source": [
    "Sage peut être utiliser comme une calculatrice. Le caractère `*` représente la multiplication, qui ne doit pas être omise, même dans des expressions comme $2x$. L'opération de puissance est écrite `^` ou `**`. La division est notée `\\`."
   ]
  },
  {
   "cell_type": "code",
   "execution_count": 3,
   "id": "c78666f6",
   "metadata": {},
   "outputs": [
    {
     "data": {
      "text/plain": [
       "1267650600228229401496703205376"
      ]
     },
     "execution_count": 3,
     "metadata": {},
     "output_type": "execute_result"
    }
   ],
   "source": [
    "2^100"
   ]
  },
  {
   "cell_type": "code",
   "execution_count": 8,
   "id": "6ececab9",
   "metadata": {},
   "outputs": [
    {
     "data": {
      "text/plain": [
       "10715086071862673209484250490600018105614048117055336074437503883703510511249361224931983788156958581275946729175531468251871452856923140435984577574698574803934567774824230985421074605062371141877954182153046474983581941267398767559165543946077062914571196477686542167660429831652624386837205668069376"
      ]
     },
     "execution_count": 8,
     "metadata": {},
     "output_type": "execute_result"
    }
   ],
   "source": [
    "2**100"
   ]
  },
  {
   "cell_type": "code",
   "execution_count": 11,
   "id": "6ec8c8e5",
   "metadata": {},
   "outputs": [
    {
     "data": {
      "text/plain": [
       "10/3"
      ]
     },
     "execution_count": 11,
     "metadata": {},
     "output_type": "execute_result"
    }
   ],
   "source": [
    "20/6"
   ]
  },
  {
   "cell_type": "markdown",
   "id": "cf64d8bf",
   "metadata": {},
   "source": [
    "Notez que le résultat de la division ci-dessus, après simplification, est le nombre rationnel 10/3 et non une approximation comme 3,33333. Pour obtenir une approximation numérique, il suffit d'écrire l'un des nombres avec un point décimal (on pourrait remplacer 20. par 20.0 ou 20.000)."
   ]
  },
  {
   "cell_type": "code",
   "execution_count": 13,
   "id": "2f6e2a79",
   "metadata": {},
   "outputs": [
    {
     "data": {
      "text/plain": [
       "3.33333333333333"
      ]
     },
     "execution_count": 13,
     "metadata": {},
     "output_type": "execute_result"
    }
   ],
   "source": [
    "20./6"
   ]
  },
  {
   "cell_type": "markdown",
   "id": "f85e21b9",
   "metadata": {},
   "source": [
    "## 2. Une initiation à Python (si besoin)"
   ]
  },
  {
   "cell_type": "markdown",
   "id": "2ff28330",
   "metadata": {},
   "source": [
    "SageMath utilise Python comme langage principal pour écrire du code. Python est un langage de programmation très populaire, connu pour sa simplicité et sa lisibilité."
   ]
  },
  {
   "cell_type": "code",
   "execution_count": 26,
   "id": "4397dbb5",
   "metadata": {},
   "outputs": [
    {
     "name": "stdout",
     "output_type": "stream",
     "text": [
      "Hello World!\n"
     ]
    }
   ],
   "source": [
    "# Ceci est un commentaire, il ne sera pas exécuté\n",
    "\n",
    "\"\"\"\n",
    "On peut écrire un commentaire sur plusieurs ligne en utilisant les\n",
    "triple guillemets\n",
    "\"\"\"\n",
    "\n",
    "print(\"Hello World!\")"
   ]
  },
  {
   "cell_type": "markdown",
   "id": "17924f53",
   "metadata": {},
   "source": [
    "### 2.1 Variables\n",
    "Python prend en charge plusieurs types de données comme les entiers, les flottants, les chaînes de caractères, etc. Python stocke la valeur dans une variable, et vous pouvez afficher les valeurs avec la fonction print()."
   ]
  },
  {
   "cell_type": "code",
   "execution_count": 20,
   "id": "61448541",
   "metadata": {},
   "outputs": [
    {
     "name": "stdout",
     "output_type": "stream",
     "text": [
      "10 3.14000000000000 Anna\n"
     ]
    }
   ],
   "source": [
    "x = 10  # un entier\n",
    "y = 3.14  # un nombre à virgule flottante\n",
    "nom = \"Anna\"  # une chaîne de caractères\n",
    "print(x, y, nom)"
   ]
  },
  {
   "cell_type": "code",
   "execution_count": 27,
   "id": "8ca32b05",
   "metadata": {},
   "outputs": [
    {
     "name": "stdout",
     "output_type": "stream",
     "text": [
      "7\n",
      "60 17\n",
      "a/b= 12/5\n"
     ]
    }
   ],
   "source": [
    "# Python est un langage intuitif\n",
    "a = 12\n",
    "b = 5\n",
    "print(a-b)\n",
    "print(a*b, a+b)\n",
    "print(f'a/b= {a/b}') "
   ]
  },
  {
   "cell_type": "markdown",
   "id": "d0a3404c",
   "metadata": {},
   "source": [
    "Notez le `f` dans `print(f'a/b= {a/b}')` fait référence à une **f-string** (abréviation de **formatted string**), introduite dans Python 3.6. C'est une manière pratique de formater des chaînes de caractères en intégrant des expressions Python directement à l'intérieur des accolades `{}`.\n",
    "\n",
    "Dans ce cas, `f'a/b= {a/b}'` permet d'insérer la valeur de l'expression `a/b` dans la chaîne de caractères. Python évalue l'expression entre accolades et remplace le résultat dans la chaîne.\n"
   ]
  },
  {
   "cell_type": "markdown",
   "id": "64fccafb",
   "metadata": {},
   "source": [
    "### 2.2 Structures de contrôle\n",
    "\n",
    "Quelques exemples de structures de contrôle (conditions et boucles). Notez que l'**indentation** est une caractéristique essentielle de la syntaxe de Python. Contrairement à d'autres langages de programmation qui utilisent des accolades `{}` ou des mots-clés pour délimiter les blocs de code, Python utilise l'indentation pour définir la structure du code."
   ]
  },
  {
   "cell_type": "code",
   "execution_count": 44,
   "id": "5e43eb48",
   "metadata": {},
   "outputs": [
    {
     "name": "stdout",
     "output_type": "stream",
     "text": [
      "Vous êtes majeur.\n",
      "Toujours exécuté\n"
     ]
    }
   ],
   "source": [
    "age = 30\n",
    "if age >= 18:\n",
    "    print(\"Vous êtes majeur.\")\n",
    "else:\n",
    "    print(\"Vous êtes mineur.\")\n",
    "# Ce code n'est pas dans le bloc de l'if\n",
    "print(\"Toujours exécuté\")    \n"
   ]
  },
  {
   "cell_type": "code",
   "execution_count": 21,
   "id": "12512f2d",
   "metadata": {},
   "outputs": [
    {
     "name": "stdout",
     "output_type": "stream",
     "text": [
      "0\n",
      "1\n",
      "2\n",
      "3\n",
      "4\n"
     ]
    }
   ],
   "source": [
    "for i in range(5):\n",
    "    print(i)  # affichera les nombres de 0 à 4"
   ]
  },
  {
   "cell_type": "code",
   "execution_count": 29,
   "id": "63e6403d",
   "metadata": {},
   "outputs": [
    {
     "name": "stdout",
     "output_type": "stream",
     "text": [
      "5\n",
      "4\n",
      "3\n",
      "2\n",
      "1\n"
     ]
    }
   ],
   "source": [
    "a=5\n",
    "while a!=0:\n",
    "    print(a)\n",
    "    a-=1"
   ]
  },
  {
   "cell_type": "markdown",
   "id": "9d7c4546",
   "metadata": {},
   "source": [
    "Exemples d'erreurs d'indentation :"
   ]
  },
  {
   "cell_type": "code",
   "execution_count": 46,
   "id": "4108c6a0",
   "metadata": {},
   "outputs": [
    {
     "ename": "IndentationError",
     "evalue": "expected an indented block after 'for' statement on line 1 (1259332523.py, line 2)",
     "output_type": "error",
     "traceback": [
      "\u001b[0;36m  File \u001b[0;32m\"/var/folders/98/ddqky2dd5xl8r803rxh7yb5m0000gn/T/ipykernel_53072/1259332523.py\"\u001b[0;36m, line \u001b[0;32m2\u001b[0m\n\u001b[0;31m    print(i+Integer(1))\u001b[0m\n\u001b[0m    ^\u001b[0m\n\u001b[0;31mIndentationError\u001b[0m\u001b[0;31m:\u001b[0m expected an indented block after 'for' statement on line 1\n"
     ]
    }
   ],
   "source": [
    "for i in range(10):\n",
    "print(i+1)"
   ]
  },
  {
   "cell_type": "code",
   "execution_count": 47,
   "id": "12181d0b",
   "metadata": {},
   "outputs": [
    {
     "ename": "IndentationError",
     "evalue": "unexpected indent (2613883528.py, line 3)",
     "output_type": "error",
     "traceback": [
      "\u001b[0;36m  File \u001b[0;32m\"/var/folders/98/ddqky2dd5xl8r803rxh7yb5m0000gn/T/ipykernel_53072/2613883528.py\"\u001b[0;36m, line \u001b[0;32m3\u001b[0m\n\u001b[0;31m    print(j)\u001b[0m\n\u001b[0m    ^\u001b[0m\n\u001b[0;31mIndentationError\u001b[0m\u001b[0;31m:\u001b[0m unexpected indent\n"
     ]
    }
   ],
   "source": [
    "for i in range(10):\n",
    "    j=i+1\n",
    "        print(j)\n",
    "        "
   ]
  },
  {
   "cell_type": "markdown",
   "id": "cb41bcf1",
   "metadata": {},
   "source": [
    "### 2.3 Définire une fonction"
   ]
  },
  {
   "cell_type": "markdown",
   "id": "c647b0a6",
   "metadata": {},
   "source": [
    "Définition d'une fonction, qui permet de regrouper du code pour le réutiliser."
   ]
  },
  {
   "cell_type": "code",
   "execution_count": 24,
   "id": "5c2cb1be",
   "metadata": {},
   "outputs": [
    {
     "name": "stdout",
     "output_type": "stream",
     "text": [
      "Bonjour, Anna !\n"
     ]
    }
   ],
   "source": [
    "def salutation(nom):\n",
    "    return f\"Bonjour, {nom} !\"\n",
    "\n",
    "message = salutation(\"Anna\")\n",
    "print(message)"
   ]
  },
  {
   "cell_type": "code",
   "execution_count": 31,
   "id": "aa3e468a",
   "metadata": {},
   "outputs": [
    {
     "data": {
      "text/plain": [
       "7"
      ]
     },
     "execution_count": 31,
     "metadata": {},
     "output_type": "execute_result"
    }
   ],
   "source": [
    "def somme(a,b):\n",
    "    return a+b\n",
    "\n",
    "somme(4,3)"
   ]
  },
  {
   "cell_type": "markdown",
   "id": "5371ed0f",
   "metadata": {},
   "source": [
    "### 2.4 Listes et tuples\n",
    "Les structure natives (fondamentales) de Python pour stocker des séries de valeurs sont les listes (dont on peut changer le contenu) et les tuples (qui ne sont pas modifiables)."
   ]
  },
  {
   "cell_type": "code",
   "execution_count": null,
   "id": "653e54e4",
   "metadata": {},
   "outputs": [],
   "source": [
    "lst = [1, 2, 3, 4]  # Une liste est delimitée par [ et ]\n",
    "\n",
    "# L'indexation commence à 0, l'indice 1 correspond donc au 2ème élément\n",
    "lst[1] = -99\n",
    "\n",
    "# Résultat de la modification\n",
    "print(lst)"
   ]
  },
  {
   "cell_type": "code",
   "execution_count": 42,
   "id": "a12f6909",
   "metadata": {},
   "outputs": [],
   "source": [
    "tpl = (1, 2, 3, 4)  # Un tuple delimite par ( et )\n",
    "\n",
    "# L'instruction ci-dessous est illégale => Essayez (supprimer le symbole \"#\")\n",
    "#tpl[2] = 0  # -- TypeError: 'tuple' object does not support item assignment"
   ]
  },
  {
   "cell_type": "code",
   "execution_count": 34,
   "id": "f56ed9a3",
   "metadata": {},
   "outputs": [
    {
     "name": "stdout",
     "output_type": "stream",
     "text": [
      "mix_lst= [1, 'Coucou', 1/3, [1, 2]]\n"
     ]
    }
   ],
   "source": [
    "# Les listes peuvent également contenir des objets heteroclites\n",
    "mix_lst = [1, 'Coucou', 1/3, [1,2]]\n",
    "\n",
    "print(f'mix_lst= {mix_lst}')"
   ]
  },
  {
   "cell_type": "code",
   "execution_count": 38,
   "id": "c549a4eb",
   "metadata": {},
   "outputs": [
    {
     "name": "stdout",
     "output_type": "stream",
     "text": [
      "3\n"
     ]
    }
   ],
   "source": [
    "# Une liste de listes peut être utilisée pour stocker un tableau 2D de valeurs (par exemple une matrice)\n",
    "A = [[1, 0, 0],[0, 2, 0],[0, 0, 3]]\n",
    "\n",
    "print(A[2][2])"
   ]
  },
  {
   "cell_type": "code",
   "execution_count": null,
   "id": "799bc696",
   "metadata": {},
   "outputs": [],
   "source": []
  },
  {
   "cell_type": "markdown",
   "id": "c7a7483e-110f-4a7e-bec7-066a7b88cab9",
   "metadata": {},
   "source": [
    "**Exercice 1.** \n",
    "1. Créez une nouvelle cellule de code ci-dessous.\n",
    "2. Écrivez une fonction qui calcule la factorielle d'un nombre entier positif donné par l'utilisateur, c'est-à-dire le produit de tous les entiers de 1 à $n$.\n",
    "3. Calculez 2024!"
   ]
  },
  {
   "cell_type": "markdown",
   "id": "61debe3f",
   "metadata": {},
   "source": [
    "**Exercice 2.** \n",
    "1. Créez une nouvelle cellule de texte.\n",
    "2. Tapez votre formule de maths préférée en Latex et éxécutez !"
   ]
  },
  {
   "cell_type": "markdown",
   "id": "ad8f6f77",
   "metadata": {},
   "source": [
    "**Exercice 3.** La célèbrissime suite de Fibonacci $(F_n)_{n≥0}$ est définie par $F_0 = 0$, $F_1 = 1$ et $F_{n+2} = F_n + F_{n+1}$ pour $n ≥ 0$. Écrire une fonction `Fibo(n)` qui calcule le couple $(F_n , F_{n+1})$. L’idée est de partir avec le couple $(F_0,F_1)$, et à chaque itération de remplacer le couple $(F_i, F_{i+1})$ par $(F_{i+1}, F_{i+2})$. Calculer `Fibo(2024)`."
   ]
  },
  {
   "cell_type": "code",
   "execution_count": null,
   "id": "af5249ac",
   "metadata": {},
   "outputs": [],
   "source": []
  },
  {
   "cell_type": "markdown",
   "id": "f24f2fa4-782e-42de-8c08-4b7fc3879299",
   "metadata": {},
   "source": [
    "## 3. SageMath : au-delà de Python"
   ]
  },
  {
   "cell_type": "markdown",
   "id": "daa2cc72-7687-4660-9832-7fc7918b1c3e",
   "metadata": {},
   "source": [
    "SageMath est un logiciel libre et open source de calcul mathématique basé principalement sur sur Python, qui vise à intégrer et combiner différents outils mathématiques dans une seule plateforme. Elle offre une vaste collection de fonctions et d'objets déjà implémentés pour faciliter le travail dans divers domaines des mathématiques. Voici quelques exemples de fonctions et d'objets que vous pouvez utiliser dans SageMath :"
   ]
  },
  {
   "cell_type": "code",
   "execution_count": 49,
   "id": "7d600674",
   "metadata": {},
   "outputs": [
    {
     "data": {
      "text/plain": [
       "6460263446214926398052510226199790985387375890482144645958649662683760332267733851014700524912253548340662740320758479550870462950710541210114256001203182619263078629977074321149302129154405032365449154188462564858837516772284331365982120543656814786353914637906013049028747757418468322100672789667066615730603260622636356924703793570147797993547131319496078642460357268197320658715622239390607891890157067706779145414956041673814738203466315647965131970045671578384728387034156940073715727760635796459029118365934356032352238846225237932063700491663741277148122314527601584468737005048850304365143852284226398767699879623342462578604695003134417114511687579285325536111016330996051300430871823003300593014037164050826913277309566027356198779759767471021235541114195745288538647903013893833047467824459181563503369617909095343580165374951232118241306712347773406307741857691232291418296597635490315797583646305781206685022046282766171508495821464150090251539167261484286896838712372481489179238671912921505425770425261838605845665267197913407862278426528965985262820287731333301834025228633658812081367908816946990403092581520368143708743318721729876347356246608416500374753079055650483048841837841272676761906889614021097105058824428338117160941127604244793186458604455458655855760284940836429035363285093069104770759612580379843158660083446728086708133990983975041486268208785796843904663516388627125424952446270411395704547335095407764477860622896995399908272496176968841783028738879544837609111725719047908817535980555841792961912422299256008787099560572736469484472140982528510846150405840394623051150713710139066160430076136827022902435938593216037851285916641113526569137590288035463029188735503390387933570891442115703224772415188779452622347534612940438705275793091930118457661532044066216053077061323375063554502324441642457713740797458137782640263894891437878719137517691674898243217907030052090651895959851365405298671480924162321147046796694677054397147498070712453156890108384584358580265353992385521371145826722799820719004101463058033901430318180130801337514207158854542194919566082406442863543746866656424021960047307368000744354780317387999837309858987677677959957279356172826336630730837323771120357227016914987025978955136473245173531097963984531930577847028441640813733886027143532735999162462242038297685895984915613932408092434650318700698380533398518906470316456602515334125462072418898731409870680787148504689404265007175682907169143845077023595655250658192625492399236394999201807715962383951305372597882305079585087638237380004739008416055980046042118667621966903020005762139041623609677497482146787787738293353337297066592878840807644462089512162439136060854117196665411084506914787670057258645773079736657396686377931128544145435371891020871659295259982415054583878772459479843332097799936729583810631337670102579822411981740356555198768792466787602627645578114690649614212348075407594868695855763666912895052482541865676073732669042067494726792747850583323116032353918882002490065044155978237129773743603155820199223204882116656736747111422652649209273980801098703605759204622910794369264653030236748756291763620302590371784026985332599997367433875265659080040077152601759240871276233406871274350853410219568093767375976127953629845616455683239280615130379286000760813973852900564593812266820187863395431097371783494563671201953944142330268858140344898735585756278188877839171671493534189114189679449554976777562547563108504968274014247805902294529075583416555296085730470356715305956760172527415316186764650735860044943360657786375599873289325712969497717130929173036731039449145274815347613243666977166204109166005976179310579009128539821915882710350325776845339552716966255844588879664165153164153827514210901809995515559486766671101078101531513311801373936292021813735381196243942297450745397435147879414647193078511495554993310622021078013091740934850152455573649186325957660632319869252402791470598653390306887894852248070332628105353063922183216232919901134163999402264720594000857685009006040029523861996386611235492875281695009666270112797583066665057895327219529917476129777724071932350220765394894460623491343073050058216284275288898554404328442029414047970909651638752791209191449425594159523459087717092120743627374610950326654324252695481098366716196320802715867689629315830690741076887639684759622975986646949655510885584694109829985947537285233037538613498658508631226256762725088159265473395847060711299199162105091802668504461157646761834566119728197110872011264553459513684188962639697997320808885412134945451749587992912262128293557070253362395549676231971874917943424068104940911070940868082868088034096112180442971490795781014612598692147147243075823336234834088234839597756376235869995100458920914695331966917746666038260298092121095220423679022285922587343720244626345153811302436933869428379545911580507809347967495313228726046882885223181937169874192323779368275275109949715105777563253843729918009577959954109635038804929138520764601411956695355529840492279367480699758280223801472150926013056644956096265827149090487666820574934221633725217216349569648398577491166685908593117644512856291566656982001106010901794771100669396016835980126069291747128095059661750752642882866976592518192216401684919729155766103509296572269050886762185554798202457779129548800000000000000000000000000000000000000000000000000000000000000000000000000000000000000000000000000000000000000000000000000000000000000000000000000000000000000000000000000000000000000000000000000000000000000000000000000000000000000000000000000000000000000000000000000000000000000000000000000000000000000000000000000000000000000000000000000000000000000000000000000000000000000000000000000000000000000000000000000000000000000000000000000000000000000000000000000000000000000000000000000000000000000000000000"
      ]
     },
     "execution_count": 49,
     "metadata": {},
     "output_type": "execute_result"
    }
   ],
   "source": [
    "factorial(2024) "
   ]
  },
  {
   "cell_type": "code",
   "execution_count": 50,
   "id": "7e39a1fc",
   "metadata": {},
   "outputs": [
    {
     "data": {
      "text/plain": [
       "438024965198034283519299582778241330504336002348684411274498032453077628348287484242333557296076859088088761133451795723255093555443357704413566518499719325510376022995420790444508026299413523821069160149930476071516682428466128817182788866298726160661056091873637457566634786664372732162874903946050436597069387992545072372804143686673138888115269483257574609720066120482729859636564452364935823531746536065702700427873493"
      ]
     },
     "execution_count": 50,
     "metadata": {},
     "output_type": "execute_result"
    }
   ],
   "source": [
    "fibonacci(2024)"
   ]
  },
  {
   "cell_type": "markdown",
   "id": "fc4b6128-d711-4b08-8075-80de1a94a95a",
   "metadata": {},
   "source": [
    "SageMath propose la fonctionnalité de complétion par tabulation : tapez les premières lettres d'une fonction, puis appuyez sur la touche Tab. Par exemple, si vous tapez \"bi\" suivi de Tab, SageMath affichera \"bin\", \"binomial\", \"binomial_coefficients\". Cela constitue un bon moyen de trouver les noms des fonctions et autres structures dans SageMath. Testez cela par vous mêmes !"
   ]
  },
  {
   "cell_type": "code",
   "execution_count": null,
   "id": "31b3f9c6-6209-404d-b26a-b371abacb952",
   "metadata": {},
   "outputs": [],
   "source": []
  },
  {
   "cell_type": "markdown",
   "id": "2b3ea62f-bff0-4c74-9a9f-425656f6854d",
   "metadata": {},
   "source": [
    "Pour accéder à l’aide d’une méthode dans SageMath, vous pouvez utiliser la fonction intégrée `?`. Voici comment l'utiliser:\n",
    "\n",
    "1. Tapez le nom de la fonction ou de la méthode suivi d'un point d'interrogation `?`. Par exemple `parent?` affichera la documentation de la fonction parent.\n",
    "\n",
    "2. Pour obtenir plus de détails (source, exemples), utilisez deux points d'interrogation `??`. Cela affichera également le code source de la fonction si disponible, en plus de la documentation.\n",
    "\n",
    "3. Vous pouvez aussi utiliser la fonction help(). Par exemple vous pouvez taper `help(parent)` pour obtenir de l'aide sur la fonction parent.\n",
    "\n",
    "Testez cela sur deux, trois fonctions de votre choix."
   ]
  },
  {
   "cell_type": "code",
   "execution_count": null,
   "id": "d3489825-f151-4a2b-ae16-df9f62bd114c",
   "metadata": {},
   "outputs": [],
   "source": []
  },
  {
   "cell_type": "markdown",
   "id": "d74e814f-3850-42c8-a17a-5657681633a3",
   "metadata": {},
   "source": [
    "Par rapport à Python, SageMath introduit quelques différences de type ou de syntaxe. Par exemple, les entiers que vous entrez sont de type ZZ (Integer Ring) et non int. \n",
    "ZZ s'intègre avec d'autres outils mathématiques dans SageMath pour offrir des fonctionnalités comme le calcul du PGCD, la factorisation, la manipulation d'expressions algébriques, etc.\n"
   ]
  },
  {
   "cell_type": "markdown",
   "id": "b6f90013-96c4-4abe-a002-f2908bc82fda",
   "metadata": {},
   "source": [
    "**Exercice 4.** Définir une variable $n$ avec une valeur entière dans la première cellule, puis écrire `n.` dans la seconde cellule et appuyer sur Tab pour voir toutes les méthodes rattachées à un entier. Chercher celle qui vous semble calculer l'ensemble des diviseurs de $n$, et vérifier avec quelques exemples. (Utilisez la fonction `?` ou `help()` si besoin)."
   ]
  },
  {
   "cell_type": "code",
   "execution_count": 56,
   "id": "5aa27662-5fcd-46a5-b08a-002af63967bb",
   "metadata": {},
   "outputs": [],
   "source": []
  },
  {
   "cell_type": "code",
   "execution_count": null,
   "id": "892b5c6a-9440-4c07-965e-2bdc82cc4c66",
   "metadata": {},
   "outputs": [],
   "source": []
  },
  {
   "cell_type": "markdown",
   "id": "bc140930-3232-4f1f-b8db-ccf3f6a4a152",
   "metadata": {},
   "source": [
    "## 4. Pratiquer avec l'algorithme d'Euclide"
   ]
  },
  {
   "cell_type": "markdown",
   "id": "1872e676",
   "metadata": {},
   "source": [
    "L'algorithme d'Euclide est l'un des algorithmes les plus anciens de l'histoire, datant d'environ 300 av. J.-C., qui sert à calculer le plus grand commun diviseur (PGCD) de deux entiers. On rappelle comment cela marche.\n",
    "\n",
    "Pour deux entiers $a$ et $b$ (où $a \\geq b$), le PGCD peut être trouvé en répétant les étapes suivantes :\n",
    "\n",
    "1. Diviser $a$ par $b$ pour obtenir le reste $r$.\n",
    "2. Remplacer $a$ par $b$ et $b$ par $r$.\n",
    "3. Répéter jusqu'à ce que $b = 0$. À ce moment-là, $a$ sera le PGCD.\n",
    "\n",
    "**La fonction `divmod(a, b)`.**\n",
    "La fonction `divmod(a, b)` renvoie un tuple contenant le quotient et le reste de la division de $a$ par $b$.  En d'autres termes, si $a = bq + r$ (où $q$ est le quotient et $r$ est le reste), alors `divmod(a, b)` retourne `(q, r)`.\n"
   ]
  },
  {
   "cell_type": "code",
   "execution_count": 61,
   "id": "77391677",
   "metadata": {},
   "outputs": [
    {
     "data": {
      "text/plain": [
       "(6, 5)"
      ]
     },
     "execution_count": 61,
     "metadata": {},
     "output_type": "execute_result"
    }
   ],
   "source": [
    "divmod(47,7)"
   ]
  },
  {
   "cell_type": "markdown",
   "id": "2ee73acb-9194-4f1f-ace4-02d9f5ce4f5e",
   "metadata": {},
   "source": [
    "**Exercice 5.** \n",
    "1. Écrire une fonction `Euclide(a,b)` qui calcule le pgcd de deux entiers en utilisant l’algorithme d’Euclide.\n",
    "2. Testez cela pour les couples de valeurs (49,14), (1,2024), (2024,-2024), (0,2024) et avec des entiers positifs aléatoires (Lire la documentation, par exemple `ZZ.random_element?`, pour générer des entiers aléatoires.) \n",
    "3. Déterminer le temps de calcul moyen pour des entiers positifs aléatoires. \n",
    "4. La suite de Fibonacci a la propriété que les pires entrées pour l’algorithme d’Euclide sont lorsque les deux entiers sont deux éléments consécutifs de la suite de Fibonacci. Tester les algorithmes d’Euclide sur des éléments consécutifs de la suite de Fibonacci. À partir de quelle valeur (approximative) de $n$ l' algorithme plante-il quand il est appelé avec $F_n$ et $F_{n+1}$ ?\n",
    "5. Comparer les temps de calcul de votre fonction `Euclide(a,b)` avec celle déjà implémentée dans SageMath `gcd(a,b)` (Greatest Common Divisor).\n",
    "6. Aussi la fonction `xgcd` (Extended Greatest Common Divisor) calcule le pdcd entre $a$ et $b$, mais elle offre des fonctionnalités supplémentaires par rapport à `gcd`. Lesquelles ?\n",
    "\n",
    "**Pour mésurer le temps de calcul,** *dans la console Ipython ou le notebook Jupyter, les « commandes magiques » `%time` et `%timeit` permettent de mesurer des temps de calculs de manières très simple. Par exemple, il suffit d’écrire `%time Euclide(a,b)` pour mesurer le temps d’exécution de l’appel. La commande `%timeit` exécute plusieurs fois l’appel et renvoie une moyenne des temps de calcul (qui est donc moins sujette aux aléas).*"
   ]
  },
  {
   "cell_type": "code",
   "execution_count": null,
   "id": "c966589a-0e25-4433-9ae8-d6bf96bd1479",
   "metadata": {},
   "outputs": [],
   "source": []
  },
  {
   "cell_type": "code",
   "execution_count": null,
   "id": "4a8516b2-8482-4dfe-b1a6-99f4f71b1445",
   "metadata": {},
   "outputs": [],
   "source": []
  },
  {
   "cell_type": "code",
   "execution_count": null,
   "id": "75ff90a0-2f2a-4bb9-8634-7c3181259cdb",
   "metadata": {},
   "outputs": [],
   "source": []
  },
  {
   "cell_type": "code",
   "execution_count": null,
   "id": "05d5bb7d",
   "metadata": {},
   "outputs": [],
   "source": []
  },
  {
   "cell_type": "markdown",
   "id": "83d5d93e",
   "metadata": {},
   "source": [
    "## 5. Le crible d’Ératosthène\n",
    "Le *crible d'Ératosthène* est un algorithme ancien et efficace pour trouver tous les nombres premiers inférieurs ou égaux à un certain nombre $n$. Il a été inventé par le mathématicien grec Ératosthène au 3e siècle avant J.-C.\n",
    "\n",
    "Il se base sur le résultat suivant:\n",
    "\n",
    "<p style=\"text-align:center;\"><em>Un entier $n\\geq 2$ est premier si et seulement si $n$ n'admet pas de diviseurs premiers inférieurs ou égaux à $\\sqrt{n}$.</em></p>\n",
    "\n",
    "Donc voici comment ça marche: on écrit une liste des nombres de $2$ à $n$, puis on barre les multiples des nombres premiers inférieurs ou égaux à $\\sqrt{n}$. Les entiers restants sont premiers.\n",
    "\n",
    "**Exercice 6.** Écrire une fonction `Crible(n)`qui, étant donné un entier $n$, renvoie la liste des nombres premiers inférieurs ou égaux à $n$. *[Indication : la fonction correspondante à $\\sqrt{n}$ s’écrit sqrt(n).]*"
   ]
  },
  {
   "cell_type": "code",
   "execution_count": null,
   "id": "e1f66583",
   "metadata": {},
   "outputs": [],
   "source": []
  },
  {
   "cell_type": "markdown",
   "id": "38c3e6ff",
   "metadata": {},
   "source": [
    "La fonction que vous venez d'écrire correspond à la fonction `prime_range(n)` dans Sagemath. D'autres fonctions utiles en lien avec les nombres premiers sont :\n",
    "\n",
    "`is_prime(n)` or `n.is_prime()`\n",
    "\n",
    "`next_prime(n)` or `n.next_prime()`\n",
    "\n",
    "`factor(n)` or `n.factor()`"
   ]
  },
  {
   "cell_type": "code",
   "execution_count": null,
   "id": "98411133",
   "metadata": {},
   "outputs": [],
   "source": []
  }
 ],
 "metadata": {
  "kernelspec": {
   "display_name": "SageMath 9.6",
   "language": "sage",
   "name": "sagemath-9.6"
  },
  "language_info": {
   "codemirror_mode": {
    "name": "ipython",
    "version": 3
   },
   "file_extension": ".py",
   "mimetype": "text/x-python",
   "name": "python",
   "nbconvert_exporter": "python",
   "pygments_lexer": "ipython3",
   "version": "3.10.3"
  }
 },
 "nbformat": 4,
 "nbformat_minor": 5
}
