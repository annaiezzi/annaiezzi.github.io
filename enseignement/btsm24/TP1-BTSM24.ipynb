{
 "cells": [
  {
   "cell_type": "markdown",
   "id": "2ed1b8af-8c8f-49fc-8556-1a9ca7162cd9",
   "metadata": {},
   "source": [
    "# TP1 – BTSM24"
   ]
  },
  {
   "cell_type": "markdown",
   "id": "481f8b11-421f-476c-806e-9072aedda96a",
   "metadata": {},
   "source": [
    "## 0. Qu'est-ce qu'un Jupyter Notebook ?\n",
    "\n",
    "Un **Jupyter Notebook** est un environnement interactif qui vous permet de combiner du **code**, du **texte explicatif**, des **équations mathématiques**, des **visualisations** et d'autres éléments en un seul document. \n",
    "Il se compose de plusieurs **cellules**, qui peuvent contenir du **code** ou du **texte**.\n",
    "\n",
    "\n",
    "### Comment exécuter une cellule ?\n",
    "Les cellules de code doivent être exécutées pour que le code soit pris en compte. Le résultat de l'exécution (ou bien l'erreur !) apparaît alors juste en dessous. Pour exécuter une cellule:\n",
    "\n",
    "1. Sélectionnez une cellule de **code** (elle aura un cadre autour et affichera `[ ]:` à côté).\n",
    "2. Appuyez sur **`Shift + Entrée`** pour exécuter le contenu de la cellule.\n",
    "3. Les résultats de la cellule s'afficheront juste en dessous. \n",
    "\n",
    "Pour exécuter une cellule vous pouvez aussi cliquer sur le bouton \"Run\" dans la barre d'outils. \n",
    "\n",
    "Exécutez les deux cellules de code suivantes :"
   ]
  },
  {
   "cell_type": "code",
   "execution_count": null,
   "id": "31b5acd9",
   "metadata": {},
   "outputs": [],
   "source": [
    "print(\"Bienvenue au cours de SageMath!\")"
   ]
  },
  {
   "cell_type": "code",
   "execution_count": null,
   "id": "13b3d1c4",
   "metadata": {},
   "outputs": [],
   "source": [
    "1+1"
   ]
  },
  {
   "cell_type": "markdown",
   "id": "3a0709fd",
   "metadata": {},
   "source": [
    "## 1. Sage comme une calculatrice"
   ]
  },
  {
   "cell_type": "markdown",
   "id": "af30b54d",
   "metadata": {},
   "source": [
    "Sage peut être utiliser comme une calculatrice. Le caractère `*` représente la multiplication, qui ne doit pas être omise, même dans des expressions comme $2x$. L'opération de puissance est écrite `^` ou `**`. La division est notée `\\`."
   ]
  },
  {
   "cell_type": "code",
   "execution_count": null,
   "id": "c78666f6",
   "metadata": {},
   "outputs": [],
   "source": [
    "2^100"
   ]
  },
  {
   "cell_type": "code",
   "execution_count": null,
   "id": "6ececab9",
   "metadata": {},
   "outputs": [],
   "source": [
    "2**100"
   ]
  },
  {
   "cell_type": "code",
   "execution_count": null,
   "id": "6ec8c8e5",
   "metadata": {},
   "outputs": [],
   "source": [
    "20/6"
   ]
  },
  {
   "cell_type": "markdown",
   "id": "cf64d8bf",
   "metadata": {},
   "source": [
    "Notez que le résultat de la division ci-dessus, après simplification, est le nombre rationnel 10/3 et non une approximation comme 3,33333. Pour obtenir une approximation numérique, il suffit d'écrire l'un des nombres avec un point décimal (on pourrait remplacer 20. par 20.0 ou 20.000)."
   ]
  },
  {
   "cell_type": "code",
   "execution_count": null,
   "id": "2f6e2a79",
   "metadata": {},
   "outputs": [],
   "source": [
    "20./6"
   ]
  },
  {
   "cell_type": "markdown",
   "id": "f85e21b9",
   "metadata": {},
   "source": [
    "## 2. Une initiation à Python (si besoin)"
   ]
  },
  {
   "cell_type": "markdown",
   "id": "2ff28330",
   "metadata": {},
   "source": [
    "SageMath utilise Python comme langage principal pour écrire du code. Python est un langage de programmation très populaire, connu pour sa simplicité et sa lisibilité."
   ]
  },
  {
   "cell_type": "code",
   "execution_count": null,
   "id": "4397dbb5",
   "metadata": {},
   "outputs": [],
   "source": [
    "# Ceci est un commentaire, il ne sera pas exécuté\n",
    "\n",
    "\"\"\"\n",
    "On peut écrire un commentaire sur plusieurs ligne en utilisant les\n",
    "triple guillemets\n",
    "\"\"\"\n",
    "\n",
    "print(\"Hello World!\")"
   ]
  },
  {
   "cell_type": "markdown",
   "id": "17924f53",
   "metadata": {},
   "source": [
    "### 2.1 Variables\n",
    "Python prend en charge plusieurs types de données comme les entiers, les flottants, les chaînes de caractères, etc. Python stocke la valeur dans une variable, et vous pouvez afficher les valeurs avec la fonction print()."
   ]
  },
  {
   "cell_type": "code",
   "execution_count": null,
   "id": "61448541",
   "metadata": {},
   "outputs": [],
   "source": [
    "x = 10  # un entier\n",
    "y = 3.14  # un nombre à virgule flottante\n",
    "nom = \"Anna\"  # une chaîne de caractères\n",
    "print(x, y, nom)"
   ]
  },
  {
   "cell_type": "code",
   "execution_count": null,
   "id": "8ca32b05",
   "metadata": {},
   "outputs": [],
   "source": [
    "# Python est un langage intuitif\n",
    "a = 12\n",
    "b = 5\n",
    "print(a-b)\n",
    "print(a*b, a+b)\n",
    "print(f'a/b= {a/b}') "
   ]
  },
  {
   "cell_type": "markdown",
   "id": "d0a3404c",
   "metadata": {},
   "source": [
    "Notez le `f` dans `print(f'a/b= {a/b}')` fait référence à une **f-string** (abréviation de **formatted string**), introduite dans Python 3.6. C'est une manière pratique de formater des chaînes de caractères en intégrant des expressions Python directement à l'intérieur des accolades `{}`.\n",
    "\n",
    "Dans ce cas, `f'a/b= {a/b}'` permet d'insérer la valeur de l'expression `a/b` dans la chaîne de caractères. Python évalue l'expression entre accolades et remplace le résultat dans la chaîne.\n"
   ]
  },
  {
   "cell_type": "markdown",
   "id": "64fccafb",
   "metadata": {},
   "source": [
    "### 2.2 Structures de contrôle\n",
    "\n",
    "Quelques exemples de structures de contrôle (conditions et boucles). Notez que l'**indentation** est une caractéristique essentielle de la syntaxe de Python. Contrairement à d'autres langages de programmation qui utilisent des accolades `{}` ou des mots-clés pour délimiter les blocs de code, Python utilise l'indentation pour définir la structure du code."
   ]
  },
  {
   "cell_type": "code",
   "execution_count": null,
   "id": "5e43eb48",
   "metadata": {},
   "outputs": [],
   "source": [
    "age = 30\n",
    "if age >= 18:\n",
    "    print(\"Vous êtes majeur.\")\n",
    "else:\n",
    "    print(\"Vous êtes mineur.\")\n",
    "# Ce code n'est pas dans le bloc de l'if\n",
    "print(\"Toujours exécuté\")    \n"
   ]
  },
  {
   "cell_type": "code",
   "execution_count": null,
   "id": "12512f2d",
   "metadata": {},
   "outputs": [],
   "source": [
    "for i in range(5):\n",
    "    print(i)  # affichera les nombres de 0 à 4"
   ]
  },
  {
   "cell_type": "code",
   "execution_count": null,
   "id": "63e6403d",
   "metadata": {},
   "outputs": [],
   "source": [
    "a=5\n",
    "while a!=0:\n",
    "    print(a)\n",
    "    a-=1"
   ]
  },
  {
   "cell_type": "markdown",
   "id": "9d7c4546",
   "metadata": {},
   "source": [
    "Exemples d'erreurs d'indentation :"
   ]
  },
  {
   "cell_type": "code",
   "execution_count": null,
   "id": "4108c6a0",
   "metadata": {},
   "outputs": [],
   "source": [
    "for i in range(10):\n",
    "print(i+1)"
   ]
  },
  {
   "cell_type": "code",
   "execution_count": null,
   "id": "12181d0b",
   "metadata": {},
   "outputs": [],
   "source": [
    "for i in range(10):\n",
    "    j=i+1\n",
    "        print(j)\n",
    "        "
   ]
  },
  {
   "cell_type": "markdown",
   "id": "cb41bcf1",
   "metadata": {},
   "source": [
    "### 2.3 Définire une fonction"
   ]
  },
  {
   "cell_type": "markdown",
   "id": "c647b0a6",
   "metadata": {},
   "source": [
    "Définition d'une fonction, qui permet de regrouper du code pour le réutiliser."
   ]
  },
  {
   "cell_type": "code",
   "execution_count": null,
   "id": "5c2cb1be",
   "metadata": {},
   "outputs": [],
   "source": [
    "def salutation(nom):\n",
    "    return f\"Bonjour, {nom} !\"\n",
    "\n",
    "message = salutation(\"Anna\")\n",
    "print(message)"
   ]
  },
  {
   "cell_type": "code",
   "execution_count": null,
   "id": "aa3e468a",
   "metadata": {},
   "outputs": [],
   "source": [
    "def somme(a,b):\n",
    "    return a+b\n",
    "\n",
    "somme(4,3)"
   ]
  },
  {
   "cell_type": "markdown",
   "id": "5371ed0f",
   "metadata": {},
   "source": [
    "### 2.4 Listes et tuples\n",
    "Les structure natives (fondamentales) de Python pour stocker des séries de valeurs sont les listes (dont on peut changer le contenu) et les tuples (qui ne sont pas modifiables)."
   ]
  },
  {
   "cell_type": "code",
   "execution_count": null,
   "id": "653e54e4",
   "metadata": {},
   "outputs": [],
   "source": [
    "lst = [1, 2, 3, 4]  # Une liste est delimitée par [ et ]\n",
    "\n",
    "# L'indexation commence à 0, l'indice 1 correspond donc au 2ème élément\n",
    "lst[1] = -99\n",
    "\n",
    "# Résultat de la modification\n",
    "print(lst)"
   ]
  },
  {
   "cell_type": "code",
   "execution_count": null,
   "id": "a12f6909",
   "metadata": {},
   "outputs": [],
   "source": [
    "tpl = (1, 2, 3, 4)  # Un tuple delimite par ( et )\n",
    "\n",
    "# L'instruction ci-dessous est illégale => Essayez (supprimer le symbole \"#\")\n",
    "#tpl[2] = 0  # -- TypeError: 'tuple' object does not support item assignment"
   ]
  },
  {
   "cell_type": "code",
   "execution_count": null,
   "id": "f56ed9a3",
   "metadata": {},
   "outputs": [],
   "source": [
    "# Les listes peuvent également contenir des objets heteroclites\n",
    "mix_lst = [1, 'Coucou', 1/3, [1,2]]\n",
    "\n",
    "print(f'mix_lst= {mix_lst}')"
   ]
  },
  {
   "cell_type": "code",
   "execution_count": null,
   "id": "c549a4eb",
   "metadata": {},
   "outputs": [],
   "source": [
    "# Une liste de listes peut être utilisée pour stocker un tableau 2D de valeurs (par exemple une matrice)\n",
    "A = [[1, 0, 0],[0, 2, 0],[0, 0, 3]]\n",
    "\n",
    "print(A[2][2])"
   ]
  },
  {
   "cell_type": "code",
   "execution_count": null,
   "id": "799bc696",
   "metadata": {},
   "outputs": [],
   "source": []
  },
  {
   "cell_type": "markdown",
   "id": "c7a7483e-110f-4a7e-bec7-066a7b88cab9",
   "metadata": {},
   "source": [
    "**Exercice 1.** \n",
    "1. Créez une nouvelle cellule de code ci-dessous.\n",
    "2. Écrivez une fonction qui calcule la factorielle d'un nombre entier positif donné par l'utilisateur, c'est-à-dire le produit de tous les entiers de 1 à $n$.\n",
    "3. Calculez 2024!"
   ]
  },
  {
   "cell_type": "markdown",
   "id": "61debe3f",
   "metadata": {},
   "source": [
    "**Exercice 2.** \n",
    "1. Créez une nouvelle cellule de texte.\n",
    "2. Tapez votre formule de maths préférée en Latex et éxécutez !"
   ]
  },
  {
   "cell_type": "markdown",
   "id": "ad8f6f77",
   "metadata": {},
   "source": [
    "**Exercice 3.** La célèbrissime suite de Fibonacci $(F_n)_{n≥0}$ est définie par $F_0 = 0$, $F_1 = 1$ et $F_{n+2} = F_n + F_{n+1}$ pour $n ≥ 0$. Écrire une fonction `Fibo(n)` qui calcule le couple $(F_n , F_{n+1})$. L’idée est de partir avec le couple $(F_0,F_1)$, et à chaque itération de remplacer le couple $(F_i, F_{i+1})$ par $(F_{i+1}, F_{i+2})$. Calculer `Fibo(2024)`."
   ]
  },
  {
   "cell_type": "code",
   "execution_count": null,
   "id": "af5249ac",
   "metadata": {},
   "outputs": [],
   "source": []
  },
  {
   "cell_type": "markdown",
   "id": "f24f2fa4-782e-42de-8c08-4b7fc3879299",
   "metadata": {},
   "source": [
    "## 3. SageMath : au-delà de Python"
   ]
  },
  {
   "cell_type": "markdown",
   "id": "daa2cc72-7687-4660-9832-7fc7918b1c3e",
   "metadata": {},
   "source": [
    "SageMath est un logiciel libre et open source de calcul mathématique basé principalement sur sur Python, qui vise à intégrer et combiner différents outils mathématiques dans une seule plateforme. Elle offre une vaste collection de fonctions et d'objets déjà implémentés pour faciliter le travail dans divers domaines des mathématiques. Voici quelques exemples de fonctions et d'objets que vous pouvez utiliser dans SageMath :"
   ]
  },
  {
   "cell_type": "code",
   "execution_count": null,
   "id": "7d600674",
   "metadata": {},
   "outputs": [],
   "source": [
    "factorial(2024) "
   ]
  },
  {
   "cell_type": "code",
   "execution_count": null,
   "id": "7e39a1fc",
   "metadata": {},
   "outputs": [],
   "source": [
    "fibonacci(2024)"
   ]
  },
  {
   "cell_type": "markdown",
   "id": "fc4b6128-d711-4b08-8075-80de1a94a95a",
   "metadata": {},
   "source": [
    "SageMath propose la fonctionnalité de complétion par tabulation : tapez les premières lettres d'une fonction, puis appuyez sur la touche Tab. Par exemple, si vous tapez \"bi\" suivi de Tab, SageMath affichera \"bin\", \"binomial\", \"binomial_coefficients\". Cela constitue un bon moyen de trouver les noms des fonctions et autres structures dans SageMath. Testez cela par vous mêmes !"
   ]
  },
  {
   "cell_type": "code",
   "execution_count": null,
   "id": "31b3f9c6-6209-404d-b26a-b371abacb952",
   "metadata": {},
   "outputs": [],
   "source": []
  },
  {
   "cell_type": "markdown",
   "id": "2b3ea62f-bff0-4c74-9a9f-425656f6854d",
   "metadata": {},
   "source": [
    "Pour accéder à l’aide d’une méthode dans SageMath, vous pouvez utiliser la fonction intégrée `?`. Voici comment l'utiliser:\n",
    "\n",
    "1. Tapez le nom de la fonction ou de la méthode suivi d'un point d'interrogation `?`. Par exemple `parent?` affichera la documentation de la fonction parent.\n",
    "\n",
    "2. Pour obtenir plus de détails (source, exemples), utilisez deux points d'interrogation `??`. Cela affichera également le code source de la fonction si disponible, en plus de la documentation.\n",
    "\n",
    "3. Vous pouvez aussi utiliser la fonction help(). Par exemple vous pouvez taper `help(parent)` pour obtenir de l'aide sur la fonction parent.\n",
    "\n",
    "Testez cela sur deux, trois fonctions de votre choix."
   ]
  },
  {
   "cell_type": "code",
   "execution_count": null,
   "id": "d3489825-f151-4a2b-ae16-df9f62bd114c",
   "metadata": {},
   "outputs": [],
   "source": []
  },
  {
   "cell_type": "markdown",
   "id": "d74e814f-3850-42c8-a17a-5657681633a3",
   "metadata": {},
   "source": [
    "Par rapport à Python, SageMath introduit quelques différences de type ou de syntaxe. Par exemple, les entiers que vous entrez sont de type ZZ (Integer Ring) et non int. \n",
    "ZZ s'intègre avec d'autres outils mathématiques dans SageMath pour offrir des fonctionnalités comme le calcul du PGCD, la factorisation, la manipulation d'expressions algébriques, etc.\n"
   ]
  },
  {
   "cell_type": "markdown",
   "id": "b6f90013-96c4-4abe-a002-f2908bc82fda",
   "metadata": {},
   "source": [
    "**Exercice 4.** Définir une variable $n$ avec une valeur entière dans la première cellule, puis écrire `n.` dans la seconde cellule et appuyer sur Tab pour voir toutes les méthodes rattachées à un entier. Chercher celle qui vous semble calculer l'ensemble des diviseurs de $n$, et vérifier avec quelques exemples. (Utilisez la fonction `?` ou `help()` si besoin)."
   ]
  },
  {
   "cell_type": "code",
   "execution_count": null,
   "id": "5aa27662-5fcd-46a5-b08a-002af63967bb",
   "metadata": {},
   "outputs": [],
   "source": []
  },
  {
   "cell_type": "code",
   "execution_count": null,
   "id": "892b5c6a-9440-4c07-965e-2bdc82cc4c66",
   "metadata": {},
   "outputs": [],
   "source": []
  },
  {
   "cell_type": "markdown",
   "id": "bc140930-3232-4f1f-b8db-ccf3f6a4a152",
   "metadata": {},
   "source": [
    "## 4. Pratiquer avec l'algorithme d'Euclide"
   ]
  },
  {
   "cell_type": "markdown",
   "id": "1872e676",
   "metadata": {},
   "source": [
    "L'algorithme d'Euclide est l'un des algorithmes les plus anciens de l'histoire, datant d'environ 300 av. J.-C., qui sert à calculer le plus grand commun diviseur (PGCD) de deux entiers. On rappelle comment cela marche.\n",
    "\n",
    "Pour deux entiers $a$ et $b$ (où $a \\geq b$), le PGCD peut être trouvé en répétant les étapes suivantes :\n",
    "\n",
    "1. Diviser $a$ par $b$ pour obtenir le reste $r$.\n",
    "2. Remplacer $a$ par $b$ et $b$ par $r$.\n",
    "3. Répéter jusqu'à ce que $b = 0$. À ce moment-là, $a$ sera le PGCD.\n",
    "\n",
    "**La fonction `divmod(a, b)`.**\n",
    "La fonction `divmod(a, b)` renvoie un tuple contenant le quotient et le reste de la division de $a$ par $b$.  En d'autres termes, si $a = bq + r$ (où $q$ est le quotient et $r$ est le reste), alors `divmod(a, b)` retourne `(q, r)`.\n"
   ]
  },
  {
   "cell_type": "code",
   "execution_count": null,
   "id": "77391677",
   "metadata": {},
   "outputs": [],
   "source": [
    "divmod(47,7)"
   ]
  },
  {
   "cell_type": "markdown",
   "id": "2ee73acb-9194-4f1f-ace4-02d9f5ce4f5e",
   "metadata": {},
   "source": [
    "**Exercice 5.** \n",
    "1. Écrire une fonction `Euclide(a,b)` qui calcule le pgcd de deux entiers en utilisant l’algorithme d’Euclide.\n",
    "2. Testez cela pour les couples de valeurs (49,14), (1,2024), (2024,-2024), (0,2024) et avec des entiers positifs aléatoires (Lire la documentation, par exemple `ZZ.random_element?`, pour générer des entiers aléatoires.) \n",
    "3. Déterminer le temps de calcul moyen pour des entiers positifs aléatoires. \n",
    "4. La suite de Fibonacci a la propriété que les pires entrées pour l’algorithme d’Euclide sont lorsque les deux entiers sont deux éléments consécutifs de la suite de Fibonacci. Tester les algorithmes d’Euclide sur des éléments consécutifs de la suite de Fibonacci. À partir de quelle valeur (approximative) de $n$ l' algorithme plante-il quand il est appelé avec $F_n$ et $F_{n+1}$ ?\n",
    "5. Comparer les temps de calcul de votre fonction `Euclide(a,b)` avec celle déjà implémentée dans SageMath `gcd(a,b)` (Greatest Common Divisor).\n",
    "6. Aussi la fonction `xgcd` (Extended Greatest Common Divisor) calcule le pdcd entre $a$ et $b$, mais elle offre des fonctionnalités supplémentaires par rapport à `gcd`. Lesquelles ?\n",
    "\n",
    "**Pour mésurer le temps de calcul,** *dans la console Ipython ou le notebook Jupyter, les « commandes magiques » `%time` et `%timeit` permettent de mesurer des temps de calculs de manières très simple. Par exemple, il suffit d’écrire `%time Euclide(a,b)` pour mesurer le temps d’exécution de l’appel. La commande `%timeit` exécute plusieurs fois l’appel et renvoie une moyenne des temps de calcul (qui est donc moins sujette aux aléas).*"
   ]
  },
  {
   "cell_type": "code",
   "execution_count": null,
   "id": "c966589a-0e25-4433-9ae8-d6bf96bd1479",
   "metadata": {},
   "outputs": [],
   "source": []
  },
  {
   "cell_type": "code",
   "execution_count": null,
   "id": "4a8516b2-8482-4dfe-b1a6-99f4f71b1445",
   "metadata": {},
   "outputs": [],
   "source": []
  },
  {
   "cell_type": "code",
   "execution_count": null,
   "id": "75ff90a0-2f2a-4bb9-8634-7c3181259cdb",
   "metadata": {},
   "outputs": [],
   "source": []
  },
  {
   "cell_type": "code",
   "execution_count": null,
   "id": "05d5bb7d",
   "metadata": {},
   "outputs": [],
   "source": []
  },
  {
   "cell_type": "markdown",
   "id": "83d5d93e",
   "metadata": {},
   "source": [
    "## 5. Le crible d’Ératosthène\n",
    "Le *crible d'Ératosthène* est un algorithme ancien et efficace pour trouver tous les nombres premiers inférieurs ou égaux à un certain nombre $n$. Il a été inventé par le mathématicien grec Ératosthène au 3e siècle avant J.-C.\n",
    "\n",
    "Il se base sur le résultat suivant:\n",
    "\n",
    "<p style=\"text-align:center;\"><em>Un entier $n\\geq 2$ est premier si et seulement si $n$ n'admet pas de diviseurs premiers inférieurs ou égaux à $\\sqrt{n}$.</em></p>\n",
    "\n",
    "Donc voici comment ça marche: on écrit une liste des nombres de $2$ à $n$, puis on barre les multiples des nombres premiers inférieurs ou égaux à $\\sqrt{n}$. Les entiers restants sont premiers.\n",
    "\n",
    "**Exercice 6.** Écrire une fonction `Crible(n)`qui, étant donné un entier $n$, renvoie la liste des nombres premiers inférieurs ou égaux à $n$. *[Indication : la fonction correspondante à $\\sqrt{n}$ s’écrit sqrt(n).]*"
   ]
  },
  {
   "cell_type": "code",
   "execution_count": null,
   "id": "e1f66583",
   "metadata": {},
   "outputs": [],
   "source": []
  },
  {
   "cell_type": "markdown",
   "id": "38c3e6ff",
   "metadata": {},
   "source": [
    "La fonction que vous venez d'écrire correspond à la fonction `prime_range(n)` dans Sagemath. D'autres fonctions utiles en lien avec les nombres premiers sont :\n",
    "\n",
    "`is_prime(n)` or `n.is_prime()`\n",
    "\n",
    "`next_prime(n)` or `n.next_prime()`\n",
    "\n",
    "`factor(n)` or `n.factor()`"
   ]
  },
  {
   "cell_type": "code",
   "execution_count": null,
   "id": "98411133",
   "metadata": {},
   "outputs": [],
   "source": []
  }
 ],
 "metadata": {
  "kernelspec": {
   "display_name": "SageMath 9.6",
   "language": "sage",
   "name": "sagemath-9.6"
  },
  "language_info": {
   "codemirror_mode": {
    "name": "ipython",
    "version": 3
   },
   "file_extension": ".py",
   "mimetype": "text/x-python",
   "name": "python",
   "nbconvert_exporter": "python",
   "pygments_lexer": "ipython3",
   "version": "3.10.3"
  }
 },
 "nbformat": 4,
 "nbformat_minor": 5
}
